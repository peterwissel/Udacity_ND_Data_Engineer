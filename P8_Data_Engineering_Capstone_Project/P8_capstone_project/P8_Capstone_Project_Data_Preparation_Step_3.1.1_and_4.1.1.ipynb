{
 "cells": [
  {
   "cell_type": "markdown",
   "source": [
    "# Project 08 - Analysis of U.S. Immigration (I-94) Data\n",
    "### Udacity Data Engineer - Capstone Project\n",
    "> by Peter Wissel | 2021-05-05\n",
    "\n",
    "## Project Overview\n",
    "This project works with a data set for immigration to the United States. The supplementary datasets will include data on\n",
    "airport codes, U.S. city demographics and temperature data.\n",
    "\n",
    "The following process is divided into five sub-steps to illustrate how to answer the questions set by the business\n",
    "analytics team.\n",
    "\n",
    "The project file follows the following steps:\n",
    "* Step 3: Define the Data Model\n",
    "* Step 4: Run ETL to Model the Data\n",
    "\n",
    "\n",
    "##### 3.1.1. From which country do immigrants come to the U.S. and how many? [(Data pipeline)](#question1_data_pipeline) <a name=\"question1_description\">\n",
    "1. Clean data and create staging table `st_i94_immigration` from files `i94_<month>16_sub.sas7bdat`\n",
    "2. Clean data and create staging table `st_immigration_countries` from file\n",
    "   [`I94_SAS_Labels_I94CIT_I94RES.txt`](../P8_capstone_resource_files/I94_sas_labels_descriptions_extracted_data/I94_SAS_Labels_I94CIT_I94RES.txt)\n",
    "3. Creation of a fact table named `f_i94_immigration` based on staging table `st_i94_immigration`.\n",
    "4. Creation of a dimension named `d_immigration_countries` based on staging table `st_immigration_countries`.\n",
    "5. Mapping of dimension `d_immigration_countries` to  fact table `f_i94_immigration` based on columns\n",
    "   (`st_i94_immigration.st_i94_cit` --> `f_i94_immigration.d_ic_id`) == (`st_immigration_countries.st_ic_country_code`\n",
    "   --> `d_immigration_countries.d_ic_id` )\n",
    "6. Answer Project Question 1: From which country do immigrants come to the U.S. and how many?\n",
    "\n",
    "**NOTE:** The three columns `st_i94_port_iso`, `st_i94_port_state_code` and `st_i94_port_city` will be inserted after\n",
    "creation of the staging table `st_immigration_airports` within the next step.\n",
    "\n",
    "\n",
    "##### 4.1.1. From which country do immigrants come to the U.S. and how many? [(Description)](#question1_description) <a name=\"question1_data_pipeline\">\n",
    "\n",
    "1. Clean data and create staging table `st_i94_immigration` from files `i94_<month>16_sub.sas7bdat`"
   ],
   "metadata": {
    "collapsed": false
   }
  },
  {
   "cell_type": "markdown",
   "source": [
    "##### Convert SAS data into spark parquet files as 1st staging step #####"
   ],
   "metadata": {
    "collapsed": false
   }
  },
  {
   "cell_type": "code",
   "execution_count": null,
   "outputs": [],
   "source": [
    "###### Imports and Installs section\n",
    "import shutil\n",
    "import pandas as pd\n",
    "import pyspark.sql.functions as F\n",
    "# import spark as spark\n",
    "from pyspark.sql.types import StructType, StructField, DoubleType, StringType, IntegerType, LongType, TimestampType, DateType\n",
    "from datetime import datetime, timedelta\n",
    "from pyspark.sql import SparkSession, DataFrameNaFunctions\n",
    "from pyspark.sql.functions import when, count, col, to_date, datediff, date_format, month\n",
    "import re\n",
    "import json\n",
    "from os import path\n",
    "\n",
    "\n",
    "MAX_MEMORY = \"5g\"\n",
    "\n",
    "spark = SparkSession\\\n",
    "    .builder\\\n",
    "    .appName(\"etl pipeline for project 8 - I94 data\") \\\n",
    "    .config(\"spark.jars.packages\",\"saurfang:spark-sas7bdat:3.0.0-s_2.12\")\\\n",
    "    .config('spark.sql.repl.eagerEval.enabled', True) \\\n",
    "    .config(\"spark.executor.memory\", MAX_MEMORY) \\\n",
    "    .config(\"spark.driver.memory\", MAX_MEMORY) \\\n",
    "    .appName(\"Foo\") \\\n",
    "    .enableHiveSupport()\\\n",
    "    .getOrCreate()\n",
    "\n",
    "# setting the current LOG-Level\n",
    "spark.sparkContext.setLogLevel('ERROR')"
   ],
   "metadata": {
    "collapsed": false,
    "pycharm": {
     "name": "#%%\n"
    }
   }
  },
  {
   "cell_type": "code",
   "execution_count": 2,
   "outputs": [
    {
     "name": "stdout",
     "output_type": "stream",
     "text": [
      "../P8_capstone_resource_files/immigration_data/18-83510-I94-Data-2016/i94_jan16_sub.sas7bdat\n",
      "../P8_capstone_resource_files/immigration_data/18-83510-I94-Data-2016/i94_feb16_sub.sas7bdat\n",
      "../P8_capstone_resource_files/immigration_data/18-83510-I94-Data-2016/i94_mar16_sub.sas7bdat\n",
      "../P8_capstone_resource_files/immigration_data/18-83510-I94-Data-2016/i94_apr16_sub.sas7bdat\n",
      "../P8_capstone_resource_files/immigration_data/18-83510-I94-Data-2016/i94_may16_sub.sas7bdat\n",
      "../P8_capstone_resource_files/immigration_data/18-83510-I94-Data-2016/i94_jun16_sub.sas7bdat\n",
      "../P8_capstone_resource_files/immigration_data/18-83510-I94-Data-2016/i94_jul16_sub.sas7bdat\n",
      "../P8_capstone_resource_files/immigration_data/18-83510-I94-Data-2016/i94_aug16_sub.sas7bdat\n",
      "../P8_capstone_resource_files/immigration_data/18-83510-I94-Data-2016/i94_sep16_sub.sas7bdat\n",
      "../P8_capstone_resource_files/immigration_data/18-83510-I94-Data-2016/i94_oct16_sub.sas7bdat\n",
      "../P8_capstone_resource_files/immigration_data/18-83510-I94-Data-2016/i94_nov16_sub.sas7bdat\n",
      "../P8_capstone_resource_files/immigration_data/18-83510-I94-Data-2016/i94_dec16_sub.sas7bdat\n"
     ]
    }
   ],
   "source": [
    "# original path in Udacity workspace\n",
    "#df_spark =spark.read.format('com.github.saurfang.sas.spark')\n",
    "# .load('../../data/18-83510-I94-Data-2016/i94_apr16_sub.sas7bdat')\n",
    "\n",
    "# The SAS files (e.g. i94_apr16_sub.sas7bdat) are partitioned by month. The for loop extracts each file and stores it\n",
    "# partitioned by month in parquet format.\n",
    "\n",
    "months_abbreviation = [\"jan\", \"feb\", \"mar\", \"apr\", \"may\", \"jun\", \"jul\", \"aug\", \"sep\", \"oct\", \"nov\", \"dec\"]\n",
    "\n",
    "for current_month in months_abbreviation:\n",
    "    month_abbreviation = current_month\n",
    "\n",
    "    filepath_i94 = f\"../P8_capstone_resource_files/immigration_data/18-83510-I94-Data-2016/\" \\\n",
    "                   f\"i94_{month_abbreviation}16_sub.sas7bdat\"\n",
    "    print(filepath_i94)\n",
    "\n",
    "    # load current month\n",
    "    df_spark_i94 = spark\\\n",
    "        .read\\\n",
    "        .format('com.github.saurfang.sas.spark')\\\n",
    "        .load(filepath_i94)\n",
    "\n",
    "    \"\"\"\n",
    "    Note: optionally load conditions:\n",
    "            .load(filepath_i94,\n",
    "                  forceLowercaseNames=True,\n",
    "                  inferLong=True)\n",
    "    \"\"\"\n",
    "\n",
    "    # write data and append all month to the same parquet result set\n",
    "    location_to_write = \"../P8_capstone_resource_files/parquet_raw/i94_sas_data\"\n",
    "\n",
    "    # write data frame as parquet file (ca. 815 MB)\n",
    "    df_spark_i94 \\\n",
    "        .repartition(int(1)) \\\n",
    "        .write \\\n",
    "        .mode(saveMode='append') \\\n",
    "        .partitionBy('i94mon') \\\n",
    "        .parquet(location_to_write, compression=\"gzip\")\n"
   ],
   "metadata": {
    "collapsed": false,
    "pycharm": {
     "name": "#%%\n"
    }
   }
  },
  {
   "cell_type": "markdown",
   "source": [
    "##### Optional write methods (.csv & .csv.gz)"
   ],
   "metadata": {
    "collapsed": false
   }
  },
  {
   "cell_type": "code",
   "execution_count": 3,
   "outputs": [],
   "source": [
    "    location_to_write = \"../P8_capstone_resource_files/parquet_raw/i94_data.csv\"\n",
    "\n",
    "    # delete folder if already exists\n",
    "    if path.exists(location_to_write):\n",
    "        shutil.rmtree(location_to_write)\n",
    "\n",
    "    # write data frame as uncompressed CSV file (approx. 5,9 GB)\n",
    "    df_spark_i94\\\n",
    "        .coalesce(1)\\\n",
    "        .write\\\n",
    "        .option(\"header\", \"true\")\\\n",
    "        .csv(location_to_write)"
   ],
   "metadata": {
    "collapsed": false,
    "pycharm": {
     "name": "#%%\n"
    }
   }
  },
  {
   "cell_type": "code",
   "execution_count": 4,
   "outputs": [],
   "source": [
    "    location_to_write = \"../P8_capstone_resource_files/parquet_raw/i94_data.csv.gz\"\n",
    "\n",
    "    # delete folder if already exists\n",
    "    if path.exists(location_to_write):\n",
    "        shutil.rmtree(location_to_write)\n",
    "\n",
    "    # write data frame as compressed CSV file (approx. 885 MB)\n",
    "    df_spark_i94\\\n",
    "        .coalesce(1)\\\n",
    "        .write\\\n",
    "        .option(\"header\", \"true\")\\\n",
    "        .option(\"codec\", \"org.apache.hadoop.io.compress.GzipCodec\")\\\n",
    "        .csv(location_to_write)"
   ],
   "metadata": {
    "collapsed": false,
    "pycharm": {
     "name": "#%%\n"
    }
   }
  },
  {
   "cell_type": "markdown",
   "source": [
    "##### Check written data frame"
   ],
   "metadata": {
    "collapsed": false
   }
  },
  {
   "cell_type": "code",
   "execution_count": 5,
   "outputs": [
    {
     "data": {
      "text/plain": "'\\ndf_spark_i94 = spark.read    .parquet(\"../P8_capstone_resource_files/parquet_raw/i94_sas_data/i94mon=4.0\",\\n             \"../P8_capstone_resource_files/parquet_raw/i94_sas_data/i94mon=5.0\",\\n             \"../P8_capstone_resource_files/parquet_raw/i94_sas_data/i94mon=6.0\")\\n\\n\\ndf_spark_i94 = spark.read    .parquet(\"../P8_capstone_resource_files/parquet_raw/i94_sas_data/i94mon=1.0\",\\n             \"../P8_capstone_resource_files/parquet_raw/i94_sas_data/i94mon=2.0\",\\n             \"../P8_capstone_resource_files/parquet_raw/i94_sas_data/i94mon=3.0\")\\n'"
     },
     "execution_count": 5,
     "metadata": {},
     "output_type": "execute_result"
    }
   ],
   "source": [
    "# Read written data frame back into memory\n",
    "df_spark_i94 = spark.read.parquet(\"../P8_capstone_resource_files/parquet_raw/i94_sas_data\")\n",
    "\n",
    "# read only three month of data\n",
    "#df_spark_i94 = spark.read.parquet(\"../P8_capstone_resource_files/parquet/i94_sas_data/i94mon=12.0\")\n",
    "\"\"\"\n",
    "df_spark_i94 = spark.read\\\n",
    "    .parquet(\"../P8_capstone_resource_files/parquet_raw/i94_sas_data/i94mon=4.0\",\n",
    "             \"../P8_capstone_resource_files/parquet_raw/i94_sas_data/i94mon=5.0\",\n",
    "             \"../P8_capstone_resource_files/parquet_raw/i94_sas_data/i94mon=6.0\")\n",
    "\n",
    "\n",
    "df_spark_i94 = spark.read\\\n",
    "    .parquet(\"../P8_capstone_resource_files/parquet_raw/i94_sas_data/i94mon=1.0\",\n",
    "             \"../P8_capstone_resource_files/parquet_raw/i94_sas_data/i94mon=2.0\",\n",
    "             \"../P8_capstone_resource_files/parquet_raw/i94_sas_data/i94mon=3.0\")\n",
    "\"\"\""
   ],
   "metadata": {
    "collapsed": false,
    "pycharm": {
     "name": "#%%\n"
    }
   }
  },
  {
   "cell_type": "code",
   "execution_count": 6,
   "outputs": [
    {
     "data": {
      "text/plain": "40790529"
     },
     "execution_count": 6,
     "metadata": {},
     "output_type": "execute_result"
    }
   ],
   "source": [
    "# Get lines of data from data frame\n",
    "df_spark_i94.count()"
   ],
   "metadata": {
    "collapsed": false,
    "pycharm": {
     "name": "#%%\n"
    }
   }
  },
  {
   "cell_type": "code",
   "execution_count": 7,
   "outputs": [
    {
     "name": "stdout",
     "output_type": "stream",
     "text": [
      "root\n",
      " |-- cicid: double (nullable = true)\n",
      " |-- i94yr: double (nullable = true)\n",
      " |-- i94cit: double (nullable = true)\n",
      " |-- i94res: double (nullable = true)\n",
      " |-- i94port: string (nullable = true)\n",
      " |-- arrdate: double (nullable = true)\n",
      " |-- i94mode: double (nullable = true)\n",
      " |-- i94addr: string (nullable = true)\n",
      " |-- depdate: double (nullable = true)\n",
      " |-- i94bir: double (nullable = true)\n",
      " |-- i94visa: double (nullable = true)\n",
      " |-- count: double (nullable = true)\n",
      " |-- dtadfile: string (nullable = true)\n",
      " |-- visapost: string (nullable = true)\n",
      " |-- occup: string (nullable = true)\n",
      " |-- entdepa: string (nullable = true)\n",
      " |-- entdepd: string (nullable = true)\n",
      " |-- entdepu: string (nullable = true)\n",
      " |-- matflag: string (nullable = true)\n",
      " |-- biryear: double (nullable = true)\n",
      " |-- dtaddto: string (nullable = true)\n",
      " |-- gender: string (nullable = true)\n",
      " |-- insnum: string (nullable = true)\n",
      " |-- airline: string (nullable = true)\n",
      " |-- admnum: double (nullable = true)\n",
      " |-- fltno: string (nullable = true)\n",
      " |-- visatype: string (nullable = true)\n",
      " |-- i94mon: double (nullable = true)\n",
      "\n"
     ]
    }
   ],
   "source": [
    "# check current df Schema\n",
    "df_spark_i94.printSchema()\n"
   ],
   "metadata": {
    "collapsed": false,
    "pycharm": {
     "name": "#%%\n"
    }
   }
  },
  {
   "cell_type": "code",
   "execution_count": 8,
   "outputs": [
    {
     "data": {
      "text/plain": "+-------+------------------+--------+------------------+------------------+--------+------------------+------------------+------------------+------------------+------------------+------------------+--------+--------------------+--------+------------------+--------+--------+-------+--------+------------------+-----------------+--------+------------------+-----------------+--------------------+------------------+--------+------------------+\n|summary|             cicid|   i94yr|            i94cit|            i94res| i94port|           arrdate|           i94mode|           i94addr|           depdate|            i94bir|           i94visa|   count|            dtadfile|visapost|             occup| entdepa| entdepd|entdepu| matflag|           biryear|          dtaddto|  gender|            insnum|          airline|              admnum|             fltno|visatype|            i94mon|\n+-------+------------------+--------+------------------+------------------+--------+------------------+------------------+------------------+------------------+------------------+------------------+--------+--------------------+--------+------------------+--------+--------+-------+--------+------------------+-----------------+--------+------------------+-----------------+--------------------+------------------+--------+------------------+\n|  count|          40790529|40790529|          40761954|          40790529|40790529|          40790529|          40716580|          38762603|          37482517|          40781012|          40790529|40790529|            40659479|16758354|            192955|40788125|37502620|  13206|37570948|          40781012|         40688978|36710546|           5112434|         39482463|            40790529|          40456607|40790529|          40790529|\n|   mean| 3293392.166653808|  2016.0|312.72151028382984|310.87080760830537|    null| 20643.13001496009|1.0767158243644235| 76.87271186440678|20659.627880833083| 39.53764980133401|1.9018887938423157|     1.0|2.0160697567812737E7|Infinity| 886.3284132841328|    null|    null|   null|    null| 1976.462350198666|6759393.900854463|    null| 64956.88453638432|51.10082764263461|4.597373750122861E10|1562.5950372058192|    null| 6.730874561592471|\n| stddev|1943430.3813472984|     0.0|209.28597607303513|207.86066101830446|    null|100.98698880844428|0.4675023948362171|36.626221057276055|116.65803017373673|17.810250881773467|0.4069698211916488|     0.0|  327.44246882105733|     NaN|181.51721193873058|    null|    null|   null|    null|17.810250881775286|3592018.915138121|    null|118503.14943524264| 155.794790882693|3.177040763665807E10|  7077.25392767434|    null|3.2988930890066643|\n|    min|               1.0|  2016.0|               0.0|             101.0|     48Y|           20454.0|               0.0|                **|          -14388.0|              -3.0|               1.0|     1.0|            20081124|     999|               010|       A|       D|      P|       M|             204.0|         -00-0000|       F|                 '|              *FF|                 0.0|                 -|      B1|               1.0|\n|    max|         7667577.0|  2016.0|             999.0|             760.0|     YUM|           20819.0|               9.0|                ZX|           48342.0|            1812.0|               3.0|     1.0|            20170609|     ZZZ|               WTR|       Z|       Z|      Y|       M|            2019.0|         `1132017|       X|              `930|               ZZ|      9.999999813E10|                 y|      WT|              12.0|\n+-------+------------------+--------+------------------+------------------+--------+------------------+------------------+------------------+------------------+------------------+------------------+--------+--------------------+--------+------------------+--------+--------+-------+--------+------------------+-----------------+--------+------------------+-----------------+--------------------+------------------+--------+------------------+",
      "text/html": "<table border='1'>\n<tr><th>summary</th><th>cicid</th><th>i94yr</th><th>i94cit</th><th>i94res</th><th>i94port</th><th>arrdate</th><th>i94mode</th><th>i94addr</th><th>depdate</th><th>i94bir</th><th>i94visa</th><th>count</th><th>dtadfile</th><th>visapost</th><th>occup</th><th>entdepa</th><th>entdepd</th><th>entdepu</th><th>matflag</th><th>biryear</th><th>dtaddto</th><th>gender</th><th>insnum</th><th>airline</th><th>admnum</th><th>fltno</th><th>visatype</th><th>i94mon</th></tr>\n<tr><td>count</td><td>40790529</td><td>40790529</td><td>40761954</td><td>40790529</td><td>40790529</td><td>40790529</td><td>40716580</td><td>38762603</td><td>37482517</td><td>40781012</td><td>40790529</td><td>40790529</td><td>40659479</td><td>16758354</td><td>192955</td><td>40788125</td><td>37502620</td><td>13206</td><td>37570948</td><td>40781012</td><td>40688978</td><td>36710546</td><td>5112434</td><td>39482463</td><td>40790529</td><td>40456607</td><td>40790529</td><td>40790529</td></tr>\n<tr><td>mean</td><td>3293392.166653808</td><td>2016.0</td><td>312.72151028382984</td><td>310.87080760830537</td><td>null</td><td>20643.13001496009</td><td>1.0767158243644235</td><td>76.87271186440678</td><td>20659.627880833083</td><td>39.53764980133401</td><td>1.9018887938423157</td><td>1.0</td><td>2.0160697567812737E7</td><td>Infinity</td><td>886.3284132841328</td><td>null</td><td>null</td><td>null</td><td>null</td><td>1976.462350198666</td><td>6759393.900854463</td><td>null</td><td>64956.88453638432</td><td>51.10082764263461</td><td>4.597373750122861E10</td><td>1562.5950372058192</td><td>null</td><td>6.730874561592471</td></tr>\n<tr><td>stddev</td><td>1943430.3813472984</td><td>0.0</td><td>209.28597607303513</td><td>207.86066101830446</td><td>null</td><td>100.98698880844428</td><td>0.4675023948362171</td><td>36.626221057276055</td><td>116.65803017373673</td><td>17.810250881773467</td><td>0.4069698211916488</td><td>0.0</td><td>327.44246882105733</td><td>NaN</td><td>181.51721193873058</td><td>null</td><td>null</td><td>null</td><td>null</td><td>17.810250881775286</td><td>3592018.915138121</td><td>null</td><td>118503.14943524264</td><td>155.794790882693</td><td>3.177040763665807E10</td><td>7077.25392767434</td><td>null</td><td>3.2988930890066643</td></tr>\n<tr><td>min</td><td>1.0</td><td>2016.0</td><td>0.0</td><td>101.0</td><td>48Y</td><td>20454.0</td><td>0.0</td><td>**</td><td>-14388.0</td><td>-3.0</td><td>1.0</td><td>1.0</td><td>20081124</td><td>999</td><td>010</td><td>A</td><td>D</td><td>P</td><td>M</td><td>204.0</td><td>-00-0000</td><td>F</td><td>&#x27;</td><td>*FF</td><td>0.0</td><td>-</td><td>B1</td><td>1.0</td></tr>\n<tr><td>max</td><td>7667577.0</td><td>2016.0</td><td>999.0</td><td>760.0</td><td>YUM</td><td>20819.0</td><td>9.0</td><td>ZX</td><td>48342.0</td><td>1812.0</td><td>3.0</td><td>1.0</td><td>20170609</td><td>ZZZ</td><td>WTR</td><td>Z</td><td>Z</td><td>Y</td><td>M</td><td>2019.0</td><td>`1132017</td><td>X</td><td>`930</td><td>ZZ</td><td>9.999999813E10</td><td>y</td><td>WT</td><td>12.0</td></tr>\n</table>\n"
     },
     "execution_count": 8,
     "metadata": {},
     "output_type": "execute_result"
    }
   ],
   "source": [
    "# Show Summary statistics. Attention: This could take very long to compute!\n",
    "df_spark_i94.describe()"
   ],
   "metadata": {
    "collapsed": false,
    "pycharm": {
     "name": "#%%\n"
    }
   }
  },
  {
   "cell_type": "code",
   "execution_count": null,
   "outputs": [],
   "source": [
    "# Check if the Conversion step worked as expected\n",
    "# !!! Keep in mind: Setup virtual environment path: ..../Project_8_Data_Engineering_Capstone_Project/venv/bin/python3\n",
    "# because we use UDF --> python code !!!!!!!!!!!!!!!!!!"
   ],
   "metadata": {
    "collapsed": false,
    "pycharm": {
     "name": "#%%\n"
    }
   }
  },
  {
   "cell_type": "code",
   "execution_count": 9,
   "outputs": [],
   "source": [
    "# Preparation to get an enumeration of all elements within the data frame and a\n",
    "# UDF to convert a SAS date (Integer Format) into a DateType() format.\n",
    "\n",
    "from pyspark.sql.functions import row_number,lit\n",
    "from pyspark.sql.window import Window\n",
    "w = Window().orderBy(lit('A'))\n",
    "\n",
    "# register UDF function to calculate a DateType from given SAS date format\n",
    "getDateFomSASDate = F.udf(lambda y: get_date_from_sas_date(y), DateType())\n",
    "spark.udf.register(\"getDateFomSASDate\", getDateFomSASDate)\n",
    "\n",
    "# Function to convert a SAS date into a DateType\n",
    "\"\"\"\n",
    "Convert SAS date into a DateType value. If sas_date == 0 then choose the default value 1960-01-01.\n",
    "\"\"\"\n",
    "def get_date_from_sas_date(sas_date):\n",
    "    sas_date_int = int(sas_date)\n",
    "    if sas_date_int > 0:\n",
    "        return datetime(1960, 1, 1) + timedelta(days=sas_date_int)\n",
    "    else:\n",
    "        return datetime(1900, 1, 1)"
   ],
   "metadata": {
    "collapsed": false,
    "pycharm": {
     "name": "#%%\n"
    }
   }
  },
  {
   "cell_type": "code",
   "execution_count": 10,
   "outputs": [],
   "source": [
    "## Transformation of the originally stored data from files `i94_<month>16_sub.sas7bdat`\n",
    "# read parquet file\n",
    "# fill up null values\n",
    "# convert data into new columns\n",
    "# select only needed columns\n",
    "\n",
    "df_st_i94_immigrations = spark\\\n",
    "    .read\\\n",
    "    .parquet(\"../P8_capstone_resource_files/parquet_raw/i94_sas_data\")\\\n",
    "    .fillna(value=0.0 ,subset=['i94cit'])\\\n",
    "    .fillna(value='99', subset=['i94addr'])\\\n",
    "    .fillna(value=0.0, subset=['depdate'])\\\n",
    "    .fillna(value='99991231', subset=['dtadfile'])\\\n",
    "    .fillna(value='NA', subset=['matflag'])\\\n",
    "    .withColumn(\"st_i94_cit\", F.round(\"i94cit\", 0).cast(IntegerType()))\\\n",
    "    .withColumn(\"st_i94_port\", col(\"i94port\"))\\\n",
    "    .withColumn(\"st_i94_addr\", col(\"i94addr\"))\\\n",
    "    .withColumn(\"st_i94_arrdate\", F.round(\"arrdate\").cast(IntegerType()))\\\n",
    "    .withColumn(\"st_i94_arrdate_iso\", getDateFomSASDate(\"arrdate\"))\\\n",
    "    .withColumn(\"st_i94_depdate\", F.round(\"depdate\").cast(IntegerType()))\\\n",
    "    .withColumn(\"st_i94_depdate_iso\", getDateFomSASDate(\"depdate\"))\\\n",
    "    .withColumn('st_i94_dtadfile', to_date('dtadfile','yyyyMMdd')) \\\n",
    "    .withColumn(\"st_i94_matflag\", col(\"matflag\"))\\\n",
    "    .withColumn(\"st_i94_count\", F.round(\"count\", 0).cast(IntegerType()))\\\n",
    "    .withColumn(\"st_i94_year\", col(\"i94yr\").cast(IntegerType()))\\\n",
    "    .withColumn(\"st_i94_month\", col(\"i94mon\").cast(IntegerType())) \\\n",
    "    .select(\n",
    "              \"st_i94_cit\",\n",
    "              \"st_i94_port\",\n",
    "              \"st_i94_addr\",\n",
    "              \"st_i94_arrdate\",\n",
    "              \"st_i94_arrdate_iso\",\n",
    "              \"st_i94_depdate\",\n",
    "              \"st_i94_depdate_iso\",\n",
    "              \"st_i94_dtadfile\",\n",
    "              \"st_i94_matflag\",\n",
    "              \"st_i94_count\",\n",
    "              \"st_i94_year\",\n",
    "              \"st_i94_month\" )"
   ],
   "metadata": {
    "collapsed": false,
    "pycharm": {
     "name": "#%%\n"
    }
   }
  },
  {
   "cell_type": "code",
   "execution_count": 11,
   "outputs": [
    {
     "name": "stdout",
     "output_type": "stream",
     "text": [
      "Count of rows: 40790529\n",
      "Count of distinct rows: 12228839\n"
     ]
    }
   ],
   "source": [
    "# compare the counts of the full dataset\n",
    "# Count of rows         : 40.790.529\n",
    "# Count of distinct rows: 12.228.839\n",
    "print('Count of rows: {0}'.format(df_st_i94_immigrations.count()))\n",
    "print('Count of distinct rows: {0}'.format(df_st_i94_immigrations.distinct().count()))"
   ],
   "metadata": {
    "collapsed": false,
    "pycharm": {
     "name": "#%%\n"
    }
   }
  },
  {
   "cell_type": "code",
   "execution_count": 12,
   "outputs": [],
   "source": [
    "# clean up complete identical rows. Only do this if the results from the step above are not identical!\n",
    "df_st_i94_immigrations = df_st_i94_immigrations.drop_duplicates()"
   ],
   "metadata": {
    "collapsed": false,
    "pycharm": {
     "name": "#%%\n"
    }
   }
  },
  {
   "cell_type": "code",
   "execution_count": 13,
   "outputs": [
    {
     "name": "stdout",
     "output_type": "stream",
     "text": [
      "Count of rows: 12228839\n",
      "Count of distinct rows: 12228839\n"
     ]
    }
   ],
   "source": [
    "# compare the counts of the full dataset again\n",
    "# Count of rows         : 12.228.839\n",
    "# Count of distinct rows: 12.228.839\n",
    "print('Count of rows: {0}'.format(df_st_i94_immigrations.count()))\n",
    "print('Count of distinct rows: {0}'.format(df_st_i94_immigrations.distinct().count()))"
   ],
   "metadata": {
    "collapsed": false,
    "pycharm": {
     "name": "#%%\n"
    }
   }
  },
  {
   "cell_type": "code",
   "execution_count": 14,
   "outputs": [],
   "source": [
    "# After dropping duplicates we create for each row a unique ID.\n",
    "# The F.row_number().over(w)) method gives each record a unique and increasing ID and starts with 1.\n",
    "# The F.monotonicallymonotonically_increasing_id() method gives each record a unique and increasing ID and starts with 0.\n",
    "df_st_i94_immigrations = df_st_i94_immigrations\\\n",
    "    .sort(\"st_i94_year\", \"st_i94_month\", \"st_i94_cit\") \\\n",
    "    .withColumn(\"st_i94_id\",  F.row_number().over(w))\n",
    "#    .withColumn('st_i94_id_new', F.monotonically_increasing_id())"
   ],
   "metadata": {
    "collapsed": false,
    "pycharm": {
     "name": "#%%\n"
    }
   }
  },
  {
   "cell_type": "code",
   "execution_count": 15,
   "outputs": [
    {
     "name": "stdout",
     "output_type": "stream",
     "text": [
      "+----------+-----------+-----------+--------------+------------------+--------------+------------------+---------------+--------------+------------+-----------+------------+---------+\n",
      "|st_i94_cit|st_i94_port|st_i94_addr|st_i94_arrdate|st_i94_arrdate_iso|st_i94_depdate|st_i94_depdate_iso|st_i94_dtadfile|st_i94_matflag|st_i94_count|st_i94_year|st_i94_month|st_i94_id|\n",
      "+----------+-----------+-----------+--------------+------------------+--------------+------------------+---------------+--------------+------------+-----------+------------+---------+\n",
      "|       101|        SYS|         99|         20464|        2016-01-11|         20465|        2016-01-12|     2016-01-11|             M|           1|       2016|           1|        1|\n",
      "|       516|        MIA|         MD|         20814|        2016-12-26|         20832|        2017-01-13|     2016-12-26|             M|           1|       2016|          12|        2|\n",
      "|       101|        WAS|         VA|         20470|        2016-01-17|         20482|        2016-01-29|     2016-01-17|             M|           1|       2016|           1|        3|\n",
      "|       516|        NEW|         MN|         20814|        2016-12-26|         20824|        2017-01-05|     2016-12-26|             M|           1|       2016|          12|        4|\n",
      "|       101|        NEW|         NJ|         20473|        2016-01-20|             0|        1900-01-01|     2016-01-20|            NA|           1|       2016|           1|        5|\n",
      "|       516|        NYC|         NY|         20815|        2016-12-27|         20895|        2017-03-17|     2016-12-27|             M|           1|       2016|          12|        6|\n",
      "|       101|        TAM|         FL|         20478|        2016-01-25|         20503|        2016-02-19|     9999-12-31|             M|           1|       2016|           1|        7|\n",
      "|       516|        OPF|         FL|         20816|        2016-12-28|         20817|        2016-12-29|     2016-12-28|             M|           1|       2016|          12|        8|\n",
      "|       101|        BOS|         MA|         20463|        2016-01-10|         20522|        2016-03-09|     2016-01-10|             M|           1|       2016|           1|        9|\n",
      "|       516|        CHI|         TX|         20816|        2016-12-28|         20834|        2017-01-15|     2016-12-28|             M|           1|       2016|          12|       10|\n",
      "|       101|        WAS|         VA|         20475|        2016-01-22|         20499|        2016-02-15|     2016-01-22|             M|           1|       2016|           1|       11|\n",
      "|       516|        HOU|         TX|         20791|        2016-12-03|         20795|        2016-12-07|     2016-12-03|             M|           1|       2016|          12|       12|\n",
      "|       101|        NYC|         NY|         20473|        2016-01-20|         20491|        2016-02-07|     2016-01-20|             M|           1|       2016|           1|       13|\n",
      "|       516|        HOU|         CA|         20795|        2016-12-07|         20823|        2017-01-04|     2016-12-07|             M|           1|       2016|          12|       14|\n",
      "|       101|        BOS|         MA|         20482|        2016-01-29|             0|        1900-01-01|     2016-01-29|            NA|           1|       2016|           1|       15|\n",
      "|       516|        MIA|         FL|         20797|        2016-12-09|         20806|        2016-12-18|     2016-12-09|             M|           1|       2016|          12|       16|\n",
      "|       101|        CHI|         TN|         20478|        2016-01-25|         20495|        2016-02-11|     9999-12-31|             M|           1|       2016|           1|       17|\n",
      "|       516|        FTL|         MA|         20797|        2016-12-09|         20816|        2016-12-28|     2016-12-09|             M|           1|       2016|          12|       18|\n",
      "|       101|        NYC|         PA|         20477|        2016-01-24|             0|        1900-01-01|     2016-01-24|            NA|           1|       2016|           1|       19|\n",
      "|       516|        NEW|         DC|         20798|        2016-12-10|         20802|        2016-12-14|     2016-12-10|             M|           1|       2016|          12|       20|\n",
      "+----------+-----------+-----------+--------------+------------------+--------------+------------------+---------------+--------------+------------+-----------+------------+---------+\n",
      "only showing top 20 rows\n",
      "\n"
     ]
    }
   ],
   "source": [
    "df_st_i94_immigrations.show()"
   ],
   "metadata": {
    "collapsed": false,
    "pycharm": {
     "name": "#%%\n"
    }
   }
  },
  {
   "cell_type": "code",
   "execution_count": null,
   "outputs": [],
   "source": [
    "# compare the counts of the full dataset again\n",
    "# Count of rows         : 12.228.839\n",
    "# Count of distinct rows: 12.228.839\n",
    "print('Count of rows: {0}'.format(df_st_i94_immigrations.count()))\n",
    "print('Count of distinct rows: {0}'.format(df_st_i94_immigrations.distinct().count()))"
   ],
   "metadata": {
    "collapsed": false,
    "pycharm": {
     "name": "#%%\n"
    }
   }
  },
  {
   "cell_type": "code",
   "execution_count": 16,
   "outputs": [
    {
     "name": "stdout",
     "output_type": "stream",
     "text": [
      "Count of ids: 12228839\n",
      "Count of distinct ids: 12228839\n"
     ]
    }
   ],
   "source": [
    "# *** OPTIONAL 1 ***\n",
    "# Let's check whether there are any duplicates in the data irrespective of `st_i94_id`.\n",
    "# Only columns other than the `st_i94_id` column:\n",
    "\n",
    "print('Count of ids: {0}'.format(df_st_i94_immigrations.count()))\n",
    "print('Count of distinct ids: {0}'.format(\n",
    "    df_st_i94_immigrations.select( [\n",
    "        c for c in df_st_i94_immigrations.columns if c != 'st_i94_id'\n",
    "    ])\n",
    "        .distinct()\n",
    "        .count())\n",
    "    )"
   ],
   "metadata": {
    "collapsed": false,
    "pycharm": {
     "name": "#%%\n"
    }
   }
  },
  {
   "cell_type": "code",
   "execution_count": 17,
   "outputs": [],
   "source": [
    "# *** OPTIONAL 2 ***\n",
    "# clean up if found duplicate rows irrespective of 'st_i94_id'\n",
    "df_st_i94_immigrations = df_st_i94_immigrations.dropDuplicates(subset=[\n",
    "c for c in df_st_i94_immigrations.columns if c != 'st_i94_id'\n",
    "])"
   ],
   "metadata": {
    "collapsed": false,
    "pycharm": {
     "name": "#%%\n"
    }
   }
  },
  {
   "cell_type": "code",
   "execution_count": 18,
   "outputs": [
    {
     "name": "stdout",
     "output_type": "stream",
     "text": [
      "+--------+--------+\n",
      "|   count|distinct|\n",
      "+--------+--------+\n",
      "|12228839|12228839|\n",
      "+--------+--------+\n",
      "\n"
     ]
    }
   ],
   "source": [
    "# Avoid duplicates in ID column `st_i94_id`\n",
    "df_st_i94_immigrations.agg(\n",
    "    F.count('st_i94_id').alias('count'),\n",
    "    F.countDistinct('st_i94_id').alias('distinct')\n",
    ").show()"
   ],
   "metadata": {
    "collapsed": false,
    "pycharm": {
     "name": "#%%\n"
    }
   }
  },
  {
   "cell_type": "code",
   "execution_count": 19,
   "outputs": [
    {
     "name": "stdout",
     "output_type": "stream",
     "text": [
      "+------------------+-------------------+-------------------+----------------------+--------------------------+----------------------+--------------------------+-----------------------+----------------------+--------------------+-------------------+--------------------+-----------------+\n",
      "|st_i94_cit_missing|st_i94_port_missing|st_i94_addr_missing|st_i94_arrdate_missing|st_i94_arrdate_iso_missing|st_i94_depdate_missing|st_i94_depdate_iso_missing|st_i94_dtadfile_missing|st_i94_matflag_missing|st_i94_count_missing|st_i94_year_missing|st_i94_month_missing|st_i94_id_missing|\n",
      "+------------------+-------------------+-------------------+----------------------+--------------------------+----------------------+--------------------------+-----------------------+----------------------+--------------------+-------------------+--------------------+-----------------+\n",
      "|               0.0|                0.0|                0.0|                   0.0|                       0.0|                   0.0|                       0.0|                    0.0|                   0.0|                 0.0|                0.0|                 0.0|              0.0|\n",
      "+------------------+-------------------+-------------------+----------------------+--------------------------+----------------------+--------------------------+-----------------------+----------------------+--------------------+-------------------+--------------------+-----------------+\n",
      "\n"
     ]
    }
   ],
   "source": [
    "# Check percentage of missing observations are there in each column:\n",
    "df_st_i94_immigrations.agg(*[\n",
    "(1 - (F.count(c) / F.count('*'))).alias(c + '_missing')\n",
    "for c in df_st_i94_immigrations.columns\n",
    "]).show()"
   ],
   "metadata": {
    "collapsed": false,
    "pycharm": {
     "name": "#%%\n"
    }
   }
  },
  {
   "cell_type": "code",
   "execution_count": 20,
   "outputs": [
    {
     "data": {
      "text/plain": "                    0\nst_i94_cit          0\nst_i94_port         0\nst_i94_addr         0\nst_i94_arrdate      0\nst_i94_arrdate_iso  0\nst_i94_depdate      0\nst_i94_depdate_iso  0\nst_i94_dtadfile     0\nst_i94_matflag      0\nst_i94_count        0\nst_i94_year         0\nst_i94_month        0\nst_i94_id           0",
      "text/html": "<div>\n<style scoped>\n    .dataframe tbody tr th:only-of-type {\n        vertical-align: middle;\n    }\n\n    .dataframe tbody tr th {\n        vertical-align: top;\n    }\n\n    .dataframe thead th {\n        text-align: right;\n    }\n</style>\n<table border=\"1\" class=\"dataframe\">\n  <thead>\n    <tr style=\"text-align: right;\">\n      <th></th>\n      <th>0</th>\n    </tr>\n  </thead>\n  <tbody>\n    <tr>\n      <th>st_i94_cit</th>\n      <td>0</td>\n    </tr>\n    <tr>\n      <th>st_i94_port</th>\n      <td>0</td>\n    </tr>\n    <tr>\n      <th>st_i94_addr</th>\n      <td>0</td>\n    </tr>\n    <tr>\n      <th>st_i94_arrdate</th>\n      <td>0</td>\n    </tr>\n    <tr>\n      <th>st_i94_arrdate_iso</th>\n      <td>0</td>\n    </tr>\n    <tr>\n      <th>st_i94_depdate</th>\n      <td>0</td>\n    </tr>\n    <tr>\n      <th>st_i94_depdate_iso</th>\n      <td>0</td>\n    </tr>\n    <tr>\n      <th>st_i94_dtadfile</th>\n      <td>0</td>\n    </tr>\n    <tr>\n      <th>st_i94_matflag</th>\n      <td>0</td>\n    </tr>\n    <tr>\n      <th>st_i94_count</th>\n      <td>0</td>\n    </tr>\n    <tr>\n      <th>st_i94_year</th>\n      <td>0</td>\n    </tr>\n    <tr>\n      <th>st_i94_month</th>\n      <td>0</td>\n    </tr>\n    <tr>\n      <th>st_i94_id</th>\n      <td>0</td>\n    </tr>\n  </tbody>\n</table>\n</div>"
     },
     "execution_count": 20,
     "metadata": {},
     "output_type": "execute_result"
    }
   ],
   "source": [
    "# check whether there are still zero values in the result data frame\n",
    "df_st_i94_immigrations\\\n",
    ".select([count( when(col(c).isNull(), c) )\n",
    "        .alias(c) for c in df_st_i94_immigrations.columns])\\\n",
    ".toPandas().T"
   ],
   "metadata": {
    "collapsed": false,
    "pycharm": {
     "name": "#%%\n"
    }
   }
  },
  {
   "cell_type": "code",
   "execution_count": 21,
   "outputs": [
    {
     "name": "stdout",
     "output_type": "stream",
     "text": [
      "root\n",
      " |-- st_i94_cit: integer (nullable = true)\n",
      " |-- st_i94_port: string (nullable = true)\n",
      " |-- st_i94_addr: string (nullable = false)\n",
      " |-- st_i94_arrdate: integer (nullable = true)\n",
      " |-- st_i94_arrdate_iso: date (nullable = true)\n",
      " |-- st_i94_depdate: integer (nullable = true)\n",
      " |-- st_i94_depdate_iso: date (nullable = true)\n",
      " |-- st_i94_dtadfile: date (nullable = true)\n",
      " |-- st_i94_matflag: string (nullable = false)\n",
      " |-- st_i94_count: integer (nullable = true)\n",
      " |-- st_i94_year: integer (nullable = true)\n",
      " |-- st_i94_month: integer (nullable = true)\n",
      " |-- st_i94_id: integer (nullable = true)\n",
      "\n"
     ]
    }
   ],
   "source": [
    "# get current Schema of staging table st_i94_immigration\n",
    "df_st_i94_immigrations.printSchema()"
   ],
   "metadata": {
    "collapsed": false,
    "pycharm": {
     "name": "#%%\n"
    }
   }
  },
  {
   "cell_type": "code",
   "execution_count": 22,
   "outputs": [
    {
     "data": {
      "text/plain": "+----------+-----------+-----------+--------------+------------------+--------------+------------------+---------------+--------------+------------+-----------+------------+---------+\n|st_i94_cit|st_i94_port|st_i94_addr|st_i94_arrdate|st_i94_arrdate_iso|st_i94_depdate|st_i94_depdate_iso|st_i94_dtadfile|st_i94_matflag|st_i94_count|st_i94_year|st_i94_month|st_i94_id|\n+----------+-----------+-----------+--------------+------------------+--------------+------------------+---------------+--------------+------------+-----------+------------+---------+\n|       101|        LOS|         CA|         20454|        2016-01-01|         20458|        2016-01-05|     2016-01-01|             M|           1|       2016|           1|      523|\n|       101|        SFR|         CA|         20454|        2016-01-01|         20461|        2016-01-08|     2016-01-01|             M|           1|       2016|           1|      715|\n+----------+-----------+-----------+--------------+------------------+--------------+------------------+---------------+--------------+------------+-----------+------------+---------+",
      "text/html": "<table border='1'>\n<tr><th>st_i94_cit</th><th>st_i94_port</th><th>st_i94_addr</th><th>st_i94_arrdate</th><th>st_i94_arrdate_iso</th><th>st_i94_depdate</th><th>st_i94_depdate_iso</th><th>st_i94_dtadfile</th><th>st_i94_matflag</th><th>st_i94_count</th><th>st_i94_year</th><th>st_i94_month</th><th>st_i94_id</th></tr>\n<tr><td>101</td><td>LOS</td><td>CA</td><td>20454</td><td>2016-01-01</td><td>20458</td><td>2016-01-05</td><td>2016-01-01</td><td>M</td><td>1</td><td>2016</td><td>1</td><td>523</td></tr>\n<tr><td>101</td><td>SFR</td><td>CA</td><td>20454</td><td>2016-01-01</td><td>20461</td><td>2016-01-08</td><td>2016-01-01</td><td>M</td><td>1</td><td>2016</td><td>1</td><td>715</td></tr>\n</table>\n"
     },
     "execution_count": 22,
     "metadata": {},
     "output_type": "execute_result"
    }
   ],
   "source": [
    "# check content of current staging table st_i94_immigration\n",
    "df_st_i94_immigrations.limit(2)"
   ],
   "metadata": {
    "collapsed": false,
    "pycharm": {
     "name": "#%%\n"
    }
   }
  },
  {
   "cell_type": "markdown",
   "source": [
    "**NOTE:** The column `st_i94_port_state_code` will be inserted after creation of the staging\n",
    "table `st_immigration_airports` within the step [**2 - Airport dimension**](#question2_data_pipeline)"
   ],
   "metadata": {
    "collapsed": false
   }
  },
  {
   "cell_type": "code",
   "execution_count": 23,
   "outputs": [
    {
     "data": {
      "text/plain": "'\\ndf_st_i94_immigrations    .write    .format(\\'parquet\\')     .mode(\"overwrite\")     .partitionBy(\\'st_i94_year\\', \\'st_i94_month\\', \\'st_i94_port\\')     .saveAsTable(\\'st_i94_immigrations\\',\\n                 format=\\'parquet\\',\\n                 mode=\\'overwrite\\',\\n                 compression=\"gzip\",\\n                 path=filepath_st_i94_immigrations\\n                 )\\n'"
     },
     "execution_count": 23,
     "metadata": {},
     "output_type": "execute_result"
    }
   ],
   "source": [
    "# write data and append all month to the same parquet result set\n",
    "location_to_write = \"../P8_capstone_resource_files/parquet_stage/PQ1/st_i94_immigrations\"\n",
    "\n",
    "# delete folder if already exists\n",
    "if path.exists(location_to_write):\n",
    "    shutil.rmtree(location_to_write)\n",
    "\n",
    "# write data frame as parquet file (40 Mio. Rows: ~601MB (GZIP) or 855 MB (uncompressed); 12 Mio. Rows: 101 MB (GZIP))\n",
    "# NOTE: One column is still missing: `st_i94_port_state_code`.\n",
    "df_st_i94_immigrations \\\n",
    "    .repartition(int(1)) \\\n",
    "    .write \\\n",
    "    .format(\"parquet\")\\\n",
    "    .mode(saveMode='overwrite') \\\n",
    "    .partitionBy('st_i94_year', 'st_i94_month') \\\n",
    "    .parquet(location_to_write, compression=\"gzip\")\n",
    "\n",
    "\"\"\"\n",
    "df_st_i94_immigrations\\\n",
    "    .write\\\n",
    "    .format('parquet') \\\n",
    "    .mode(\"overwrite\") \\\n",
    "    .partitionBy('st_i94_year', 'st_i94_month', 'st_i94_port') \\\n",
    "    .saveAsTable('st_i94_immigrations',\n",
    "                 format='parquet',\n",
    "                 mode='overwrite',\n",
    "                 compression=\"gzip\",\n",
    "                 path=filepath_st_i94_immigrations\n",
    "                 )\n",
    "\"\"\""
   ],
   "metadata": {
    "collapsed": false,
    "pycharm": {
     "name": "#%%\n"
    }
   }
  },
  {
   "cell_type": "markdown",
   "source": [
    "2. Clean data and create staging table `st_immigration_countries` from file [`I94_SAS_Labels_I94CIT_I94RES.txt`](../P8_capstone_resource_files/I94_sas_labels_descriptions_extracted_data/I94_SAS_Labels_I94CIT_I94RES.txt)"
   ],
   "metadata": {
    "collapsed": false
   }
  },
  {
   "cell_type": "code",
   "execution_count": 24,
   "outputs": [],
   "source": [
    "# path of txt file\n",
    "filepath_immigration_countries = \"../P8_capstone_resource_files/I94_sas_labels_descriptions_extracted_data/I94_SAS_Labels_I94CIT_I94RES.txt\"\n",
    "\n",
    "# read txt file into data frame\n",
    "df_txt_immigration_countries=spark.read.text(filepath_immigration_countries)\n",
    "\n",
    "# create a new df with two columns (st_id_country_code, st_ic_country_name) as staging table st_immigration_countries\n",
    "df_st_immigration_countries = df_txt_immigration_countries\\\n",
    "    .select(F.regexp_extract('value', r'^\\s*(\\d*)\\s*=  \\'(\\w*.*)\\'', 1).alias('st_ic_country_code').cast(IntegerType()),\n",
    "            F.regexp_extract('value', r'^\\s*(\\d*)\\s*=  \\'(\\w*.*)\\'', 2).alias('st_ic_country_name'))\\\n",
    "    .drop_duplicates()\\\n",
    "    .sort(\"st_ic_country_code\")"
   ],
   "metadata": {
    "collapsed": false,
    "pycharm": {
     "name": "#%%\n"
    }
   }
  },
  {
   "cell_type": "code",
   "execution_count": 25,
   "outputs": [
    {
     "name": "stdout",
     "output_type": "stream",
     "text": [
      "+------------------+-----------------------+\n",
      "|st_ic_country_code|st_ic_country_name     |\n",
      "+------------------+-----------------------+\n",
      "|0                 |INVALID: STATELESS     |\n",
      "|54                |No Country Code (54)   |\n",
      "|100               |No Country Code (100)  |\n",
      "|101               |ALBANIA                |\n",
      "|102               |ANDORRA                |\n",
      "|103               |AUSTRIA                |\n",
      "|104               |BELGIUM                |\n",
      "|105               |BULGARIA               |\n",
      "|106               |INVALID: CZECHOSLOVAKIA|\n",
      "|107               |POLAND                 |\n",
      "|108               |DENMARK                |\n",
      "|109               |ESTONIA                |\n",
      "|110               |FINLAND                |\n",
      "|111               |FRANCE                 |\n",
      "|112               |GERMANY                |\n",
      "|113               |GREECE                 |\n",
      "|114               |HUNGARY                |\n",
      "|115               |ICELAND                |\n",
      "|116               |IRELAND                |\n",
      "|117               |ITALY                  |\n",
      "|118               |LATVIA                 |\n",
      "|119               |LIECHTENSTEIN          |\n",
      "|120               |LITHUANIA              |\n",
      "|121               |LUXEMBOURG             |\n",
      "|122               |MONACO                 |\n",
      "|123               |NETHERLANDS            |\n",
      "|124               |NORWAY                 |\n",
      "|126               |PORTUGAL               |\n",
      "|127               |ROMANIA                |\n",
      "|128               |SAN MARINO             |\n",
      "|129               |SPAIN                  |\n",
      "|130               |SWEDEN                 |\n",
      "|131               |SWITZERLAND            |\n",
      "|134               |INVALID: USSR          |\n",
      "|135               |UNITED KINGDOM         |\n",
      "|139               |YUGOSLAVIA             |\n",
      "|140               |CZECH REPUBLIC         |\n",
      "|141               |SLOVAKIA               |\n",
      "|142               |SERBIA AND MONTENEGRO  |\n",
      "|143               |GIBRALTAR              |\n",
      "|145               |MALTA                  |\n",
      "|149               |HOLY SEE/VATICAN       |\n",
      "|151               |ARMENIA                |\n",
      "|152               |AZERBAIJAN             |\n",
      "|153               |BELARUS                |\n",
      "|154               |GEORGIA                |\n",
      "|155               |KAZAKHSTAN             |\n",
      "|156               |KYRGYZSTAN             |\n",
      "|157               |MOLDOVA                |\n",
      "|158               |RUSSIA                 |\n",
      "+------------------+-----------------------+\n",
      "only showing top 50 rows\n",
      "\n"
     ]
    }
   ],
   "source": [
    "# show prepared staging table st_immigration_countries\n",
    "df_st_immigration_countries.sort(\"st_ic_country_code\").show(50, False)"
   ],
   "metadata": {
    "collapsed": false,
    "pycharm": {
     "name": "#%%\n"
    }
   }
  },
  {
   "cell_type": "code",
   "execution_count": 26,
   "outputs": [
    {
     "name": "stdout",
     "output_type": "stream",
     "text": [
      "Count of rows: 289\n",
      "Count of distinct rows: 289\n"
     ]
    }
   ],
   "source": [
    "# compare the counts of the full dataset\n",
    "# Count of rows         : 289\n",
    "# Count of distinct rows: 289\n",
    "print('Count of rows: {0}'.format(df_st_immigration_countries.count()))\n",
    "print('Count of distinct rows: {0}'.format(df_st_immigration_countries.distinct().count()))"
   ],
   "metadata": {
    "collapsed": false,
    "pycharm": {
     "name": "#%%\n"
    }
   }
  },
  {
   "cell_type": "code",
   "execution_count": 27,
   "outputs": [],
   "source": [
    "# clean up complete identical rows. Only do this if the results from the step above are not identical!\n",
    "df_st_immigration_countries = df_st_immigration_countries.drop_duplicates()"
   ],
   "metadata": {
    "collapsed": false,
    "pycharm": {
     "name": "#%%\n"
    }
   }
  },
  {
   "cell_type": "code",
   "execution_count": 28,
   "outputs": [
    {
     "name": "stdout",
     "output_type": "stream",
     "text": [
      "+------------------+-----------------------+\n",
      "|st_ic_country_code|st_ic_country_name     |\n",
      "+------------------+-----------------------+\n",
      "|0                 |INVALID: STATELESS     |\n",
      "|54                |No Country Code (54)   |\n",
      "|100               |No Country Code (100)  |\n",
      "|101               |ALBANIA                |\n",
      "|102               |ANDORRA                |\n",
      "|103               |AUSTRIA                |\n",
      "|104               |BELGIUM                |\n",
      "|105               |BULGARIA               |\n",
      "|106               |INVALID: CZECHOSLOVAKIA|\n",
      "|107               |POLAND                 |\n",
      "|108               |DENMARK                |\n",
      "|109               |ESTONIA                |\n",
      "|110               |FINLAND                |\n",
      "|111               |FRANCE                 |\n",
      "|112               |GERMANY                |\n",
      "|113               |GREECE                 |\n",
      "|114               |HUNGARY                |\n",
      "|115               |ICELAND                |\n",
      "|116               |IRELAND                |\n",
      "|117               |ITALY                  |\n",
      "|118               |LATVIA                 |\n",
      "|119               |LIECHTENSTEIN          |\n",
      "|120               |LITHUANIA              |\n",
      "|121               |LUXEMBOURG             |\n",
      "|122               |MONACO                 |\n",
      "|123               |NETHERLANDS            |\n",
      "|124               |NORWAY                 |\n",
      "|126               |PORTUGAL               |\n",
      "|127               |ROMANIA                |\n",
      "|128               |SAN MARINO             |\n",
      "|129               |SPAIN                  |\n",
      "|130               |SWEDEN                 |\n",
      "|131               |SWITZERLAND            |\n",
      "|134               |INVALID: USSR          |\n",
      "|135               |UNITED KINGDOM         |\n",
      "|139               |YUGOSLAVIA             |\n",
      "|140               |CZECH REPUBLIC         |\n",
      "|141               |SLOVAKIA               |\n",
      "|142               |SERBIA AND MONTENEGRO  |\n",
      "|143               |GIBRALTAR              |\n",
      "|145               |MALTA                  |\n",
      "|149               |HOLY SEE/VATICAN       |\n",
      "|151               |ARMENIA                |\n",
      "|152               |AZERBAIJAN             |\n",
      "|153               |BELARUS                |\n",
      "|154               |GEORGIA                |\n",
      "|155               |KAZAKHSTAN             |\n",
      "|156               |KYRGYZSTAN             |\n",
      "|157               |MOLDOVA                |\n",
      "|158               |RUSSIA                 |\n",
      "+------------------+-----------------------+\n",
      "only showing top 50 rows\n",
      "\n"
     ]
    }
   ],
   "source": [
    "# show prepared staging table st_immigration_countries\n",
    "df_st_immigration_countries.sort(\"st_ic_country_code\").show(50, False)"
   ],
   "metadata": {
    "collapsed": false,
    "pycharm": {
     "name": "#%%\n"
    }
   }
  },
  {
   "cell_type": "code",
   "execution_count": 29,
   "outputs": [],
   "source": [
    "# Select default value for all invalid entries. All country_code entries in the fact table that are not included in the\n",
    "# d_immigration countries dimension get the country_code 999 as default value (invalid)\n",
    "df_st_immigration_countries_default = df_st_immigration_countries\\\n",
    "    .select(\"st_ic_country_code\", \"st_ic_country_name\") \\\n",
    "    .filter(\"st_ic_country_code ==  999\")"
   ],
   "metadata": {
    "collapsed": false,
    "pycharm": {
     "name": "#%%\n"
    }
   }
  },
  {
   "cell_type": "code",
   "execution_count": 30,
   "outputs": [
    {
     "name": "stdout",
     "output_type": "stream",
     "text": [
      "+------------------+---------------------------------------------------------+\n",
      "|st_ic_country_code|st_ic_country_name                                       |\n",
      "+------------------+---------------------------------------------------------+\n",
      "|759               |INDIAN OCEAN AREAS (FRENCH)                              |\n",
      "|392               |MALI                                                     |\n",
      "|213               |INDIA                                                    |\n",
      "|335               |LESOTHO                                                  |\n",
      "|266               |VIETNAM                                                  |\n",
      "|691               |COLOMBIA                                                 |\n",
      "|163               |UZBEKISTAN                                               |\n",
      "|114               |HUNGARY                                                  |\n",
      "|525               |BRITISH VIRGIN ISLANDS                                   |\n",
      "|384               |CHAD                                                     |\n",
      "|528               |HONDURAS                                                 |\n",
      "|152               |AZERBAIJAN                                               |\n",
      "|721               |CURACAO                                                  |\n",
      "|121               |LUXEMBOURG                                               |\n",
      "|264               |TURKEY                                                   |\n",
      "|268               |TAIWAN                                                   |\n",
      "|469               |WALLIS AND FUTUNA ISLANDS                                |\n",
      "|251               |ISRAEL                                                   |\n",
      "|416               |PITCAIRN ISLANDS                                         |\n",
      "|348               |SIERRA LEONE                                             |\n",
      "|375               |BURUNDI                                                  |\n",
      "|409               |NEW CALEDONIA                                            |\n",
      "|696               |VENEZUELA                                                |\n",
      "|339               |GHANA                                                    |\n",
      "|338               |GAMBIA                                                   |\n",
      "|122               |MONACO                                                   |\n",
      "|412               |SOLOMON ISLANDS                                          |\n",
      "|131               |SWITZERLAND                                              |\n",
      "|508               |NETHERLANDS ANTILLES                                     |\n",
      "|372               |ERITREA                                                  |\n",
      "|320               |MADAGASCAR                                               |\n",
      "|760               |MAYOTTE (AFRICA - FRENCH)                                |\n",
      "|156               |KYRGYZSTAN                                               |\n",
      "|373               |SOUTH AFRICA                                             |\n",
      "|111               |FRANCE                                                   |\n",
      "|157               |MOLDOVA                                                  |\n",
      "|343               |NIGERIA                                                  |\n",
      "|532               |ARUBA                                                    |\n",
      "|159               |TAJIKISTAN                                               |\n",
      "|473               |MICRONESIA, FED. STATES OF                               |\n",
      "|275               |NORTH KOREA                                              |\n",
      "|145               |MALTA                                                    |\n",
      "|165               |CROATIA                                                  |\n",
      "|329               |MOZAMBIQUE                                               |\n",
      "|244               |SRI LANKA                                                |\n",
      "|206               |HONG KONG                                                |\n",
      "|743               |PALESTINE                                                |\n",
      "|391               |SENEGAL                                                  |\n",
      "|351               |SWAZILAND                                                |\n",
      "|327               |GUINEA-BISSAU                                            |\n",
      "|346               |ST. HELENA                                               |\n",
      "|417               |TONGA                                                    |\n",
      "|262               |SYRIA                                                    |\n",
      "|410               |VANUATU                                                  |\n",
      "|242               |BHUTAN                                                   |\n",
      "|383               |CENTRAL AFRICAN REPUBLIC                                 |\n",
      "|389               |MAURITANIA                                               |\n",
      "|376               |RWANDA                                                   |\n",
      "|387               |GABON                                                    |\n",
      "|271               |COCOS ISLANDS                                            |\n",
      "|345               |MALAWI                                                   |\n",
      "|516               |TRINIDAD AND TOBAGO                                      |\n",
      "|336               |BOTSWANA                                                 |\n",
      "|695               |URUGUAY                                                  |\n",
      "|108               |DENMARK                                                  |\n",
      "|143               |GIBRALTAR                                                |\n",
      "|687               |ARGENTINA                                                |\n",
      "|584               |CUBA                                                     |\n",
      "|521               |MONTSERRAT                                               |\n",
      "|272               |KUWAIT                                                   |\n",
      "|296               |UNITED ARAB EMIRATES                                     |\n",
      "|101               |ALBANIA                                                  |\n",
      "|440               |NAURU                                                    |\n",
      "|693               |PARAGUAY                                                 |\n",
      "|103               |AUSTRIA                                                  |\n",
      "|577               |GUATEMALA                                                |\n",
      "|370               |LIBERIA                                                  |\n",
      "|167               |MACEDONIA                                                |\n",
      "|140               |CZECH REPUBLIC                                           |\n",
      "|732               |KOSOVO                                                   |\n",
      "|749               |SAINT MAARTEN                                            |\n",
      "|472               |MARSHALL ISLANDS                                         |\n",
      "|112               |GERMANY                                                  |\n",
      "|255               |LEBANON                                                  |\n",
      "|158               |RUSSIA                                                   |\n",
      "|322               |DJIBOUTI                                                 |\n",
      "|153               |BELARUS                                                  |\n",
      "|340               |KENYA                                                    |\n",
      "|512               |BAHAMAS                                                  |\n",
      "|519               |DOMINICA                                                 |\n",
      "|729               |INDIAN OCEAN TERRITORY                                   |\n",
      "|716               |SAINT BARTHELEMY                                         |\n",
      "|207               |SINGAPORE                                                |\n",
      "|270               |CHRISTMAS ISLAND                                         |\n",
      "|694               |PERU                                                     |\n",
      "|162               |UKRAINE                                                  |\n",
      "|298               |BAHRAIN                                                  |\n",
      "|514               |JAMAICA                                                  |\n",
      "|504               |PANAMA                                                   |\n",
      "|527               |TURKS AND CAICOS ISLANDS                                 |\n",
      "|245               |CHINA, PRC                                               |\n",
      "|726               |HEARD AND MCDONALD IS.                                   |\n",
      "|438               |AUSTRALIA                                                |\n",
      "|249               |IRAN                                                     |\n",
      "|601               |FRENCH GUIANA                                            |\n",
      "|310               |CAMEROON                                                 |\n",
      "|368               |EGYPT                                                    |\n",
      "|399               |EQUATORIAL GUINEA                                        |\n",
      "|586               |HAITI                                                    |\n",
      "|757               |WEST INDIES (FRENCH)                                     |\n",
      "|240               |EAST TIMOR                                               |\n",
      "|371               |NAMIBIA                                                  |\n",
      "|316               |ALGERIA                                                  |\n",
      "|692               |ECUADOR                                                  |\n",
      "|105               |BULGARIA                                                 |\n",
      "|253               |JORDAN                                                   |\n",
      "|123               |NETHERLANDS                                              |\n",
      "|110               |FINLAND                                                  |\n",
      "|342               |MAURITIUS                                                |\n",
      "|581               |BELIZE                                                   |\n",
      "|299               |MONGOLIA                                                 |\n",
      "|381               |LIBYA                                                    |\n",
      "|273               |MALAYSIA                                                 |\n",
      "|745               |SERBIA                                                   |\n",
      "|250               |IRAQ                                                     |\n",
      "|214               |MACAU                                                    |\n",
      "|324               |ANGOLA                                                   |\n",
      "|209               |JAPAN                                                    |\n",
      "|315               |ZIMBABWE                                                 |\n",
      "|301               |ZAIRE                                                    |\n",
      "|474               |PALAU                                                    |\n",
      "|397               |SOMALIA                                                  |\n",
      "|117               |ITALY                                                    |\n",
      "|201               |KAMPUCHEA                                                |\n",
      "|333               |WESTERN SAHARA                                           |\n",
      "|386               |BENIN                                                    |\n",
      "|520               |GRENADA                                                  |\n",
      "|748               |REPUBLIC OF SOUTH SUDAN                                  |\n",
      "|511               |MARTINIQUE                                               |\n",
      "|161               |TURKMENISTAN                                             |\n",
      "|602               |SURINAME                                                 |\n",
      "|352               |UGANDA                                                   |\n",
      "|142               |SERBIA AND MONTENEGRO                                    |\n",
      "|127               |ROMANIA                                                  |\n",
      "|585               |DOMINICAN REPUBLIC                                       |\n",
      "|261               |SAUDI ARABIA                                             |\n",
      "|604               |FALKLAND ISLANDS                                         |\n",
      "|758               |GAZA STRIP                                               |\n",
      "|256               |OMAN                                                     |\n",
      "|688               |BOLIVIA                                                  |\n",
      "|382               |GUINEA                                                   |\n",
      "|317               |COMOROS                                                  |\n",
      "|116               |IRELAND                                                  |\n",
      "|119               |LIECHTENSTEIN                                            |\n",
      "|149               |HOLY SEE/VATICAN                                         |\n",
      "|353               |TANZANIA                                                 |\n",
      "|258               |PAKISTAN                                                 |\n",
      "|107               |POLAND                                                   |\n",
      "|723               |FAROE ISLANDS (PART OF DENMARK)                          |\n",
      "|413               |FIJI                                                     |\n",
      "|263               |THAILAND                                                 |\n",
      "|220               |MALDIVES                                                 |\n",
      "|332               |MOROCCO                                                  |\n",
      "|141               |SLOVAKIA                                                 |\n",
      "|321               |REUNION                                                  |\n",
      "|529               |ANGUILLA                                                 |\n",
      "|467               |COOK ISLANDS                                             |\n",
      "|203               |LAOS                                                     |\n",
      "|154               |GEORGIA                                                  |\n",
      "|390               |NIGER                                                    |\n",
      "|304               |TOGO                                                     |\n",
      "|735               |MONTENEGRO                                               |\n",
      "|330               |SAO TOME AND PRINCIPE                                    |\n",
      "|526               |CAYMAN ISLANDS                                           |\n",
      "|120               |LITHUANIA                                                |\n",
      "|470               |NIUE                                                     |\n",
      "|326               |CAPE VERDE                                               |\n",
      "|166               |SLOVENIA                                                 |\n",
      "|523               |ST. LUCIA                                                |\n",
      "|465               |WESTERN SAMOA                                            |\n",
      "|690               |CHILE                                                    |\n",
      "|603               |GUYANA                                                   |\n",
      "|243               |BURMA                                                    |\n",
      "|297               |QATAR                                                    |\n",
      "|218               |CYPRUS                                                   |\n",
      "|579               |NICARAGUA                                                |\n",
      "|118               |LATVIA                                                   |\n",
      "|414               |KIRIBATI                                                 |\n",
      "|236               |AFGHANISTAN                                              |\n",
      "|717               |BONAIRE, ST EUSTATIUS, SABA                              |\n",
      "|518               |ANTIGUA-BARBUDA                                          |\n",
      "|441               |PAPUA NEW GUINEA                                         |\n",
      "|420               |TUVALU                                                   |\n",
      "|575               |COSTA RICA                                               |\n",
      "|507               |GUADELOUPE                                               |\n",
      "|128               |SAN MARINO                                               |\n",
      "|522               |ST. KITTS-NEVIS                                          |\n",
      "|115               |ICELAND                                                  |\n",
      "|347               |SEYCHELLES                                               |\n",
      "|102               |ANDORRA                                                  |\n",
      "|582               |MEXICO Air Sea, and Not Reported (I-94, no land arrivals)|\n",
      "|369               |ETHIOPIA                                                 |\n",
      "|276               |SOUTH KOREA                                              |\n",
      "|736               |SAINT MARTIN                                             |\n",
      "|388               |IVORY COAST                                              |\n",
      "|257               |NEPAL                                                    |\n",
      "|104               |BELGIUM                                                  |\n",
      "|393               |BURKINA FASO                                             |\n",
      "|576               |EL SALVADOR                                              |\n",
      "|323               |TUNISIA                                                  |\n",
      "|217               |BRUNEI                                                   |\n",
      "|164               |BOSNIA-HERZEGOVINA                                       |\n",
      "|109               |ESTONIA                                                  |\n",
      "|126               |PORTUGAL                                                 |\n",
      "|502               |ST. PIERRE AND MIQUELON                                  |\n",
      "|509               |BERMUDA                                                  |\n",
      "|464               |NEW ZEALAND                                              |\n",
      "|524               |ST. VINCENT-GRENADINES                                   |\n",
      "|513               |BARBADOS                                                 |\n",
      "|204               |INDONESIA                                                |\n",
      "|130               |SWEDEN                                                   |\n",
      "|274               |BANGLADESH                                               |\n",
      "|155               |KAZAKHSTAN                                               |\n",
      "|689               |BRAZIL                                                   |\n",
      "|260               |PHILIPPINES                                              |\n",
      "|151               |ARMENIA                                                  |\n",
      "|411               |FRENCH POLYNESIA                                         |\n",
      "|135               |UNITED KINGDOM                                           |\n",
      "|385               |CONGO                                                    |\n",
      "|129               |SPAIN                                                    |\n",
      "|124               |NORWAY                                                   |\n",
      "|139               |YUGOSLAVIA                                               |\n",
      "|344               |ZAMBIA                                                   |\n",
      "|350               |SUDAN                                                    |\n",
      "|113               |GREECE                                                   |\n",
      "|216               |YEMEN                                                    |\n",
      "|999               |INVALID: UNKNOWN                                         |\n",
      "+------------------+---------------------------------------------------------+\n",
      "\n"
     ]
    }
   ],
   "source": [
    "# data cleansing: filter out invalid values from staging table and drop them. Join default value back to dataframe\n",
    "df_st_immigration_countries \\\n",
    "    .select(\"st_ic_country_code\",\n",
    "            F.regexp_replace('st_ic_country_name', r\"^No Country Code (.*)\", \"EntryToDelete\").alias(\"st_ic_country_name\")\n",
    "            )\\\n",
    "    .select(\"st_ic_country_code\",\n",
    "            F.regexp_replace('st_ic_country_name', r\"^.*\\((should not show)\\)\", \"EntryToDelete\").alias(\"st_ic_country_name\")\n",
    "            )\\\n",
    "    .select(\"st_ic_country_code\",\n",
    "            F.regexp_replace('st_ic_country_name', r\"^INVALID:.*\", \"EntryToDelete\").alias(\"st_ic_country_name\")\n",
    "        )\\\n",
    "    .filter(\"st_ic_country_name != 'EntryToDelete'\") \\\n",
    "    .union(df_st_immigration_countries_default)\\\n",
    "    .show(500, False)\n",
    "\n",
    "#"
   ],
   "metadata": {
    "collapsed": false,
    "pycharm": {
     "name": "#%%\n"
    }
   }
  },
  {
   "cell_type": "code",
   "execution_count": 31,
   "outputs": [],
   "source": [
    "# write staging table st_immigration_countries as parquet file\n",
    "location_to_write = \"../P8_capstone_resource_files/parquet_stage/PQ1/st_immigration_countries\"\n",
    "\n",
    "# delete folder if already exists\n",
    "if path.exists(location_to_write):\n",
    "    shutil.rmtree(location_to_write)\n",
    "\n",
    "df_st_immigration_countries \\\n",
    "    .repartition(int(1)) \\\n",
    "    .write \\\n",
    "    .format(\"parquet\")\\\n",
    "    .mode(saveMode='overwrite') \\\n",
    "    .parquet(location_to_write, compression=\"gzip\")\n"
   ],
   "metadata": {
    "collapsed": false,
    "pycharm": {
     "name": "#%%\n"
    }
   }
  },
  {
   "cell_type": "markdown",
   "source": [
    "3. Creation of a fact table named `f_i94_immigrations` based on staging table `st_i94_immigrations`."
   ],
   "metadata": {
    "collapsed": false
   }
  },
  {
   "cell_type": "code",
   "execution_count": 32,
   "outputs": [
    {
     "name": "stdout",
     "output_type": "stream",
     "text": [
      "root\n",
      " |-- st_i94_cit: integer (nullable = true)\n",
      " |-- st_i94_port: string (nullable = true)\n",
      " |-- st_i94_addr: string (nullable = true)\n",
      " |-- st_i94_arrdate: integer (nullable = true)\n",
      " |-- st_i94_arrdate_iso: date (nullable = true)\n",
      " |-- st_i94_depdate: integer (nullable = true)\n",
      " |-- st_i94_depdate_iso: date (nullable = true)\n",
      " |-- st_i94_dtadfile: date (nullable = true)\n",
      " |-- st_i94_matflag: string (nullable = true)\n",
      " |-- st_i94_count: integer (nullable = true)\n",
      " |-- st_i94_id: integer (nullable = true)\n",
      " |-- st_i94_year: integer (nullable = true)\n",
      " |-- st_i94_month: integer (nullable = true)\n",
      "\n"
     ]
    },
    {
     "data": {
      "text/plain": "12228839"
     },
     "execution_count": 32,
     "metadata": {},
     "output_type": "execute_result"
    }
   ],
   "source": [
    "# Read written data frame back into memory\n",
    "df_st_i94_immigrations = spark.read.parquet(\"../P8_capstone_resource_files/parquet_stage/PQ1/st_i94_immigrations\")\n",
    "\n",
    "# show current Schema\n",
    "df_st_i94_immigrations.printSchema()\n",
    "df_st_i94_immigrations.count()"
   ],
   "metadata": {
    "collapsed": false,
    "pycharm": {
     "name": "#%%\n"
    }
   }
  },
  {
   "cell_type": "code",
   "execution_count": 33,
   "outputs": [
    {
     "name": "stdout",
     "output_type": "stream",
     "text": [
      "root\n",
      " |-- f_i94_cit: integer (nullable = true)\n",
      " |-- f_i94_port: string (nullable = true)\n",
      " |-- f_i94_addr: string (nullable = true)\n",
      " |-- f_i94_arrdate_iso: date (nullable = true)\n",
      " |-- f_i94_depdate_iso: date (nullable = true)\n",
      " |-- f_i94_dtadfile: date (nullable = true)\n",
      " |-- f_i94_matflag: string (nullable = true)\n",
      " |-- f_i94_count: integer (nullable = true)\n",
      " |-- f_i94_id: integer (nullable = true)\n",
      " |-- f_i94_year: integer (nullable = true)\n",
      " |-- f_i94_month: integer (nullable = true)\n",
      " |-- d_ic_id: integer (nullable = true)\n",
      " |-- d_ia_id: string (nullable = true)\n",
      " |-- d_da_id: date (nullable = true)\n",
      " |-- d_dd_id: date (nullable = true)\n",
      "\n"
     ]
    }
   ],
   "source": [
    "# create fact table f_i94_immigration based of staging table st_i94_immigration\n",
    "df_f_i94_immigrations = df_st_i94_immigrations\\\n",
    "    .withColumnRenamed(\"st_i94_id\", \"f_i94_id\")\\\n",
    "    .withColumnRenamed(\"st_i94_cit\", \"f_i94_cit\")\\\n",
    "    .withColumnRenamed(\"st_i94_addr\", \"f_i94_addr\")\\\n",
    "    .withColumnRenamed(\"st_i94_arrdate\", \"f_i94_arrdate\")\\\n",
    "    .withColumnRenamed(\"st_i94_arrdate_iso\", \"f_i94_arrdate_iso\")\\\n",
    "    .withColumnRenamed(\"st_i94_depdate\", \"f_i94_depdate\")\\\n",
    "    .withColumnRenamed(\"st_i94_depdate_iso\", \"f_i94_depdate_iso\")\\\n",
    "    .withColumnRenamed(\"st_i94_dtadfile\", \"f_i94_dtadfile\")\\\n",
    "    .withColumnRenamed(\"st_i94_matflag\", \"f_i94_matflag\")\\\n",
    "    .withColumnRenamed(\"st_i94_count\", \"f_i94_count\")\\\n",
    "    .withColumnRenamed(\"st_i94_year\", \"f_i94_year\")\\\n",
    "    .withColumnRenamed(\"st_i94_month\", \"f_i94_month\")\\\n",
    "    .withColumnRenamed(\"st_i94_port\", \"f_i94_port\")\\\n",
    "    .withColumn(\"d_ic_id\", col(\"f_i94_cit\"))\\\n",
    "    .withColumn(\"d_ia_id\", col(\"f_i94_port\")) \\\n",
    "    .withColumn(\"d_da_id\", col(\"f_i94_arrdate_iso\")) \\\n",
    "    .withColumn(\"d_dd_id\", col(\"f_i94_depdate_iso\")) \\\n",
    "    .drop(\"f_i94_arrdate\")\\\n",
    "    .drop(\"f_i94_depdate\")\n",
    "\n",
    "# show current fact table Schema\n",
    "df_f_i94_immigrations.printSchema()"
   ],
   "metadata": {
    "collapsed": false,
    "pycharm": {
     "name": "#%%\n"
    }
   }
  },
  {
   "cell_type": "code",
   "execution_count": 34,
   "outputs": [
    {
     "name": "stdout",
     "output_type": "stream",
     "text": [
      "+---------+----------+----------+-----------------+-----------------+--------------+-------------+-----------+--------+----------+-----------+-------+-------+----------+----------+\n",
      "|f_i94_cit|f_i94_port|f_i94_addr|f_i94_arrdate_iso|f_i94_depdate_iso|f_i94_dtadfile|f_i94_matflag|f_i94_count|f_i94_id|f_i94_year|f_i94_month|d_ic_id|d_ia_id|d_da_id   |d_dd_id   |\n",
      "+---------+----------+----------+-----------------+-----------------+--------------+-------------+-----------+--------+----------+-----------+-------+-------+----------+----------+\n",
      "|254      |DAL       |KY        |2016-07-26       |2016-07-29       |2016-07-29    |M            |1          |8643306 |2016      |7          |254    |DAL    |2016-07-26|2016-07-29|\n",
      "|0        |HHW       |99        |2016-07-01       |2016-09-16       |2016-07-01    |M            |1          |7195726 |2016      |7          |0      |HHW    |2016-07-01|2016-09-16|\n",
      "|254      |DAL       |KY        |2016-07-26       |2016-08-04       |2016-08-04    |M            |1          |8626942 |2016      |7          |254    |DAL    |2016-07-26|2016-08-04|\n",
      "|0        |NYC       |99        |2016-07-01       |2016-09-17       |2016-07-01    |M            |1          |7196164 |2016      |7          |0      |NYC    |2016-07-01|2016-09-17|\n",
      "|254      |DAL       |KY        |2016-07-26       |2016-08-18       |2016-08-18    |M            |1          |8638982 |2016      |7          |254    |DAL    |2016-07-26|2016-08-18|\n",
      "+---------+----------+----------+-----------------+-----------------+--------------+-------------+-----------+--------+----------+-----------+-------+-------+----------+----------+\n",
      "only showing top 5 rows\n",
      "\n"
     ]
    }
   ],
   "source": [
    "# take a look inside the fact table f_i94_immigration\n",
    "df_f_i94_immigrations.show(5,False)"
   ],
   "metadata": {
    "collapsed": false,
    "pycharm": {
     "name": "#%%\n"
    }
   }
  },
  {
   "cell_type": "code",
   "execution_count": 35,
   "outputs": [],
   "source": [
    "# write fact table f_i94_immigration based on staging table st_i94_immigration (~ 69 MB)\n",
    "location_to_write = \"../P8_capstone_resource_files/parquet_star/PQ1/f_i94_immigrations\"\n",
    "\n",
    "# delete folder if already exists\n",
    "if path.exists(location_to_write):\n",
    "    shutil.rmtree(location_to_write)\n",
    "\n",
    "df_f_i94_immigrations \\\n",
    "    .repartition(int(1)) \\\n",
    "    .write \\\n",
    "    .format(\"parquet\")\\\n",
    "    .mode(saveMode='overwrite') \\\n",
    "    .partitionBy(\"f_i94_year\", \"f_i94_month\")\\\n",
    "    .parquet(location_to_write, compression=\"gzip\")\n"
   ],
   "metadata": {
    "collapsed": false,
    "pycharm": {
     "name": "#%%\n"
    }
   }
  },
  {
   "cell_type": "markdown",
   "source": [
    "4. Creation of a dimension named `d_immigration_countries` based on staging table `st_immigration_countries`."
   ],
   "metadata": {
    "collapsed": false
   }
  },
  {
   "cell_type": "code",
   "execution_count": 36,
   "outputs": [
    {
     "name": "stdout",
     "output_type": "stream",
     "text": [
      "root\n",
      " |-- st_ic_country_code: integer (nullable = true)\n",
      " |-- st_ic_country_name: string (nullable = true)\n",
      "\n",
      "root\n",
      " |-- d_ic_country_code: integer (nullable = true)\n",
      " |-- d_ic_country_name: string (nullable = true)\n",
      " |-- d_ic_id: integer (nullable = true)\n",
      "\n",
      "+-----------------+---------------------+-------+\n",
      "|d_ic_country_code|d_ic_country_name    |d_ic_id|\n",
      "+-----------------+---------------------+-------+\n",
      "|0                |INVALID: STATELESS   |0      |\n",
      "|54               |No Country Code (54) |54     |\n",
      "|100              |No Country Code (100)|100    |\n",
      "|101              |ALBANIA              |101    |\n",
      "|102              |ANDORRA              |102    |\n",
      "+-----------------+---------------------+-------+\n",
      "only showing top 5 rows\n",
      "\n"
     ]
    }
   ],
   "source": [
    "# Read written data frame back into memory\n",
    "df_st_i94_immigration_countries = spark.read.parquet(\"../P8_capstone_resource_files/parquet_stage/PQ1/st_immigration_countries\")\n",
    "\n",
    "# show current Schema\n",
    "df_st_i94_immigration_countries.printSchema()\n",
    "\n",
    "\n",
    "# create dimension table d_i94_immigration_countries based of staging table st_i94_immigration_countries\n",
    "df_d_i94_immigration_countries = df_st_i94_immigration_countries\\\n",
    "    .withColumn(\"d_ic_id\", col(\"st_ic_country_code\"))\\\n",
    "    .withColumnRenamed(\"st_ic_country_code\", \"d_ic_country_code\")\\\n",
    "    .withColumnRenamed(\"st_ic_country_name\", \"d_ic_country_name\")\n",
    "\n",
    "# get current content of dimension table\n",
    "df_d_i94_immigration_countries.printSchema()\n",
    "df_d_i94_immigration_countries.sort(\"d_ic_id\").show(5, False)\n",
    "\n",
    "\n",
    "# write fact table f_i94_immigration based on staging table st_i94_immigration\n",
    "location_to_write = \"../P8_capstone_resource_files/parquet_star/PQ1/d_immigration_countries\"\n",
    "\n",
    "# delete folder if already exists\n",
    "if path.exists(location_to_write):\n",
    "    shutil.rmtree(location_to_write)\n",
    "\n",
    "df_d_i94_immigration_countries \\\n",
    "    .repartition(int(1)) \\\n",
    "    .write \\\n",
    "    .format(\"parquet\")\\\n",
    "    .mode(saveMode='overwrite') \\\n",
    "    .parquet(location_to_write, compression=\"gzip\")"
   ],
   "metadata": {
    "collapsed": false,
    "pycharm": {
     "name": "#%%\n"
    }
   }
  },
  {
   "cell_type": "markdown",
   "source": [
    "5. Mapping of dimension `d_immigration_countries` to  fact table `f_i94_immigration` based on columns\n",
    "   (`st_i94_immigration.st_i94_cit` --> `f_i94_immigration.d_ic_id`) == (`st_immigration_countries.st_ic_country_code`\n",
    "   --> `d_immigration_countries.d_ic_id` )"
   ],
   "metadata": {
    "collapsed": false
   }
  },
  {
   "cell_type": "markdown",
   "source": [
    "6. Answer Project Question 1: From which country do immigrants come to the U.S. and how many?"
   ],
   "metadata": {
    "collapsed": false
   }
  },
  {
   "cell_type": "code",
   "execution_count": 37,
   "outputs": [
    {
     "name": "stdout",
     "output_type": "stream",
     "text": [
      "root\n",
      " |-- f_i94_cit: integer (nullable = true)\n",
      " |-- f_i94_port: string (nullable = true)\n",
      " |-- f_i94_addr: string (nullable = true)\n",
      " |-- f_i94_arrdate_iso: date (nullable = true)\n",
      " |-- f_i94_depdate_iso: date (nullable = true)\n",
      " |-- f_i94_dtadfile: date (nullable = true)\n",
      " |-- f_i94_matflag: string (nullable = true)\n",
      " |-- f_i94_count: integer (nullable = true)\n",
      " |-- f_i94_id: integer (nullable = true)\n",
      " |-- d_ic_id: integer (nullable = true)\n",
      " |-- d_ia_id: string (nullable = true)\n",
      " |-- d_da_id: date (nullable = true)\n",
      " |-- d_dd_id: date (nullable = true)\n",
      " |-- f_i94_year: integer (nullable = true)\n",
      " |-- f_i94_month: integer (nullable = true)\n",
      "\n",
      "root\n",
      " |-- d_ic_country_code: integer (nullable = true)\n",
      " |-- d_ic_country_name: string (nullable = true)\n",
      " |-- d_ic_id: integer (nullable = true)\n",
      "\n"
     ]
    }
   ],
   "source": [
    "# Read written data frame back into memory\n",
    "df_f_i94_immigrations = spark.read.parquet(\"../P8_capstone_resource_files/parquet_star/PQ1/f_i94_immigrations\")\n",
    "df_d_immigration_countries = spark.read.parquet(\"../P8_capstone_resource_files/parquet_star/PQ1/d_immigration_countries\")\n",
    "\n",
    "# check read data frames\n",
    "df_f_i94_immigrations.printSchema()\n",
    "df_d_immigration_countries.printSchema()"
   ],
   "metadata": {
    "collapsed": false,
    "pycharm": {
     "name": "#%%\n"
    }
   }
  },
  {
   "cell_type": "code",
   "execution_count": 38,
   "outputs": [
    {
     "name": "stdout",
     "output_type": "stream",
     "text": [
      "+---------+--------------------+----------+---------------+\n",
      "|county_id|             country|immigrants|Immigrants_rank|\n",
      "+---------+--------------------+----------+---------------+\n",
      "|      135|      UNITED KINGDOM|    815721|              1|\n",
      "|      245|          CHINA, PRC|    767992|              2|\n",
      "|      582|MEXICO Air Sea, a...|    684295|              3|\n",
      "|      213|               INDIA|    544067|              4|\n",
      "|      209|               JAPAN|    441132|              5|\n",
      "|      111|              FRANCE|    408438|              6|\n",
      "|      689|              BRAZIL|    387223|              7|\n",
      "|      438|           AUSTRALIA|    352852|              8|\n",
      "|      117|               ITALY|    317084|              9|\n",
      "|      129|               SPAIN|    281121|             10|\n",
      "+---------+--------------------+----------+---------------+\n",
      "\n"
     ]
    }
   ],
   "source": [
    "# Register data frames as Views\n",
    "df_f_i94_immigrations.createOrReplaceTempView(\"f_i94_immigrations\")\n",
    "df_d_immigration_countries.createOrReplaceTempView(\"d_immigration_countries\")\n",
    "\n",
    "\n",
    "# SQL to answer project question 1 (From which country do immigrants come to the U.S. and how many?)\n",
    "df_pq1 = spark.sql(\"select f_i94.f_i94_cit as county_id\"\n",
    "                   \"     , d_ic.d_ic_country_name as country\"\n",
    "                   \"     , count(f_i94.f_i94_count) as immigrants\"\n",
    "                   \"     , RANK() OVER (ORDER BY count(f_i94.f_i94_count) desc) Immigrants_rank\"\n",
    "                   \"  from f_i94_immigrations f_i94\"\n",
    "                   \"  join d_immigration_countries d_ic on d_ic.d_ic_id = f_i94.d_ic_id\"\n",
    "                   \" group by f_i94.f_i94_cit\"\n",
    "                   \"         ,d_ic.d_ic_country_name\"\n",
    "                   \"  order by Immigrants_rank\"\n",
    "                   \"\")\n",
    "\n",
    "# Show top 10 countries where Immigrants come from and how many\n",
    "df_pq1.filter(df_pq1.Immigrants_rank < 11).show()\n",
    "\n",
    "\"\"\"\n",
    "+---------+--------------------+----------+---------------+\n",
    "|county_id|             country|immigrants|Immigrants_rank|\n",
    "+---------+--------------------+----------+---------------+\n",
    "|      135|      UNITED KINGDOM|    815721|              1|\n",
    "|      245|          CHINA, PRC|    767992|              2|\n",
    "|      582|MEXICO Air Sea, a...|    684295|              3|\n",
    "|      213|               INDIA|    544067|              4|\n",
    "|      209|               JAPAN|    441132|              5|\n",
    "|      111|              FRANCE|    408438|              6|\n",
    "|      689|              BRAZIL|    387223|              7|\n",
    "|      438|           AUSTRALIA|    352852|              8|\n",
    "|      117|               ITALY|    317084|              9|\n",
    "|      129|               SPAIN|    281121|             10|\n",
    "+---------+--------------------+----------+---------------+\n",
    "\"\"\""
   ],
   "metadata": {
    "collapsed": false,
    "pycharm": {
     "name": "#%%\n"
    }
   }
  }
 ],
 "metadata": {
  "kernelspec": {
   "display_name": "Python 3",
   "language": "python",
   "name": "python3"
  },
  "language_info": {
   "codemirror_mode": {
    "name": "ipython",
    "version": 3
   },
   "file_extension": ".py",
   "mimetype": "text/x-python",
   "name": "python",
   "nbconvert_exporter": "python",
   "pygments_lexer": "ipython3",
   "version": "3.8.5"
  }
 },
 "nbformat": 4,
 "nbformat_minor": 1
}