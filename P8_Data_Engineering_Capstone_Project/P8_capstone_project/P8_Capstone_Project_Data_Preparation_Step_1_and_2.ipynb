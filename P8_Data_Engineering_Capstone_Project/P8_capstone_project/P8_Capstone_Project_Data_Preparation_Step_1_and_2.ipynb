{
 "cells": [
  {
   "cell_type": "markdown",
   "source": [
    "# Project 08 - Analysis of U.S. Immigration (I-94) Data\n",
    "### Udacity Data Engineer - Capstone Project\n",
    "> by Peter Wissel | 2021-04-03\n",
    "\n",
    "## Project Overview\n",
    "This project works with a data set for immigration to the United States. The supplementary datasets will include data on\n",
    "airport codes, U.S. city demographics and temperature data.\n",
    "\n",
    "The following process is divided into five sub-steps to illustrate how to answer the questions set by the business\n",
    "analytics team.\n",
    "\n",
    "The project file follows the following steps:\n",
    "* Step 1: Scope the Project and Gather Data\n",
    "* Step 2: Explore and Assess the Data\n",
    "\n"
   ],
   "metadata": {
    "collapsed": false
   }
  },
  {
   "cell_type": "markdown",
   "source": [
    "### Step 1: Scope the Project and Gather Data\n",
    "\n",
    "##### Scope of the Project\n",
    "Based on the given data set, the following four project questions (PQ) are posed for business analysis, which need to be\n",
    " answered in this project. The data pipeline and star data model are completely aligned with the questions.\n",
    "\n",
    "1. From which country do immigrants come to the U.S. and how many?\n",
    "2. At what airports do foreign persons arrive for immigration to the U.S.?\n",
    "3. At what times do foreign persons arrive for immigration to the U.S.?\n",
    "4. To which states in the U.S. do immigrants want to continue their travel after their initial arrival and what\n",
    "   demographics can immigrants expect when they arrive in the destination state, such as average temperature, population\n",
    "   numbers or population density?\n",
    "\n",
    "\n",
    "##### Gather Data\n",
    "The project works primarily with a dataset based on immigration data (I94) to the United States.\n",
    "\n",
    "- Gathering Data (given data sets):\n",
    "    1. [Immigration data '18-83510-I94-Data-2016' to the U.S.](https://travel.trade.gov/research/programs/i94/description.asp)\n",
    "    2. [airport-codes_csv.csv: Airports around the world](https://datahub.io/core/airport-codes#data)\n",
    "    3. [us-cities-demographics.csv: US cities and it's information about citizens](https://public.opendatasoft.com/explore/dataset/us-cities-demographics/export/)\n",
    "    4. [GlobalLandTemperaturesByCity.csv: Temperature grouped by City and Country](https://www.kaggle.com/berkeleyearth/climate-change-earth-surface-temperature-data)"
   ],
   "metadata": {
    "collapsed": false
   }
  },
  {
   "cell_type": "markdown",
   "source": [
    "### Step 2: Explore and Assess the Data\n",
    "The next step is used to find insights within given data.\n",
    "\n",
    "#### Summary for Immigration data `18-83510-I94-Data-2016` to the U.S.:\n",
    "* **Source**: [Visitor Arrivals Program (I-94 Form)](https://travel.trade.gov/research/programs/i94/description.asp)\n",
    "* **Description**: [I94_SAS_Labels_Descriptions.SAS](../P8_capstone_resource_files/I94_SAS_Labels_Descriptions.SAS) file\n",
    "contains descriptions for the I94 data\n",
    "* **Data**: Month based dataset for year 2016\n",
    "* **Format**: SAS (SAS7BDAT - e.g. `i94_apr16_sub.sas7bdat`)\n",
    "* **Rows**: Over 3 million lines for each file. In total, about 40 million lines.\n",
    "* **Data description**: Data has 29 columns containing information about event date, arriving person, airport, airline, etc.\n",
    "![I94-immigration-data example](../P8_capstone_documentation/10_P8_immigration_data_sample.png)\n",
    "NOTE: The Data has to be paid. Year 2016 is included and available for Udacity DEND course.\n",
    "\n",
    "##### Immigration data '18-83510-I94-Data-2016' to the U.S.\n",
    "   The descriptions for the listed columns were taken from file [I94_SAS_Labels_Descriptions.SAS](../P8_capstone_resource_files/I94_SAS_Labels_Descriptions.SAS).\n",
    "\n",
    "    - **i94yr:** 4 digit year\n",
    "    - **i94mon:** numeric month\n",
    "    - **i94cit + i94res:** Country where the immigrants come from - `Country code, country name`\n",
    "    Look at file [I94_SAS_Labels_I94CIT_I94RES.txt](../P8_capstone_resource_files/I94_sas_labels_descriptions_extracted_data/I94_SAS_Labels_I94CIT_I94RES.txt) for more details.\n",
    "\n",
    "            438 =  'AUSTRALIA'\n",
    "            112 =  'GERMANY'\n",
    "    ! Note that the I94 country codes are different from the ISO country numbers.\n",
    "\n",
    "   - **i94port:** arrival airport - `Airport code, Airport city, State of Airport`. Note that the airport code is **not** the same as the [IATA](https://en.wikipedia.org/wiki/International_Air_Transport_Association) code.\n",
    "     [IATA-Code Search Engine](https://www.iatacodes.de/)\n",
    "\n",
    "   The data of the I-94 table do not correspond to the current ISO standards. Therefore, `SFR` is used for San\n",
    "   Francisco Airport rather than the more common `SFO` designation.\n",
    "\n",
    "            'SFR'\t=\t'SAN FRANCISCO, CA     '\n",
    "            'LOS'\t=\t'LOS ANGELES, CA       '\n",
    "            'NYC'\t=\t'NEW YORK, NY          '\n",
    "\n",
    "    Look at file [I94_SAS_Labels_I94PORT.txt](../P8_capstone_resource_files/I94_sas_labels_descriptions_extracted_data/I94_SAS_Labels_I94PORT.txt) for more details.\n",
    "\n",
    "   - **arrdate:** Arrival date in the U.S. (SAS Date format)\n",
    "\n",
    "            SAS: Start Date is 01.01.1960 (SAS - Days since 1/1/1960: 0)\n",
    "            Example:\n",
    "            01.01.1960: (SAS: Days since 1/1/1960: 0)\n",
    "            01.01.1970: (SAS: Days since 1/1/1960: 3653)\n",
    "\n",
    "        Take a look at [Free SAS Date Calculator](https://www.sastipsbyhal.com)\n",
    "       \n",
    "\n",
    "    - **i94mode:** Type of immigration to U.S.\n",
    "    Look at file [I94_SAS_Labels_I94MODE.txt](../P8_capstone_resource_files/I94_sas_labels_descriptions_extracted_data/I94_SAS_Labels_I94MODE.txt) for more details.\n",
    "\n",
    "            1 = 'Air'\n",
    "            2 = 'Sea'\n",
    "            3 = 'Land'\n",
    "            9 = 'Not reported'\n",
    "\n",
    "    - **i94addr:** Location State where the immigrants want travel to.\n",
    "      Look at file [I94_SAS_Labels_I94ADDR.txt](../P8_capstone_resource_files/I94_sas_labels_descriptions_extracted_data/I94_SAS_Labels_I94ADDR.txt) for more details.\n",
    "\n",
    "            'AL'='ALABAMA'\n",
    "            'IN'='INDIANA'\n",
    "\n",
    "    - **depdate:** Departure date from USA (SAS Date format) -> look at `arrdate` for calculation\n",
    "\n",
    "    - **i94bir:** Age of respondent in years\n",
    "    - **i94ivsa:** Visa codes collapsed into three categories:\n",
    "      Look at file [I94_SAS_Labels_I94VISA.txt](../P8_capstone_resource_files/I94_sas_labels_descriptions_extracted_data/I94_SAS_Labels_I94VISA.txt) for more details.\n",
    "\n",
    "            1 = Business\n",
    "            2 = Pleasure\n",
    "            3 = Student\n",
    "\n",
    "    - **count:** value is for summary statistics\n",
    "    - **dtadfile:** Date added to I-94 Files - Character date field as YYYYMMDD (represents `arrdate`)\n",
    "    - **visapost:** Department of state where Visa was issued\n",
    "    - **occup:** Occupation that will be performed in U.S.\n",
    "    - **entdepa:** Arrival Flag - admitted or paroled into the U.S.\n",
    "    - **entdepd:** Departure Flag - Departed, lost I-94 or is deceased\n",
    "    - **entdepu:** Update Flag - Either apprehended, overstayed, adjusted to perm residence\n",
    "    - **matflag:** Match flag - Match of arrival and departure records\n",
    "    - **biryear:** 4 digit year of birth\n",
    "    - **dtaddto:** Date to which admitted to U.S. (allowed to stay until) - Character date field as MMDDYYYY (represents `depdate`)\n",
    "    - **gender:** Gender - Non-immigrant sex\n",
    "    - **insnum:** Insurance (INS) number\n",
    "    - **airline:** Airline used to arrive in U.S.\n",
    "    - **admnum:** Admission Number\n",
    "    - **fltno:** Flight number of Airline used to arrive in U.S.\n",
    "    - **viatype:** Class of admission legally admitting the non-immigrant to temporarily stay in U.S.\n"
   ],
   "metadata": {
    "collapsed": false
   }
  },
  {
   "cell_type": "markdown",
   "source": [
    "##### Imports and Installs section"
   ],
   "metadata": {
    "collapsed": false
   }
  },
  {
   "cell_type": "code",
   "execution_count": 1,
   "outputs": [],
   "source": [
    "import shutil\n",
    "import pandas as pd\n",
    "import pyspark.sql.functions as F\n",
    "# import spark as spark\n",
    "from pyspark.sql.types import StructType, StructField, DoubleType, StringType, IntegerType, LongType, TimestampType, DateType\n",
    "from datetime import datetime, timedelta\n",
    "from pyspark.sql import SparkSession, DataFrameNaFunctions\n",
    "from pyspark.sql.functions import when, count, col, to_date, datediff, date_format, month\n",
    "import re\n",
    "import json\n",
    "from os import path"
   ],
   "metadata": {
    "collapsed": false,
    "pycharm": {
     "name": "#%%\n"
    }
   }
  },
  {
   "cell_type": "markdown",
   "source": [
    "##### Create Pandas and SparkSession to create data frames from source data"
   ],
   "metadata": {
    "collapsed": false
   }
  },
  {
   "cell_type": "code",
   "execution_count": 2,
   "outputs": [],
   "source": [
    "# If code will be executed in Udacity workbench --> use the following config(...)\n",
    "#spark = SparkSession.builder.config(\"spark.jars.packages\",\"saurfang:spark-sas7bdat:2.0.0-s_2.11\").enableHiveSupport().getOrCreate()\n",
    "\n",
    "# The version number for \"saurfang:spark-sas7bdat\" had to be updated for the local installation\n",
    "MAX_MEMORY = \"5g\"\n",
    "\n",
    "spark = SparkSession\\\n",
    "    .builder\\\n",
    "    .appName(\"etl pipeline for project 8 - I94 data\") \\\n",
    "    .config(\"spark.jars.packages\",\"saurfang:spark-sas7bdat:3.0.0-s_2.12\")\\\n",
    "    .config('spark.sql.repl.eagerEval.enabled', True) \\\n",
    "    .config(\"spark.executor.memory\", MAX_MEMORY) \\\n",
    "    .config(\"spark.driver.memory\", MAX_MEMORY) \\\n",
    "    .appName(\"Foo\") \\\n",
    "    .enableHiveSupport()\\\n",
    "    .getOrCreate()\n",
    "\n",
    "# setting the current LOG-Level\n",
    "spark.sparkContext.setLogLevel('ERROR')\n"
   ],
   "metadata": {
    "collapsed": false,
    "pycharm": {
     "name": "#%%\n"
    }
   }
  },
  {
   "cell_type": "code",
   "execution_count": 3,
   "outputs": [],
   "source": [
    "# Read data from Immigration data '18-83510-I94-Data-2016' to the U.S.\n",
    "filepath = '../P8_capstone_resource_files/immigration_data/18-83510-I94-Data-2016/i94_feb16_sub.sas7bdat'\n",
    "df_pd_i94 = pd.read_sas(filepath, format=None, index=None, encoding=None, chunksize=None, iterator=False)"
   ],
   "metadata": {
    "collapsed": false,
    "pycharm": {
     "name": "#%%\n"
    }
   }
  },
  {
   "cell_type": "code",
   "execution_count": 4,
   "outputs": [
    {
     "data": {
      "text/plain": "   cicid   i94yr  i94mon  i94cit  i94res i94port  arrdate  i94mode i94addr  \\\n0    2.0  2016.0     2.0   101.0   101.0  b'ATL'  20498.0      1.0   b'MI'   \n1    5.0  2016.0     2.0   101.0   101.0  b'CHI'  20492.0      1.0   b'IL'   \n2    6.0  2016.0     2.0   101.0   101.0  b'CHI'  20492.0      1.0   b'IL'   \n3    7.0  2016.0     2.0   101.0   101.0  b'CHI'  20500.0      1.0   b'AZ'   \n4    8.0  2016.0     2.0   101.0   101.0  b'CHI'  20503.0      1.0   b'IL'   \n\n   depdate  ...  entdepu  matflag  biryear      dtaddto gender insnum airline  \\\n0      NaN  ...      NaN      NaN   1995.0       b'D/S'   b'F'    NaN   b'DL'   \n1      NaN  ...      NaN      NaN   1961.0  b'08072016'   b'F'    NaN   b'TK'   \n2      NaN  ...      NaN      NaN   2010.0  b'08072016'   b'M'    NaN   b'TK'   \n3  20527.0  ...      NaN     b'M'   1978.0  b'08152016'   b'F'    NaN   b'LH'   \n4  20518.0  ...      NaN     b'M'   1979.0  b'08182016'   b'M'    NaN   b'AA'   \n\n        admnum   fltno visatype  \n0  491319785.0  b'241'    b'F1'  \n1  470581085.0    b'5'    b'B2'  \n2  470572885.0    b'5'    b'B2'  \n3  497400985.0  b'434'    b'B2'  \n4  507772085.0   b'87'    b'B2'  \n\n[5 rows x 28 columns]",
      "text/html": "<div>\n<style scoped>\n    .dataframe tbody tr th:only-of-type {\n        vertical-align: middle;\n    }\n\n    .dataframe tbody tr th {\n        vertical-align: top;\n    }\n\n    .dataframe thead th {\n        text-align: right;\n    }\n</style>\n<table border=\"1\" class=\"dataframe\">\n  <thead>\n    <tr style=\"text-align: right;\">\n      <th></th>\n      <th>cicid</th>\n      <th>i94yr</th>\n      <th>i94mon</th>\n      <th>i94cit</th>\n      <th>i94res</th>\n      <th>i94port</th>\n      <th>arrdate</th>\n      <th>i94mode</th>\n      <th>i94addr</th>\n      <th>depdate</th>\n      <th>...</th>\n      <th>entdepu</th>\n      <th>matflag</th>\n      <th>biryear</th>\n      <th>dtaddto</th>\n      <th>gender</th>\n      <th>insnum</th>\n      <th>airline</th>\n      <th>admnum</th>\n      <th>fltno</th>\n      <th>visatype</th>\n    </tr>\n  </thead>\n  <tbody>\n    <tr>\n      <th>0</th>\n      <td>2.0</td>\n      <td>2016.0</td>\n      <td>2.0</td>\n      <td>101.0</td>\n      <td>101.0</td>\n      <td>b'ATL'</td>\n      <td>20498.0</td>\n      <td>1.0</td>\n      <td>b'MI'</td>\n      <td>NaN</td>\n      <td>...</td>\n      <td>NaN</td>\n      <td>NaN</td>\n      <td>1995.0</td>\n      <td>b'D/S'</td>\n      <td>b'F'</td>\n      <td>NaN</td>\n      <td>b'DL'</td>\n      <td>491319785.0</td>\n      <td>b'241'</td>\n      <td>b'F1'</td>\n    </tr>\n    <tr>\n      <th>1</th>\n      <td>5.0</td>\n      <td>2016.0</td>\n      <td>2.0</td>\n      <td>101.0</td>\n      <td>101.0</td>\n      <td>b'CHI'</td>\n      <td>20492.0</td>\n      <td>1.0</td>\n      <td>b'IL'</td>\n      <td>NaN</td>\n      <td>...</td>\n      <td>NaN</td>\n      <td>NaN</td>\n      <td>1961.0</td>\n      <td>b'08072016'</td>\n      <td>b'F'</td>\n      <td>NaN</td>\n      <td>b'TK'</td>\n      <td>470581085.0</td>\n      <td>b'5'</td>\n      <td>b'B2'</td>\n    </tr>\n    <tr>\n      <th>2</th>\n      <td>6.0</td>\n      <td>2016.0</td>\n      <td>2.0</td>\n      <td>101.0</td>\n      <td>101.0</td>\n      <td>b'CHI'</td>\n      <td>20492.0</td>\n      <td>1.0</td>\n      <td>b'IL'</td>\n      <td>NaN</td>\n      <td>...</td>\n      <td>NaN</td>\n      <td>NaN</td>\n      <td>2010.0</td>\n      <td>b'08072016'</td>\n      <td>b'M'</td>\n      <td>NaN</td>\n      <td>b'TK'</td>\n      <td>470572885.0</td>\n      <td>b'5'</td>\n      <td>b'B2'</td>\n    </tr>\n    <tr>\n      <th>3</th>\n      <td>7.0</td>\n      <td>2016.0</td>\n      <td>2.0</td>\n      <td>101.0</td>\n      <td>101.0</td>\n      <td>b'CHI'</td>\n      <td>20500.0</td>\n      <td>1.0</td>\n      <td>b'AZ'</td>\n      <td>20527.0</td>\n      <td>...</td>\n      <td>NaN</td>\n      <td>b'M'</td>\n      <td>1978.0</td>\n      <td>b'08152016'</td>\n      <td>b'F'</td>\n      <td>NaN</td>\n      <td>b'LH'</td>\n      <td>497400985.0</td>\n      <td>b'434'</td>\n      <td>b'B2'</td>\n    </tr>\n    <tr>\n      <th>4</th>\n      <td>8.0</td>\n      <td>2016.0</td>\n      <td>2.0</td>\n      <td>101.0</td>\n      <td>101.0</td>\n      <td>b'CHI'</td>\n      <td>20503.0</td>\n      <td>1.0</td>\n      <td>b'IL'</td>\n      <td>20518.0</td>\n      <td>...</td>\n      <td>NaN</td>\n      <td>b'M'</td>\n      <td>1979.0</td>\n      <td>b'08182016'</td>\n      <td>b'M'</td>\n      <td>NaN</td>\n      <td>b'AA'</td>\n      <td>507772085.0</td>\n      <td>b'87'</td>\n      <td>b'B2'</td>\n    </tr>\n  </tbody>\n</table>\n<p>5 rows × 28 columns</p>\n</div>"
     },
     "execution_count": 4,
     "metadata": {},
     "output_type": "execute_result"
    }
   ],
   "source": [
    "# Show data (1st 5 rows)\n",
    "df_pd_i94.head()"
   ],
   "metadata": {
    "collapsed": false,
    "pycharm": {
     "name": "#%%\n"
    }
   }
  },
  {
   "cell_type": "code",
   "execution_count": 5,
   "outputs": [
    {
     "data": {
      "text/plain": "             cicid   i94yr  i94mon  i94cit  i94res i94port  arrdate  i94mode  \\\n2570538  4053984.0  2016.0     2.0   745.0   745.0  b'SYS'  20506.0      3.0   \n2570539  1863071.0  2016.0     2.0   745.0   745.0  b'SYS'  20494.0      3.0   \n2570540  5313112.0  2016.0     2.0   745.0   745.0  b'SYS'  20513.0      3.0   \n2570541  2834382.0  2016.0     2.0   745.0   745.0  b'THO'  20499.0      3.0   \n2570542  4387479.0  2016.0     2.0   135.0   749.0  b'PBB'  20509.0      3.0   \n\n        i94addr  depdate  ...  entdepu  matflag  biryear      dtaddto gender  \\\n2570538   b'CA'  20508.0  ...      NaN     b'M'   1957.0  b'07242016'    NaN   \n2570539   b'CA'      NaN  ...      NaN      NaN   1975.0  b'08092016'   b'F'   \n2570540   b'NV'  20524.0  ...      NaN     b'M'   1989.0       b'D/S'   b'F'   \n2570541   b'MD'  20501.0  ...      NaN     b'M'   1983.0  b'08142016'   b'M'   \n2570542     NaN  20510.0  ...      NaN     b'M'   1967.0  b'05192016'   b'F'   \n\n        insnum airline        admnum     fltno visatype  \n2570538    NaN     NaN  8.642853e+10  b'00066'    b'B2'  \n2570539    NaN     NaN  8.785534e+10   b'LAND'    b'B2'  \n2570540    NaN     NaN  8.332689e+10  b'00088'    b'F1'  \n2570541    NaN     NaN  8.828284e+10   b'LAND'    b'B1'  \n2570542    NaN     NaN  5.320573e+10  b'00878'    b'WT'  \n\n[5 rows x 28 columns]",
      "text/html": "<div>\n<style scoped>\n    .dataframe tbody tr th:only-of-type {\n        vertical-align: middle;\n    }\n\n    .dataframe tbody tr th {\n        vertical-align: top;\n    }\n\n    .dataframe thead th {\n        text-align: right;\n    }\n</style>\n<table border=\"1\" class=\"dataframe\">\n  <thead>\n    <tr style=\"text-align: right;\">\n      <th></th>\n      <th>cicid</th>\n      <th>i94yr</th>\n      <th>i94mon</th>\n      <th>i94cit</th>\n      <th>i94res</th>\n      <th>i94port</th>\n      <th>arrdate</th>\n      <th>i94mode</th>\n      <th>i94addr</th>\n      <th>depdate</th>\n      <th>...</th>\n      <th>entdepu</th>\n      <th>matflag</th>\n      <th>biryear</th>\n      <th>dtaddto</th>\n      <th>gender</th>\n      <th>insnum</th>\n      <th>airline</th>\n      <th>admnum</th>\n      <th>fltno</th>\n      <th>visatype</th>\n    </tr>\n  </thead>\n  <tbody>\n    <tr>\n      <th>2570538</th>\n      <td>4053984.0</td>\n      <td>2016.0</td>\n      <td>2.0</td>\n      <td>745.0</td>\n      <td>745.0</td>\n      <td>b'SYS'</td>\n      <td>20506.0</td>\n      <td>3.0</td>\n      <td>b'CA'</td>\n      <td>20508.0</td>\n      <td>...</td>\n      <td>NaN</td>\n      <td>b'M'</td>\n      <td>1957.0</td>\n      <td>b'07242016'</td>\n      <td>NaN</td>\n      <td>NaN</td>\n      <td>NaN</td>\n      <td>8.642853e+10</td>\n      <td>b'00066'</td>\n      <td>b'B2'</td>\n    </tr>\n    <tr>\n      <th>2570539</th>\n      <td>1863071.0</td>\n      <td>2016.0</td>\n      <td>2.0</td>\n      <td>745.0</td>\n      <td>745.0</td>\n      <td>b'SYS'</td>\n      <td>20494.0</td>\n      <td>3.0</td>\n      <td>b'CA'</td>\n      <td>NaN</td>\n      <td>...</td>\n      <td>NaN</td>\n      <td>NaN</td>\n      <td>1975.0</td>\n      <td>b'08092016'</td>\n      <td>b'F'</td>\n      <td>NaN</td>\n      <td>NaN</td>\n      <td>8.785534e+10</td>\n      <td>b'LAND'</td>\n      <td>b'B2'</td>\n    </tr>\n    <tr>\n      <th>2570540</th>\n      <td>5313112.0</td>\n      <td>2016.0</td>\n      <td>2.0</td>\n      <td>745.0</td>\n      <td>745.0</td>\n      <td>b'SYS'</td>\n      <td>20513.0</td>\n      <td>3.0</td>\n      <td>b'NV'</td>\n      <td>20524.0</td>\n      <td>...</td>\n      <td>NaN</td>\n      <td>b'M'</td>\n      <td>1989.0</td>\n      <td>b'D/S'</td>\n      <td>b'F'</td>\n      <td>NaN</td>\n      <td>NaN</td>\n      <td>8.332689e+10</td>\n      <td>b'00088'</td>\n      <td>b'F1'</td>\n    </tr>\n    <tr>\n      <th>2570541</th>\n      <td>2834382.0</td>\n      <td>2016.0</td>\n      <td>2.0</td>\n      <td>745.0</td>\n      <td>745.0</td>\n      <td>b'THO'</td>\n      <td>20499.0</td>\n      <td>3.0</td>\n      <td>b'MD'</td>\n      <td>20501.0</td>\n      <td>...</td>\n      <td>NaN</td>\n      <td>b'M'</td>\n      <td>1983.0</td>\n      <td>b'08142016'</td>\n      <td>b'M'</td>\n      <td>NaN</td>\n      <td>NaN</td>\n      <td>8.828284e+10</td>\n      <td>b'LAND'</td>\n      <td>b'B1'</td>\n    </tr>\n    <tr>\n      <th>2570542</th>\n      <td>4387479.0</td>\n      <td>2016.0</td>\n      <td>2.0</td>\n      <td>135.0</td>\n      <td>749.0</td>\n      <td>b'PBB'</td>\n      <td>20509.0</td>\n      <td>3.0</td>\n      <td>NaN</td>\n      <td>20510.0</td>\n      <td>...</td>\n      <td>NaN</td>\n      <td>b'M'</td>\n      <td>1967.0</td>\n      <td>b'05192016'</td>\n      <td>b'F'</td>\n      <td>NaN</td>\n      <td>NaN</td>\n      <td>5.320573e+10</td>\n      <td>b'00878'</td>\n      <td>b'WT'</td>\n    </tr>\n  </tbody>\n</table>\n<p>5 rows × 28 columns</p>\n</div>"
     },
     "execution_count": 5,
     "metadata": {},
     "output_type": "execute_result"
    }
   ],
   "source": [
    "# Show data (last 5 rows)\n",
    "df_pd_i94.tail()"
   ],
   "metadata": {
    "collapsed": false,
    "pycharm": {
     "name": "#%%\n"
    }
   }
  },
  {
   "cell_type": "code",
   "execution_count": 6,
   "outputs": [
    {
     "data": {
      "text/plain": "cicid       2570543\ni94yr       2570543\ni94mon      2570543\ni94cit      2570543\ni94res      2570543\ni94port     2570543\narrdate     2570543\ni94mode     2570521\ni94addr     2421292\ndepdate     2276656\ni94bir      2569642\ni94visa     2570543\ncount       2570543\ndtadfile    2529996\nvisapost    1032575\noccup          7921\nentdepa     2570521\nentdepd     2277645\nentdepu          63\nmatflag     2277645\nbiryear     2569642\ndtaddto     2570157\ngender      2274862\ninsnum       136041\nairline     2500643\nadmnum      2570543\nfltno       2562240\nvisatype    2570543\ndtype: int64"
     },
     "execution_count": 6,
     "metadata": {},
     "output_type": "execute_result"
    }
   ],
   "source": [
    "# Get an overview about filled fields (not null)\n",
    "df_pd_i94.count()"
   ],
   "metadata": {
    "collapsed": false,
    "pycharm": {
     "name": "#%%\n"
    }
   }
  },
  {
   "cell_type": "markdown",
   "source": [
    "#### Summary for Airport Codes [`airport-codes_csv.csv`](../P8_capstone_resource_files/airport-codes_csv.csv):\n",
    "* **Source**: [datahub.io - Airport codes](https://datahub.io/core/airport-codes#data)\n",
    "* **Description**: Airport codes from around the world contain codes that may refer to either IATA airport code, a\n",
    "  three-letter code which is used in passenger reservation, ticketing and baggage-handling systems, or the ICAO airport\n",
    "  code which is a four letter code used by ATC systems and for airports that do not have an IATA airport code.\n",
    "* **Data**: Large file, containing information about all airports from [this site](https://ourairports.com/data/)\n",
    "* **Format**: CSV File - Comma separated text file format\n",
    "* **Rows**: over 55k\n",
    "* **Data description**: Detailed information about each listed airport is displayed in 12 columns.\n",
    "  ![08_P8_airport-codes_csv.png](../P8_capstone_documentation/08_P8_airport-codes_csv.png)\n",
    "\n",
    "\n",
    "##### Read data from file Airport Codes: `airport-codes_csv.csv`"
   ],
   "metadata": {
    "collapsed": false
   }
  },
  {
   "cell_type": "code",
   "execution_count": 7,
   "outputs": [],
   "source": [
    "filepath = '../P8_capstone_resource_files/airport-codes_csv.csv'\n",
    "df_pd_airport = pd.read_csv(filepath)"
   ],
   "metadata": {
    "collapsed": false,
    "pycharm": {
     "name": "#%%\n"
    }
   }
  },
  {
   "cell_type": "code",
   "execution_count": 8,
   "outputs": [
    {
     "data": {
      "text/plain": "  ident           type                                name  elevation_ft  \\\n0   00A       heliport                   Total Rf Heliport          11.0   \n1  00AA  small_airport                Aero B Ranch Airport        3435.0   \n2  00AK  small_airport                        Lowell Field         450.0   \n3  00AL  small_airport                        Epps Airpark         820.0   \n4  00AR         closed  Newport Hospital & Clinic Heliport         237.0   \n\n  continent iso_country iso_region  municipality gps_code iata_code  \\\n0       NaN          US      US-PA      Bensalem      00A       NaN   \n1       NaN          US      US-KS         Leoti     00AA       NaN   \n2       NaN          US      US-AK  Anchor Point     00AK       NaN   \n3       NaN          US      US-AL       Harvest     00AL       NaN   \n4       NaN          US      US-AR       Newport      NaN       NaN   \n\n  local_code                            coordinates  \n0        00A     -74.93360137939453, 40.07080078125  \n1       00AA                 -101.473911, 38.704022  \n2       00AK            -151.695999146, 59.94919968  \n3       00AL  -86.77030181884766, 34.86479949951172  \n4        NaN                    -91.254898, 35.6087  ",
      "text/html": "<div>\n<style scoped>\n    .dataframe tbody tr th:only-of-type {\n        vertical-align: middle;\n    }\n\n    .dataframe tbody tr th {\n        vertical-align: top;\n    }\n\n    .dataframe thead th {\n        text-align: right;\n    }\n</style>\n<table border=\"1\" class=\"dataframe\">\n  <thead>\n    <tr style=\"text-align: right;\">\n      <th></th>\n      <th>ident</th>\n      <th>type</th>\n      <th>name</th>\n      <th>elevation_ft</th>\n      <th>continent</th>\n      <th>iso_country</th>\n      <th>iso_region</th>\n      <th>municipality</th>\n      <th>gps_code</th>\n      <th>iata_code</th>\n      <th>local_code</th>\n      <th>coordinates</th>\n    </tr>\n  </thead>\n  <tbody>\n    <tr>\n      <th>0</th>\n      <td>00A</td>\n      <td>heliport</td>\n      <td>Total Rf Heliport</td>\n      <td>11.0</td>\n      <td>NaN</td>\n      <td>US</td>\n      <td>US-PA</td>\n      <td>Bensalem</td>\n      <td>00A</td>\n      <td>NaN</td>\n      <td>00A</td>\n      <td>-74.93360137939453, 40.07080078125</td>\n    </tr>\n    <tr>\n      <th>1</th>\n      <td>00AA</td>\n      <td>small_airport</td>\n      <td>Aero B Ranch Airport</td>\n      <td>3435.0</td>\n      <td>NaN</td>\n      <td>US</td>\n      <td>US-KS</td>\n      <td>Leoti</td>\n      <td>00AA</td>\n      <td>NaN</td>\n      <td>00AA</td>\n      <td>-101.473911, 38.704022</td>\n    </tr>\n    <tr>\n      <th>2</th>\n      <td>00AK</td>\n      <td>small_airport</td>\n      <td>Lowell Field</td>\n      <td>450.0</td>\n      <td>NaN</td>\n      <td>US</td>\n      <td>US-AK</td>\n      <td>Anchor Point</td>\n      <td>00AK</td>\n      <td>NaN</td>\n      <td>00AK</td>\n      <td>-151.695999146, 59.94919968</td>\n    </tr>\n    <tr>\n      <th>3</th>\n      <td>00AL</td>\n      <td>small_airport</td>\n      <td>Epps Airpark</td>\n      <td>820.0</td>\n      <td>NaN</td>\n      <td>US</td>\n      <td>US-AL</td>\n      <td>Harvest</td>\n      <td>00AL</td>\n      <td>NaN</td>\n      <td>00AL</td>\n      <td>-86.77030181884766, 34.86479949951172</td>\n    </tr>\n    <tr>\n      <th>4</th>\n      <td>00AR</td>\n      <td>closed</td>\n      <td>Newport Hospital &amp; Clinic Heliport</td>\n      <td>237.0</td>\n      <td>NaN</td>\n      <td>US</td>\n      <td>US-AR</td>\n      <td>Newport</td>\n      <td>NaN</td>\n      <td>NaN</td>\n      <td>NaN</td>\n      <td>-91.254898, 35.6087</td>\n    </tr>\n  </tbody>\n</table>\n</div>"
     },
     "execution_count": 8,
     "metadata": {},
     "output_type": "execute_result"
    }
   ],
   "source": [
    "# Show data (1st 5 rows)\n",
    "df_pd_airport.head()"
   ],
   "metadata": {
    "collapsed": false,
    "pycharm": {
     "name": "#%%\n"
    }
   }
  },
  {
   "cell_type": "code",
   "execution_count": 9,
   "outputs": [
    {
     "data": {
      "text/plain": "         ident            type                       name  elevation_ft  \\\n55070     ZYYK  medium_airport      Yingkou Lanqi Airport           0.0   \n55071     ZYYY  medium_airport    Shenyang Dongta Airport           NaN   \n55072  ZZ-0001        heliport            Sealand Helipad          40.0   \n55073  ZZ-0002   small_airport  Glorioso Islands Airstrip          11.0   \n55074     ZZZZ   small_airport    Satsuma IÅjima Airport         338.0   \n\n      continent iso_country iso_region      municipality gps_code iata_code  \\\n55070        AS          CN      CN-21           Yingkou     ZYYK       YKH   \n55071        AS          CN      CN-21          Shenyang     ZYYY       NaN   \n55072        EU          GB     GB-ENG           Sealand      NaN       NaN   \n55073        AF          TF     TF-U-A  Grande Glorieuse      NaN       NaN   \n55074        AS          JP      JP-46      Mishima-Mura     RJX7       NaN   \n\n      local_code                              coordinates  \n55070        NaN                      122.3586, 40.542524  \n55071        NaN   123.49600219726562, 41.784400939941406  \n55072        NaN                        1.4825, 51.894444  \n55073        NaN  47.296388888900005, -11.584277777799999  \n55074        NaN                    130.270556, 30.784722  ",
      "text/html": "<div>\n<style scoped>\n    .dataframe tbody tr th:only-of-type {\n        vertical-align: middle;\n    }\n\n    .dataframe tbody tr th {\n        vertical-align: top;\n    }\n\n    .dataframe thead th {\n        text-align: right;\n    }\n</style>\n<table border=\"1\" class=\"dataframe\">\n  <thead>\n    <tr style=\"text-align: right;\">\n      <th></th>\n      <th>ident</th>\n      <th>type</th>\n      <th>name</th>\n      <th>elevation_ft</th>\n      <th>continent</th>\n      <th>iso_country</th>\n      <th>iso_region</th>\n      <th>municipality</th>\n      <th>gps_code</th>\n      <th>iata_code</th>\n      <th>local_code</th>\n      <th>coordinates</th>\n    </tr>\n  </thead>\n  <tbody>\n    <tr>\n      <th>55070</th>\n      <td>ZYYK</td>\n      <td>medium_airport</td>\n      <td>Yingkou Lanqi Airport</td>\n      <td>0.0</td>\n      <td>AS</td>\n      <td>CN</td>\n      <td>CN-21</td>\n      <td>Yingkou</td>\n      <td>ZYYK</td>\n      <td>YKH</td>\n      <td>NaN</td>\n      <td>122.3586, 40.542524</td>\n    </tr>\n    <tr>\n      <th>55071</th>\n      <td>ZYYY</td>\n      <td>medium_airport</td>\n      <td>Shenyang Dongta Airport</td>\n      <td>NaN</td>\n      <td>AS</td>\n      <td>CN</td>\n      <td>CN-21</td>\n      <td>Shenyang</td>\n      <td>ZYYY</td>\n      <td>NaN</td>\n      <td>NaN</td>\n      <td>123.49600219726562, 41.784400939941406</td>\n    </tr>\n    <tr>\n      <th>55072</th>\n      <td>ZZ-0001</td>\n      <td>heliport</td>\n      <td>Sealand Helipad</td>\n      <td>40.0</td>\n      <td>EU</td>\n      <td>GB</td>\n      <td>GB-ENG</td>\n      <td>Sealand</td>\n      <td>NaN</td>\n      <td>NaN</td>\n      <td>NaN</td>\n      <td>1.4825, 51.894444</td>\n    </tr>\n    <tr>\n      <th>55073</th>\n      <td>ZZ-0002</td>\n      <td>small_airport</td>\n      <td>Glorioso Islands Airstrip</td>\n      <td>11.0</td>\n      <td>AF</td>\n      <td>TF</td>\n      <td>TF-U-A</td>\n      <td>Grande Glorieuse</td>\n      <td>NaN</td>\n      <td>NaN</td>\n      <td>NaN</td>\n      <td>47.296388888900005, -11.584277777799999</td>\n    </tr>\n    <tr>\n      <th>55074</th>\n      <td>ZZZZ</td>\n      <td>small_airport</td>\n      <td>Satsuma IÅjima Airport</td>\n      <td>338.0</td>\n      <td>AS</td>\n      <td>JP</td>\n      <td>JP-46</td>\n      <td>Mishima-Mura</td>\n      <td>RJX7</td>\n      <td>NaN</td>\n      <td>NaN</td>\n      <td>130.270556, 30.784722</td>\n    </tr>\n  </tbody>\n</table>\n</div>"
     },
     "execution_count": 9,
     "metadata": {},
     "output_type": "execute_result"
    }
   ],
   "source": [
    "# Show data (last 5 rows)\n",
    "df_pd_airport.tail()"
   ],
   "metadata": {
    "collapsed": false,
    "pycharm": {
     "name": "#%%\n"
    }
   }
  },
  {
   "cell_type": "code",
   "execution_count": 10,
   "outputs": [
    {
     "data": {
      "text/plain": "ident           55075\ntype            55075\nname            55075\nelevation_ft    48069\ncontinent       27356\niso_country     54828\niso_region      55075\nmunicipality    49399\ngps_code        41030\niata_code        9189\nlocal_code      28686\ncoordinates     55075\ndtype: int64"
     },
     "execution_count": 10,
     "metadata": {},
     "output_type": "execute_result"
    }
   ],
   "source": [
    "# Get an overview about filled fields\n",
    "df_pd_airport.count()"
   ],
   "metadata": {
    "collapsed": false,
    "pycharm": {
     "name": "#%%\n"
    }
   }
  },
  {
   "cell_type": "markdown",
   "source": [
    "#### Summary for US Cities: Demographics [`us-cities-demographics.json`](../P8_capstone_resource_files/us-cities-demographics.json):\n",
    "* **Source:** [US Cities: Demographics ](https://public.opendatasoft.com/explore/dataset/us-cities-demographics/information/)\n",
    "* **Description:** This dataset contains information about the demographics of all US cities and census-designated places\n",
    "  with a population greater or equal to 65,000. This data comes from the [US Census Bureau's 2015 American Community Survey](https://www.census.gov/en.html).\n",
    "* **Data:** Structured data about City, State, Age, Population, etc.\n",
    "* **Format:** JSON File - Structured data\n",
    "* **Rows:** 2,8k\n",
    "* **Data description:** 12 columns describing facts from cities across the U.S. about demographics.\n",
    "  ![12_P8_us-cities-demographics.png](../P8_capstone_documentation/12_P8_us-cities-demographics.png)\n",
    "\n",
    "\n",
    "##### Read data from file US Cities and it's information about citizens: `us-cities-demographics.csv:`"
   ],
   "metadata": {
    "collapsed": false
   }
  },
  {
   "cell_type": "code",
   "execution_count": 11,
   "outputs": [],
   "source": [
    "filepath = '../P8_capstone_resource_files/us-cities-demographics.json'\n",
    "df_pd_us_cities = pd.read_json(filepath, orient='columns')"
   ],
   "metadata": {
    "collapsed": false,
    "pycharm": {
     "name": "#%%\n"
    }
   }
  },
  {
   "cell_type": "code",
   "execution_count": 12,
   "outputs": [
    {
     "data": {
      "text/plain": "                datasetid                                  recordid  \\\n0  us-cities-demographics  0074451cff52969855654d21497e9459f1108d8d   \n1  us-cities-demographics  54b201cac9c7523363eb0cfeadc352a04fe016af   \n2  us-cities-demographics  9dc3d4a59d7e3e2ad31ec5a6d3bab5fac67ee462   \n3  us-cities-demographics  630ac8078919e7c8c96b861a336c66af27ffcc88   \n4  us-cities-demographics  ae093b0dc0b8b9116176092b731533f5b008c75b   \n\n                                              fields  \\\n0  {'count': 8791, 'city': 'Wichita', 'number_of_...   \n1  {'count': 22304, 'city': 'Allen', 'number_of_v...   \n2  {'count': 8454, 'city': 'Danbury', 'number_of_...   \n3  {'count': 67526, 'city': 'Nashville', 'number_...   \n4  {'count': 11013, 'city': 'Stamford', 'number_o...   \n\n            record_timestamp  \n0  1970-01-01T01:00:00+01:00  \n1  1970-01-01T01:00:00+01:00  \n2  1970-01-01T01:00:00+01:00  \n3  1970-01-01T01:00:00+01:00  \n4  1970-01-01T01:00:00+01:00  ",
      "text/html": "<div>\n<style scoped>\n    .dataframe tbody tr th:only-of-type {\n        vertical-align: middle;\n    }\n\n    .dataframe tbody tr th {\n        vertical-align: top;\n    }\n\n    .dataframe thead th {\n        text-align: right;\n    }\n</style>\n<table border=\"1\" class=\"dataframe\">\n  <thead>\n    <tr style=\"text-align: right;\">\n      <th></th>\n      <th>datasetid</th>\n      <th>recordid</th>\n      <th>fields</th>\n      <th>record_timestamp</th>\n    </tr>\n  </thead>\n  <tbody>\n    <tr>\n      <th>0</th>\n      <td>us-cities-demographics</td>\n      <td>0074451cff52969855654d21497e9459f1108d8d</td>\n      <td>{'count': 8791, 'city': 'Wichita', 'number_of_...</td>\n      <td>1970-01-01T01:00:00+01:00</td>\n    </tr>\n    <tr>\n      <th>1</th>\n      <td>us-cities-demographics</td>\n      <td>54b201cac9c7523363eb0cfeadc352a04fe016af</td>\n      <td>{'count': 22304, 'city': 'Allen', 'number_of_v...</td>\n      <td>1970-01-01T01:00:00+01:00</td>\n    </tr>\n    <tr>\n      <th>2</th>\n      <td>us-cities-demographics</td>\n      <td>9dc3d4a59d7e3e2ad31ec5a6d3bab5fac67ee462</td>\n      <td>{'count': 8454, 'city': 'Danbury', 'number_of_...</td>\n      <td>1970-01-01T01:00:00+01:00</td>\n    </tr>\n    <tr>\n      <th>3</th>\n      <td>us-cities-demographics</td>\n      <td>630ac8078919e7c8c96b861a336c66af27ffcc88</td>\n      <td>{'count': 67526, 'city': 'Nashville', 'number_...</td>\n      <td>1970-01-01T01:00:00+01:00</td>\n    </tr>\n    <tr>\n      <th>4</th>\n      <td>us-cities-demographics</td>\n      <td>ae093b0dc0b8b9116176092b731533f5b008c75b</td>\n      <td>{'count': 11013, 'city': 'Stamford', 'number_o...</td>\n      <td>1970-01-01T01:00:00+01:00</td>\n    </tr>\n  </tbody>\n</table>\n</div>"
     },
     "execution_count": 12,
     "metadata": {},
     "output_type": "execute_result"
    }
   ],
   "source": [
    "# Show data (1st 5 rows)\n",
    "df_pd_us_cities.head()"
   ],
   "metadata": {
    "collapsed": false,
    "pycharm": {
     "name": "#%%\n"
    }
   }
  },
  {
   "cell_type": "code",
   "execution_count": 13,
   "outputs": [
    {
     "data": {
      "text/plain": "                   datasetid                                  recordid  \\\n2886  us-cities-demographics  2cd192d37e3cf2e922b5c993e083f13a9dbab57e   \n2887  us-cities-demographics  bd94fa78923358abf4b5f10da11460e58d635415   \n2888  us-cities-demographics  1582817d1ec5cca79f347c3c69b8efc32a88f242   \n2889  us-cities-demographics  61b94f1482025536ad191db2fb3b76e46df798ed   \n2890  us-cities-demographics  75ea951cf36060d95b87878da7d8edfe15f79a6f   \n\n                                                 fields  \\\n2886  {'count': 624, 'city': 'Caguas', 'male_populat...   \n2887  {'count': 406, 'city': 'West Palm Beach', 'num...   \n2888  {'count': 3434, 'city': 'Clovis', 'number_of_v...   \n2889  {'count': 80975, 'city': 'Beaverton', 'number_...   \n2890  {'count': 18601, 'city': 'Louisville/Jefferson...   \n\n               record_timestamp  \n2886  1970-01-01T01:00:00+01:00  \n2887  1970-01-01T01:00:00+01:00  \n2888  1970-01-01T01:00:00+01:00  \n2889  1970-01-01T01:00:00+01:00  \n2890  1970-01-01T01:00:00+01:00  ",
      "text/html": "<div>\n<style scoped>\n    .dataframe tbody tr th:only-of-type {\n        vertical-align: middle;\n    }\n\n    .dataframe tbody tr th {\n        vertical-align: top;\n    }\n\n    .dataframe thead th {\n        text-align: right;\n    }\n</style>\n<table border=\"1\" class=\"dataframe\">\n  <thead>\n    <tr style=\"text-align: right;\">\n      <th></th>\n      <th>datasetid</th>\n      <th>recordid</th>\n      <th>fields</th>\n      <th>record_timestamp</th>\n    </tr>\n  </thead>\n  <tbody>\n    <tr>\n      <th>2886</th>\n      <td>us-cities-demographics</td>\n      <td>2cd192d37e3cf2e922b5c993e083f13a9dbab57e</td>\n      <td>{'count': 624, 'city': 'Caguas', 'male_populat...</td>\n      <td>1970-01-01T01:00:00+01:00</td>\n    </tr>\n    <tr>\n      <th>2887</th>\n      <td>us-cities-demographics</td>\n      <td>bd94fa78923358abf4b5f10da11460e58d635415</td>\n      <td>{'count': 406, 'city': 'West Palm Beach', 'num...</td>\n      <td>1970-01-01T01:00:00+01:00</td>\n    </tr>\n    <tr>\n      <th>2888</th>\n      <td>us-cities-demographics</td>\n      <td>1582817d1ec5cca79f347c3c69b8efc32a88f242</td>\n      <td>{'count': 3434, 'city': 'Clovis', 'number_of_v...</td>\n      <td>1970-01-01T01:00:00+01:00</td>\n    </tr>\n    <tr>\n      <th>2889</th>\n      <td>us-cities-demographics</td>\n      <td>61b94f1482025536ad191db2fb3b76e46df798ed</td>\n      <td>{'count': 80975, 'city': 'Beaverton', 'number_...</td>\n      <td>1970-01-01T01:00:00+01:00</td>\n    </tr>\n    <tr>\n      <th>2890</th>\n      <td>us-cities-demographics</td>\n      <td>75ea951cf36060d95b87878da7d8edfe15f79a6f</td>\n      <td>{'count': 18601, 'city': 'Louisville/Jefferson...</td>\n      <td>1970-01-01T01:00:00+01:00</td>\n    </tr>\n  </tbody>\n</table>\n</div>"
     },
     "execution_count": 13,
     "metadata": {},
     "output_type": "execute_result"
    }
   ],
   "source": [
    "# Show data (last 5 rows)\n",
    "df_pd_us_cities.tail()"
   ],
   "metadata": {
    "collapsed": false,
    "pycharm": {
     "name": "#%%\n"
    }
   }
  },
  {
   "cell_type": "code",
   "execution_count": 14,
   "outputs": [
    {
     "data": {
      "text/plain": "datasetid           2891\nrecordid            2891\nfields              2891\nrecord_timestamp    2891\ndtype: int64"
     },
     "execution_count": 14,
     "metadata": {},
     "output_type": "execute_result"
    }
   ],
   "source": [
    "# Get an overview about filled fields\n",
    "df_pd_us_cities.count()"
   ],
   "metadata": {
    "collapsed": false,
    "pycharm": {
     "name": "#%%\n"
    }
   }
  },
  {
   "cell_type": "markdown",
   "source": [
    "#### Summary for World Temperature Data [`GlobalLandTemperaturesByCity.csv`](../P8_capstone_resource_files/GlobalLandTemperaturesByCity.csv):\n",
    "* **Source:** [World Temperature Data: Temperature grouped by City and Country](https://www.kaggle.com/berkeleyearth/climate-change-earth-surface-temperature-data)\n",
    "* **Description:** Climate Change: Earth Surface Temperature Data. Global temperatures since 1750.\n",
    "* **Data:**  Structured data about Average Temperature, City, Country, Location (Latitude and Longitude)\n",
    "* **Format:** CSV File - Comma separated text file format\n",
    "* **Rows:** 8,5 million entries\n",
    "* **Data description:** Temperature record as time series information since 1750.\n",
    "  ![09_P8_GlobalLandTemperaturesByCity.png](../P8_capstone_documentation/09_P8_GlobalLandTemperaturesByCity.png)\n",
    "* **Note:** Temperature data must be formatted correctly\n",
    "\n",
    "##### Read data from World Temperature Data where Temperature is grouped by City and Country: `GlobalLandTemperaturesByCity.csv`"
   ],
   "metadata": {
    "collapsed": false
   }
  },
  {
   "cell_type": "code",
   "execution_count": 15,
   "outputs": [],
   "source": [
    "filepath = '../P8_capstone_resource_files/GlobalLandTemperaturesByCity.csv'\n",
    "df_pd_temperature = pd.read_csv(filepath)"
   ],
   "metadata": {
    "collapsed": false,
    "pycharm": {
     "name": "#%%\n"
    }
   }
  },
  {
   "cell_type": "code",
   "execution_count": 16,
   "outputs": [
    {
     "data": {
      "text/plain": "           dt  AverageTemperature  AverageTemperatureUncertainty   City  \\\n0  1743-11-01               6.068                          1.737  Århus   \n1  1743-12-01                 NaN                            NaN  Århus   \n2  1744-01-01                 NaN                            NaN  Århus   \n3  1744-02-01                 NaN                            NaN  Århus   \n4  1744-03-01                 NaN                            NaN  Århus   \n\n   Country Latitude Longitude  \n0  Denmark   57.05N    10.33E  \n1  Denmark   57.05N    10.33E  \n2  Denmark   57.05N    10.33E  \n3  Denmark   57.05N    10.33E  \n4  Denmark   57.05N    10.33E  ",
      "text/html": "<div>\n<style scoped>\n    .dataframe tbody tr th:only-of-type {\n        vertical-align: middle;\n    }\n\n    .dataframe tbody tr th {\n        vertical-align: top;\n    }\n\n    .dataframe thead th {\n        text-align: right;\n    }\n</style>\n<table border=\"1\" class=\"dataframe\">\n  <thead>\n    <tr style=\"text-align: right;\">\n      <th></th>\n      <th>dt</th>\n      <th>AverageTemperature</th>\n      <th>AverageTemperatureUncertainty</th>\n      <th>City</th>\n      <th>Country</th>\n      <th>Latitude</th>\n      <th>Longitude</th>\n    </tr>\n  </thead>\n  <tbody>\n    <tr>\n      <th>0</th>\n      <td>1743-11-01</td>\n      <td>6.068</td>\n      <td>1.737</td>\n      <td>Århus</td>\n      <td>Denmark</td>\n      <td>57.05N</td>\n      <td>10.33E</td>\n    </tr>\n    <tr>\n      <th>1</th>\n      <td>1743-12-01</td>\n      <td>NaN</td>\n      <td>NaN</td>\n      <td>Århus</td>\n      <td>Denmark</td>\n      <td>57.05N</td>\n      <td>10.33E</td>\n    </tr>\n    <tr>\n      <th>2</th>\n      <td>1744-01-01</td>\n      <td>NaN</td>\n      <td>NaN</td>\n      <td>Århus</td>\n      <td>Denmark</td>\n      <td>57.05N</td>\n      <td>10.33E</td>\n    </tr>\n    <tr>\n      <th>3</th>\n      <td>1744-02-01</td>\n      <td>NaN</td>\n      <td>NaN</td>\n      <td>Århus</td>\n      <td>Denmark</td>\n      <td>57.05N</td>\n      <td>10.33E</td>\n    </tr>\n    <tr>\n      <th>4</th>\n      <td>1744-03-01</td>\n      <td>NaN</td>\n      <td>NaN</td>\n      <td>Århus</td>\n      <td>Denmark</td>\n      <td>57.05N</td>\n      <td>10.33E</td>\n    </tr>\n  </tbody>\n</table>\n</div>"
     },
     "execution_count": 16,
     "metadata": {},
     "output_type": "execute_result"
    }
   ],
   "source": [
    "# Show data (1st 5 rows)\n",
    "df_pd_temperature.head()"
   ],
   "metadata": {
    "collapsed": false,
    "pycharm": {
     "name": "#%%\n"
    }
   }
  },
  {
   "cell_type": "code",
   "execution_count": 17,
   "outputs": [
    {
     "data": {
      "text/plain": "                 dt  AverageTemperature  AverageTemperatureUncertainty  \\\n8599207  2013-05-01              11.464                          0.236   \n8599208  2013-06-01              15.043                          0.261   \n8599209  2013-07-01              18.775                          0.193   \n8599210  2013-08-01              18.025                          0.298   \n8599211  2013-09-01                 NaN                            NaN   \n\n           City      Country Latitude Longitude  \n8599207  Zwolle  Netherlands   52.24N     5.26E  \n8599208  Zwolle  Netherlands   52.24N     5.26E  \n8599209  Zwolle  Netherlands   52.24N     5.26E  \n8599210  Zwolle  Netherlands   52.24N     5.26E  \n8599211  Zwolle  Netherlands   52.24N     5.26E  ",
      "text/html": "<div>\n<style scoped>\n    .dataframe tbody tr th:only-of-type {\n        vertical-align: middle;\n    }\n\n    .dataframe tbody tr th {\n        vertical-align: top;\n    }\n\n    .dataframe thead th {\n        text-align: right;\n    }\n</style>\n<table border=\"1\" class=\"dataframe\">\n  <thead>\n    <tr style=\"text-align: right;\">\n      <th></th>\n      <th>dt</th>\n      <th>AverageTemperature</th>\n      <th>AverageTemperatureUncertainty</th>\n      <th>City</th>\n      <th>Country</th>\n      <th>Latitude</th>\n      <th>Longitude</th>\n    </tr>\n  </thead>\n  <tbody>\n    <tr>\n      <th>8599207</th>\n      <td>2013-05-01</td>\n      <td>11.464</td>\n      <td>0.236</td>\n      <td>Zwolle</td>\n      <td>Netherlands</td>\n      <td>52.24N</td>\n      <td>5.26E</td>\n    </tr>\n    <tr>\n      <th>8599208</th>\n      <td>2013-06-01</td>\n      <td>15.043</td>\n      <td>0.261</td>\n      <td>Zwolle</td>\n      <td>Netherlands</td>\n      <td>52.24N</td>\n      <td>5.26E</td>\n    </tr>\n    <tr>\n      <th>8599209</th>\n      <td>2013-07-01</td>\n      <td>18.775</td>\n      <td>0.193</td>\n      <td>Zwolle</td>\n      <td>Netherlands</td>\n      <td>52.24N</td>\n      <td>5.26E</td>\n    </tr>\n    <tr>\n      <th>8599210</th>\n      <td>2013-08-01</td>\n      <td>18.025</td>\n      <td>0.298</td>\n      <td>Zwolle</td>\n      <td>Netherlands</td>\n      <td>52.24N</td>\n      <td>5.26E</td>\n    </tr>\n    <tr>\n      <th>8599211</th>\n      <td>2013-09-01</td>\n      <td>NaN</td>\n      <td>NaN</td>\n      <td>Zwolle</td>\n      <td>Netherlands</td>\n      <td>52.24N</td>\n      <td>5.26E</td>\n    </tr>\n  </tbody>\n</table>\n</div>"
     },
     "execution_count": 17,
     "metadata": {},
     "output_type": "execute_result"
    }
   ],
   "source": [
    "# Show data (last 5 rows)\n",
    "df_pd_temperature.tail()"
   ],
   "metadata": {
    "collapsed": false,
    "pycharm": {
     "name": "#%%\n"
    }
   }
  },
  {
   "cell_type": "code",
   "execution_count": 18,
   "outputs": [
    {
     "data": {
      "text/plain": "dt                               8599212\nAverageTemperature               8235082\nAverageTemperatureUncertainty    8235082\nCity                             8599212\nCountry                          8599212\nLatitude                         8599212\nLongitude                        8599212\ndtype: int64"
     },
     "execution_count": 18,
     "metadata": {},
     "output_type": "execute_result"
    }
   ],
   "source": [
    "# Get an overview about filled fields\n",
    "df_pd_temperature.count()\n"
   ],
   "metadata": {
    "collapsed": false,
    "pycharm": {
     "name": "#%%\n"
    }
   }
  },
  {
   "cell_type": "markdown",
   "source": [
    "#### Findings from Immigration data `18-83510-I94-Data-2016` to the U.S.:\n",
    "\n",
    "###### 1. `df_spark_i94.i94cit`:\n",
    "- County Code does not match to `iso-3166`-Country-Code for further analysis\n",
    "- Null values in column `i94cit`\n",
    "\n",
    "###### 2. `df_spark_i94.i94port`:\n",
    "- Airport Code `i94port` does not correspondent to [IATA](https://en.wikipedia.org/wiki/International_Air_Transport_Association)\n",
    "3 letter airport codes from file [I94_SAS_Labels_I94PORT.txt](../P8_capstone_resource_files/I94_sas_labels_descriptions_extracted_data/I94_SAS_Labels_I94PORT.txt).\n",
    "**Project decision**: Only usage of given i94 airport codes.\n",
    "\n",
    "###### 3. `df_spark_i94.arrdate` / `df_spark_i94.depdate`:\n",
    "- `arrdate` and `depdate` are in SAS date format (String), whose epoch starts on 1960-01-01. This date values will be converted into DateFormat.\n",
    "\n",
    "###### 4. `df_spark_i94.i94addr`:\n",
    "- Null values in column `i94addr`\n",
    "\n",
    "###### 5. [I94_SAS_Labels_I94ADDR.txt.I94ADDR](../P8_capstone_resource_files/I94_sas_labels_descriptions_extracted_data/I94_SAS_Labels_I94ADDR.txt):\n",
    "- `I94ADDR` State description has errors like 'WI'='WISCONS**O**N' instead of 'WI'='WISCONS**I**N'. **Project decision:**\n",
    "The only incorrect US state will be corrected manually.\n"
   ],
   "metadata": {
    "collapsed": false
   }
  }
 ],
 "metadata": {
  "kernelspec": {
   "display_name": "Python 3",
   "language": "python",
   "name": "python3"
  },
  "language_info": {
   "codemirror_mode": {
    "name": "ipython",
    "version": 3
   },
   "file_extension": ".py",
   "mimetype": "text/x-python",
   "name": "python",
   "nbconvert_exporter": "python",
   "pygments_lexer": "ipython3",
   "version": "3.8.5"
  }
 },
 "nbformat": 4,
 "nbformat_minor": 1
}