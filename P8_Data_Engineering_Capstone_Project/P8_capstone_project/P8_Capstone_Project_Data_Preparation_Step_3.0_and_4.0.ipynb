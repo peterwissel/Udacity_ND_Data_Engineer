{
 "cells": [
  {
   "cell_type": "markdown",
   "source": [
    "# Project 08 - Analysis of U.S. Immigration (I-94) Data\n",
    "### Udacity Data Engineer - Capstone Project\n",
    "> by Peter Wissel | 2021-04-03\n",
    "\n",
    "## Project Overview\n",
    "This project works with a data set for immigration to the United States. The supplementary datasets will include data on\n",
    "airport codes, U.S. city demographics and temperature data.\n",
    "\n",
    "The following process is divided into five sub-steps to illustrate how to answer the questions set by the business\n",
    "analytics team.\n",
    "\n",
    "The project file follows the following steps:\n",
    "* Step 3: Define the Data Model\n",
    "* Step 4: Run ETL to Model the Data\n",
    "\n",
    "### Step 3.0: Define the Data Model\n",
    "#### Conceptual Data Model\n",
    "The following data model is based on the four main questions to be answered. For this reason, I decided to select only\n",
    "the fields from the source data that provide the correct answers. After the data has been read in and written to the\n",
    "staging tables for transformation, a star data model will be created for data analysis. Note: This project is not large enough\n",
    "to store the data in a core data warehouse (3NR) as a preliminary stage.\n",
    "\n",
    "![I94-Data ER-Model](../P8_capstone_documentation/05_P8_I94-Data_Staging_Tables.png)\n",
    "![I94-Data Staging Tables](../P8_capstone_documentation/06_P8_I94-Data_Model.png)\n",
    "\n",
    "#### Mapping Out Data Pipelines\n",
    "The files \"P8_Capstone_Project_Data_Preparation_Step_3.1.n_and_4.1.n.ipynb\" describe all the steps to pipeline the data\n",
    "into the chosen data model to answer the project questions.\n",
    "\n",
    "**Project decision:** As already mentioned the data model is built up step by step always the project questions in mind.\n",
    "Another common way to build the star data model is to create all staging tables and then the dimension and fact tables.\n",
    "This is not part of the following description.\n",
    "\n",
    "\n",
    "### Step 4.0: Run ETL to Model the Data\n",
    "The steps are described in 4.1.n of the ETL data pipeline."
   ],
   "metadata": {
    "collapsed": false,
    "pycharm": {
     "name": "#%% md\n"
    }
   }
  }
 ],
 "metadata": {
  "kernelspec": {
   "display_name": "Python 3",
   "language": "python",
   "name": "python3"
  },
  "language_info": {
   "codemirror_mode": {
    "name": "ipython",
    "version": 3
   },
   "file_extension": ".py",
   "mimetype": "text/x-python",
   "name": "python",
   "nbconvert_exporter": "python",
   "pygments_lexer": "ipython3",
   "version": "3.8.5"
  }
 },
 "nbformat": 4,
 "nbformat_minor": 1
}