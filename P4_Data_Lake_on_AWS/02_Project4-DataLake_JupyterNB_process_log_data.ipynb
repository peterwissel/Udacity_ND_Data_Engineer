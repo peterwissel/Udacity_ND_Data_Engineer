{
 "cells": [
  {
   "cell_type": "code",
   "execution_count": 1,
   "outputs": [],
   "source": [
    "\"\"\"\n",
    "This file in only for developing purposes, because it's not needed to create a Spark Session each time\n",
    "\"\"\"\n",
    "import configparser\n",
    "import datetime\n",
    "import os\n",
    "from pyspark.sql import SparkSession\n",
    "from pyspark.sql.types import StructType, StructField, StringType, LongType, TimestampType\n",
    "from pyspark.sql.functions import to_timestamp, date_format, hour, weekofyear, month, year, dayofweek, dayofmonth\n",
    "import pyspark.sql.functions as F"
   ],
   "metadata": {
    "collapsed": false,
    "pycharm": {
     "name": "#%%\n"
    }
   }
  },
  {
   "cell_type": "code",
   "execution_count": 2,
   "outputs": [],
   "source": [
    "\"\"\"\n",
    "Set global variables to access S3 via OS environment variables\n",
    "\"\"\"\n",
    "config = configparser.ConfigParser()\n",
    "config.read_file(open('dl.cfg'))\n",
    "\n",
    "os.environ['AWS_ACCESS_KEY_ID'] = config['AWS']['AWS_ACCESS_KEY_ID']\n",
    "os.environ['AWS_SECRET_ACCESS_KEY'] = config['AWS']['AWS_SECRET_ACCESS_KEY']"
   ],
   "metadata": {
    "collapsed": false,
    "pycharm": {
     "name": "#%%\n"
    }
   }
  },
  {
   "cell_type": "code",
   "execution_count": 3,
   "outputs": [],
   "source": [
    "\"\"\"\n",
    "Create Spark Session and setting LOG-Level\n",
    "Attributes:\n",
    "    ERROR   - less details - only when something went wrong\n",
    "    WARN    - more details\n",
    "    INFO    - more details than Warn level\n",
    "    DEBUG   - very detailed information\n",
    "\"\"\"\n",
    "spark = SparkSession \\\n",
    "    .builder \\\n",
    "    .appName(\"etl pipeline for project 4 - Data Lake\") \\\n",
    "    .config(\"spark.jars.packages\", \"org.apache.hadoop:hadoop-aws:2.7.0\") \\\n",
    "    .getOrCreate()\n",
    "\n",
    "# setting the current LOG-Level\n",
    "spark.sparkContext.setLogLevel('ERROR')"
   ],
   "metadata": {
    "collapsed": false,
    "pycharm": {
     "name": "#%%\n"
    }
   }
  },
  {
   "cell_type": "code",
   "execution_count": 8,
   "outputs": [
    {
     "name": "stdout",
     "output_type": "stream",
     "text": [
      "s3a://udacity-dend/log_data/2018/11/2018-11-01-events.json\n"
     ]
    }
   ],
   "source": [
    "# get filepath to song data file\n",
    "log_data = 's3a://udacity-dend/log_data/2018/11/2018-11-01-events.json'\n",
    "\n",
    "print(log_data)"
   ],
   "metadata": {
    "collapsed": false,
    "pycharm": {
     "name": "#%%\n"
    }
   }
  },
  {
   "cell_type": "code",
   "execution_count": 9,
   "outputs": [],
   "source": [
    "from pyspark.sql.types import StructType as R \\\n",
    "    , StructField as Fld \\\n",
    "    , DoubleType as Dbl \\\n",
    "    , StringType as Str \\\n",
    "    , IntegerType as Int \\\n",
    "    , LongType as Lng \\\n",
    "    , DateType as Date\n",
    "\n",
    "schema_log = R([\n",
    "    Fld(\"artist\", Str()),\n",
    "    Fld(\"auth\", Str()),\n",
    "    Fld(\"firstName\", Str()),\n",
    "    Fld(\"gender\", Str()),\n",
    "    Fld(\"itemInSession\", Lng()),\n",
    "    Fld(\"lastName\", Str()),\n",
    "    Fld(\"length\", Dbl()),\n",
    "    Fld(\"level\", Str()),\n",
    "    Fld(\"location\", Str()),\n",
    "    Fld(\"method\", Str()),\n",
    "    Fld(\"page\", Str()),\n",
    "    Fld(\"registration\", Dbl()),\n",
    "    Fld(\"sessionId\", Lng()),\n",
    "    Fld(\"song\", Str()),\n",
    "    Fld(\"status\", Lng()),\n",
    "    Fld(\"ts\", Lng()),\n",
    "    Fld(\"userAgent\", Str()),\n",
    "    Fld(\"userId\", Str())\n",
    "])"
   ],
   "metadata": {
    "collapsed": false,
    "pycharm": {
     "name": "#%%\n"
    }
   }
  },
  {
   "cell_type": "code",
   "execution_count": 10,
   "outputs": [],
   "source": [
    "\"\"\"\n",
    "Read data with \"new\" schema.\n",
    "\"\"\"\n",
    "# df_log_table = spark.read.schema(schema_log).json(log_data)\n",
    "df_log_table = spark.read.schema(schema_log).json(log_data)\n",
    "\n"
   ],
   "metadata": {
    "collapsed": false,
    "pycharm": {
     "name": "#%%\n"
    }
   }
  },
  {
   "cell_type": "code",
   "execution_count": 11,
   "outputs": [
    {
     "name": "stdout",
     "output_type": "stream",
     "text": [
      "15\n",
      "root\n",
      " |-- artist: string (nullable = true)\n",
      " |-- auth: string (nullable = true)\n",
      " |-- firstName: string (nullable = true)\n",
      " |-- gender: string (nullable = true)\n",
      " |-- itemInSession: long (nullable = true)\n",
      " |-- lastName: string (nullable = true)\n",
      " |-- length: double (nullable = true)\n",
      " |-- level: string (nullable = true)\n",
      " |-- location: string (nullable = true)\n",
      " |-- method: string (nullable = true)\n",
      " |-- page: string (nullable = true)\n",
      " |-- registration: double (nullable = true)\n",
      " |-- sessionId: long (nullable = true)\n",
      " |-- song: string (nullable = true)\n",
      " |-- status: long (nullable = true)\n",
      " |-- ts: long (nullable = true)\n",
      " |-- userAgent: string (nullable = true)\n",
      " |-- userId: string (nullable = true)\n",
      "\n",
      "+-------+---------+---------+------+-------------+--------+---------+-----+---------------------------------+------+--------+-----------------+---------+------------+------+-------------+--------------------------------------------------------------------------------------------------------------------------+------+\n",
      "|artist |auth     |firstName|gender|itemInSession|lastName|length   |level|location                         |method|page    |registration     |sessionId|song        |status|ts           |userAgent                                                                                                                 |userId|\n",
      "+-------+---------+---------+------+-------------+--------+---------+-----+---------------------------------+------+--------+-----------------+---------+------------+------+-------------+--------------------------------------------------------------------------------------------------------------------------+------+\n",
      "|null   |Logged In|Walter   |M     |0            |Frye    |null     |free |San Francisco-Oakland-Hayward, CA|GET   |Home    |1.540919166796E12|38       |null        |200   |1541105830796|\"Mozilla/5.0 (Macintosh; Intel Mac OS X 10_9_4) AppleWebKit/537.36 (KHTML, like Gecko) Chrome/36.0.1985.143 Safari/537.36\"|39    |\n",
      "|null   |Logged In|Kaylee   |F     |0            |Summers |null     |free |Phoenix-Mesa-Scottsdale, AZ      |GET   |Home    |1.540344794796E12|139      |null        |200   |1541106106796|\"Mozilla/5.0 (Windows NT 6.1; WOW64) AppleWebKit/537.36 (KHTML, like Gecko) Chrome/35.0.1916.153 Safari/537.36\"           |8     |\n",
      "|Des'ree|Logged In|Kaylee   |F     |1            |Summers |246.30812|free |Phoenix-Mesa-Scottsdale, AZ      |PUT   |NextSong|1.540344794796E12|139      |You Gotta Be|200   |1541106106796|\"Mozilla/5.0 (Windows NT 6.1; WOW64) AppleWebKit/537.36 (KHTML, like Gecko) Chrome/35.0.1916.153 Safari/537.36\"           |8     |\n",
      "|null   |Logged In|Kaylee   |F     |2            |Summers |null     |free |Phoenix-Mesa-Scottsdale, AZ      |GET   |Upgrade |1.540344794796E12|139      |null        |200   |1541106132796|\"Mozilla/5.0 (Windows NT 6.1; WOW64) AppleWebKit/537.36 (KHTML, like Gecko) Chrome/35.0.1916.153 Safari/537.36\"           |8     |\n",
      "|Mr Oizo|Logged In|Kaylee   |F     |3            |Summers |144.03873|free |Phoenix-Mesa-Scottsdale, AZ      |PUT   |NextSong|1.540344794796E12|139      |Flat 55     |200   |1541106352796|\"Mozilla/5.0 (Windows NT 6.1; WOW64) AppleWebKit/537.36 (KHTML, like Gecko) Chrome/35.0.1916.153 Safari/537.36\"           |8     |\n",
      "+-------+---------+---------+------+-------------+--------+---------+-----+---------------------------------+------+--------+-----------------+---------+------------+------+-------------+--------------------------------------------------------------------------------------------------------------------------+------+\n",
      "only showing top 5 rows\n",
      "\n"
     ]
    },
    {
     "data": {
      "text/plain": "    artist       auth firstName gender  itemInSession lastName     length  \\\n0     None  Logged In    Walter      M              0     Frye        NaN   \n1     None  Logged In    Kaylee      F              0  Summers        NaN   \n2  Des'ree  Logged In    Kaylee      F              1  Summers  246.30812   \n3     None  Logged In    Kaylee      F              2  Summers        NaN   \n4  Mr Oizo  Logged In    Kaylee      F              3  Summers  144.03873   \n\n  level                           location method      page  registration  \\\n0  free  San Francisco-Oakland-Hayward, CA    GET      Home  1.540919e+12   \n1  free        Phoenix-Mesa-Scottsdale, AZ    GET      Home  1.540345e+12   \n2  free        Phoenix-Mesa-Scottsdale, AZ    PUT  NextSong  1.540345e+12   \n3  free        Phoenix-Mesa-Scottsdale, AZ    GET   Upgrade  1.540345e+12   \n4  free        Phoenix-Mesa-Scottsdale, AZ    PUT  NextSong  1.540345e+12   \n\n   sessionId          song  status             ts  \\\n0         38          None     200  1541105830796   \n1        139          None     200  1541106106796   \n2        139  You Gotta Be     200  1541106106796   \n3        139          None     200  1541106132796   \n4        139       Flat 55     200  1541106352796   \n\n                                           userAgent userId  \n0  \"Mozilla/5.0 (Macintosh; Intel Mac OS X 10_9_4...     39  \n1  \"Mozilla/5.0 (Windows NT 6.1; WOW64) AppleWebK...      8  \n2  \"Mozilla/5.0 (Windows NT 6.1; WOW64) AppleWebK...      8  \n3  \"Mozilla/5.0 (Windows NT 6.1; WOW64) AppleWebK...      8  \n4  \"Mozilla/5.0 (Windows NT 6.1; WOW64) AppleWebK...      8  ",
      "text/html": "<div>\n<style scoped>\n    .dataframe tbody tr th:only-of-type {\n        vertical-align: middle;\n    }\n\n    .dataframe tbody tr th {\n        vertical-align: top;\n    }\n\n    .dataframe thead th {\n        text-align: right;\n    }\n</style>\n<table border=\"1\" class=\"dataframe\">\n  <thead>\n    <tr style=\"text-align: right;\">\n      <th></th>\n      <th>artist</th>\n      <th>auth</th>\n      <th>firstName</th>\n      <th>gender</th>\n      <th>itemInSession</th>\n      <th>lastName</th>\n      <th>length</th>\n      <th>level</th>\n      <th>location</th>\n      <th>method</th>\n      <th>page</th>\n      <th>registration</th>\n      <th>sessionId</th>\n      <th>song</th>\n      <th>status</th>\n      <th>ts</th>\n      <th>userAgent</th>\n      <th>userId</th>\n    </tr>\n  </thead>\n  <tbody>\n    <tr>\n      <th>0</th>\n      <td>None</td>\n      <td>Logged In</td>\n      <td>Walter</td>\n      <td>M</td>\n      <td>0</td>\n      <td>Frye</td>\n      <td>NaN</td>\n      <td>free</td>\n      <td>San Francisco-Oakland-Hayward, CA</td>\n      <td>GET</td>\n      <td>Home</td>\n      <td>1.540919e+12</td>\n      <td>38</td>\n      <td>None</td>\n      <td>200</td>\n      <td>1541105830796</td>\n      <td>\"Mozilla/5.0 (Macintosh; Intel Mac OS X 10_9_4...</td>\n      <td>39</td>\n    </tr>\n    <tr>\n      <th>1</th>\n      <td>None</td>\n      <td>Logged In</td>\n      <td>Kaylee</td>\n      <td>F</td>\n      <td>0</td>\n      <td>Summers</td>\n      <td>NaN</td>\n      <td>free</td>\n      <td>Phoenix-Mesa-Scottsdale, AZ</td>\n      <td>GET</td>\n      <td>Home</td>\n      <td>1.540345e+12</td>\n      <td>139</td>\n      <td>None</td>\n      <td>200</td>\n      <td>1541106106796</td>\n      <td>\"Mozilla/5.0 (Windows NT 6.1; WOW64) AppleWebK...</td>\n      <td>8</td>\n    </tr>\n    <tr>\n      <th>2</th>\n      <td>Des'ree</td>\n      <td>Logged In</td>\n      <td>Kaylee</td>\n      <td>F</td>\n      <td>1</td>\n      <td>Summers</td>\n      <td>246.30812</td>\n      <td>free</td>\n      <td>Phoenix-Mesa-Scottsdale, AZ</td>\n      <td>PUT</td>\n      <td>NextSong</td>\n      <td>1.540345e+12</td>\n      <td>139</td>\n      <td>You Gotta Be</td>\n      <td>200</td>\n      <td>1541106106796</td>\n      <td>\"Mozilla/5.0 (Windows NT 6.1; WOW64) AppleWebK...</td>\n      <td>8</td>\n    </tr>\n    <tr>\n      <th>3</th>\n      <td>None</td>\n      <td>Logged In</td>\n      <td>Kaylee</td>\n      <td>F</td>\n      <td>2</td>\n      <td>Summers</td>\n      <td>NaN</td>\n      <td>free</td>\n      <td>Phoenix-Mesa-Scottsdale, AZ</td>\n      <td>GET</td>\n      <td>Upgrade</td>\n      <td>1.540345e+12</td>\n      <td>139</td>\n      <td>None</td>\n      <td>200</td>\n      <td>1541106132796</td>\n      <td>\"Mozilla/5.0 (Windows NT 6.1; WOW64) AppleWebK...</td>\n      <td>8</td>\n    </tr>\n    <tr>\n      <th>4</th>\n      <td>Mr Oizo</td>\n      <td>Logged In</td>\n      <td>Kaylee</td>\n      <td>F</td>\n      <td>3</td>\n      <td>Summers</td>\n      <td>144.03873</td>\n      <td>free</td>\n      <td>Phoenix-Mesa-Scottsdale, AZ</td>\n      <td>PUT</td>\n      <td>NextSong</td>\n      <td>1.540345e+12</td>\n      <td>139</td>\n      <td>Flat 55</td>\n      <td>200</td>\n      <td>1541106352796</td>\n      <td>\"Mozilla/5.0 (Windows NT 6.1; WOW64) AppleWebK...</td>\n      <td>8</td>\n    </tr>\n  </tbody>\n</table>\n</div>"
     },
     "execution_count": 11,
     "metadata": {},
     "output_type": "execute_result"
    }
   ],
   "source": [
    "\"\"\"\n",
    "Check the new structure and it's data in it\n",
    "\"\"\"\n",
    "print(df_log_table.count())\n",
    "df_log_table.printSchema()\n",
    "df_log_table.show(5, truncate=False)\n",
    "df_log_table.limit(5).toPandas()\n"
   ],
   "metadata": {
    "collapsed": false,
    "pycharm": {
     "name": "#%%\n"
    }
   }
  },
  {
   "cell_type": "code",
   "execution_count": 12,
   "outputs": [],
   "source": [
    "# set valid timestamp format\n",
    "ts_format = \"yyyy-MM-dd HH:MM:ss z\"\n",
    "weekday_format = \"EEEE\"\n",
    "\n",
    "# Converting ts to a timestamp format\n",
    "\"\"\"\n",
    "- \"withColumn\" -- add additional column to df\n",
    "- \"df_log_table.ts / 1000)\" -- cut off milliseconds\n",
    "- \".cast(dataType=TimestampType())\" -- ts-value (reduced by milliseconds) is casted as TimestampType\n",
    "- \"to_timestamp(\"value in Timestampformat\", tsFormat)\" -- format timestamp into the correct format which is given above\n",
    "\"\"\"\n",
    "df_log_table = df_log_table\\\n",
    "    .withColumn('ts_timestamp', to_timestamp( date_format( (df_log_table.ts / 1000).cast(dataType=TimestampType()), ts_format)\n",
    "                                              ,ts_format))"
   ],
   "metadata": {
    "collapsed": false,
    "pycharm": {
     "name": "#%%\n"
    }
   }
  },
  {
   "cell_type": "code",
   "execution_count": 13,
   "outputs": [
    {
     "name": "stdout",
     "output_type": "stream",
     "text": [
      "root\n",
      " |-- artist: string (nullable = true)\n",
      " |-- auth: string (nullable = true)\n",
      " |-- firstName: string (nullable = true)\n",
      " |-- gender: string (nullable = true)\n",
      " |-- itemInSession: long (nullable = true)\n",
      " |-- lastName: string (nullable = true)\n",
      " |-- length: double (nullable = true)\n",
      " |-- level: string (nullable = true)\n",
      " |-- location: string (nullable = true)\n",
      " |-- method: string (nullable = true)\n",
      " |-- page: string (nullable = true)\n",
      " |-- registration: double (nullable = true)\n",
      " |-- sessionId: long (nullable = true)\n",
      " |-- song: string (nullable = true)\n",
      " |-- status: long (nullable = true)\n",
      " |-- ts: long (nullable = true)\n",
      " |-- userAgent: string (nullable = true)\n",
      " |-- userId: string (nullable = true)\n",
      " |-- ts_timestamp: timestamp (nullable = true)\n",
      "\n"
     ]
    }
   ],
   "source": [
    "df_log_table.printSchema()"
   ],
   "metadata": {
    "collapsed": false,
    "pycharm": {
     "name": "#%%\n"
    }
   }
  },
  {
   "cell_type": "code",
   "execution_count": 14,
   "outputs": [
    {
     "name": "stdout",
     "output_type": "stream",
     "text": [
      "+------+---------+---------+------+-------------+--------+------+-----+--------------------+------+----+-----------------+---------+----+------+-------------+--------------------+------+-------------------+\n",
      "|artist|     auth|firstName|gender|itemInSession|lastName|length|level|            location|method|page|     registration|sessionId|song|status|           ts|           userAgent|userId|       ts_timestamp|\n",
      "+------+---------+---------+------+-------------+--------+------+-----+--------------------+------+----+-----------------+---------+----+------+-------------+--------------------+------+-------------------+\n",
      "|  null|Logged In|   Walter|     M|            0|    Frye|  null| free|San Francisco-Oak...|   GET|Home|1.540919166796E12|       38|null|   200|1541105830796|\"Mozilla/5.0 (Mac...|    39|2018-11-01 21:00:10|\n",
      "|  null|Logged In|   Kaylee|     F|            0| Summers|  null| free|Phoenix-Mesa-Scot...|   GET|Home|1.540344794796E12|      139|null|   200|1541106106796|\"Mozilla/5.0 (Win...|     8|2018-11-01 22:00:46|\n",
      "+------+---------+---------+------+-------------+--------+------+-----+--------------------+------+----+-----------------+---------+----+------+-------------+--------------------+------+-------------------+\n",
      "only showing top 2 rows\n",
      "\n"
     ]
    }
   ],
   "source": [
    "df_log_table.show(2)"
   ],
   "metadata": {
    "collapsed": false,
    "pycharm": {
     "name": "#%%\n"
    }
   }
  },
  {
   "cell_type": "code",
   "execution_count": 15,
   "outputs": [
    {
     "name": "stdout",
     "output_type": "stream",
     "text": [
      "14\n",
      "+-------------------+----+---+----+-----+----+-------+-----------+\n",
      "|         start_time|hour|day|week|month|year|weekday|day_of_week|\n",
      "+-------------------+----+---+----+-----+----+-------+-----------+\n",
      "|2018-11-01 22:00:15|  22|  1|  44|   11|2018|      5|   Thursday|\n",
      "|2018-11-01 22:00:13|  22|  1|  44|   11|2018|      5|   Thursday|\n",
      "|2018-11-01 22:00:33|  22|  1|  44|   11|2018|      5|   Thursday|\n",
      "+-------------------+----+---+----+-----+----+-------+-----------+\n",
      "\n",
      "root\n",
      " |-- start_time: timestamp (nullable = true)\n",
      " |-- hour: integer (nullable = true)\n",
      " |-- day: integer (nullable = true)\n",
      " |-- week: integer (nullable = true)\n",
      " |-- month: integer (nullable = true)\n",
      " |-- year: integer (nullable = true)\n",
      " |-- weekday: integer (nullable = true)\n",
      " |-- day_of_week: string (nullable = true)\n",
      "\n"
     ]
    }
   ],
   "source": [
    "# create time table\n",
    "\"\"\"\n",
    "What's going on here?\n",
    "- get only the valid timestamp\n",
    "- drop duplicate entries. Within the dimension table d_time no duplicates are allowed\n",
    "- extract the following things from timestamp: hour, day, week, month, weekday, day_of_week (name of the day)\n",
    "- rename colums ts_timestamp, because it's not needed anymore\n",
    "\"\"\"\n",
    "from pyspark.sql.functions import to_timestamp, date_format, hour, weekofyear, month, year, dayofweek, dayofmonth\n",
    "\n",
    "df_d_time = df_log_table\\\n",
    "    .select(df_log_table.ts_timestamp) \\\n",
    "    .dropDuplicates() \\\n",
    "    .withColumn(\"hour\", hour(df_log_table.ts_timestamp)) \\\n",
    "    .withColumn(\"day\", dayofmonth(df_log_table.ts_timestamp)) \\\n",
    "    .withColumn(\"week\", weekofyear(df_log_table.ts_timestamp)) \\\n",
    "    .withColumn(\"month\", month(df_log_table.ts_timestamp)) \\\n",
    "    .withColumn(\"year\", year(df_log_table.ts_timestamp)) \\\n",
    "    .withColumn(\"weekday\", dayofweek(df_log_table.ts_timestamp)) \\\n",
    "    .withColumn(\"day_of_week\", date_format( df_log_table.ts_timestamp, weekday_format) )  \\\n",
    "    .withColumnRenamed(\"ts_timestamp\", \"start_time\")\n",
    "\n",
    "print(df_d_time.count())\n",
    "\n",
    "df_d_time.limit(3).show()\n",
    "df_d_time.printSchema()"
   ],
   "metadata": {
    "collapsed": false,
    "pycharm": {
     "name": "#%%\n"
    }
   }
  },
  {
   "cell_type": "code",
   "execution_count": 16,
   "outputs": [],
   "source": [
    "\"\"\"\n",
    "Write data frame as JSON or PARQUET back to file system\n",
    "Data to write: df_d_time\n",
    "\"\"\"\n",
    "df_d_time \\\n",
    "    .repartition(1) \\\n",
    "    .write \\\n",
    "    .mode(saveMode='Overwrite') \\\n",
    "    .partitionBy(\"year\",\"month\") \\\n",
    "    .parquet('s3a://project-4-data-lake/analytics/d_time/d_time.parquet')\n"
   ],
   "metadata": {
    "collapsed": false,
    "pycharm": {
     "name": "#%%\n"
    }
   }
  },
  {
   "cell_type": "code",
   "execution_count": 14,
   "outputs": [
    {
     "name": "stdout",
     "output_type": "stream",
     "text": [
      "root\n",
      " |-- artist: string (nullable = true)\n",
      " |-- auth: string (nullable = true)\n",
      " |-- firstName: string (nullable = true)\n",
      " |-- gender: string (nullable = true)\n",
      " |-- itemInSession: long (nullable = true)\n",
      " |-- lastName: string (nullable = true)\n",
      " |-- length: double (nullable = true)\n",
      " |-- level: string (nullable = true)\n",
      " |-- location: string (nullable = true)\n",
      " |-- method: string (nullable = true)\n",
      " |-- page: string (nullable = true)\n",
      " |-- registration: double (nullable = true)\n",
      " |-- sessionId: long (nullable = true)\n",
      " |-- song: string (nullable = true)\n",
      " |-- status: long (nullable = true)\n",
      " |-- ts: long (nullable = true)\n",
      " |-- userAgent: string (nullable = true)\n",
      " |-- userId: string (nullable = true)\n",
      " |-- ts_timestamp: timestamp (nullable = true)\n",
      "\n"
     ]
    }
   ],
   "source": [],
   "metadata": {
    "collapsed": false,
    "pycharm": {
     "name": "#%%\n"
    }
   }
  },
  {
   "cell_type": "code",
   "execution_count": 17,
   "outputs": [
    {
     "name": "stdout",
     "output_type": "stream",
     "text": [
      "15\n",
      "14\n",
      "root\n",
      " |-- user_id: string (nullable = true)\n",
      " |-- first_name: string (nullable = true)\n",
      " |-- last_name: string (nullable = true)\n",
      " |-- gender: string (nullable = true)\n",
      " |-- level: string (nullable = true)\n",
      " |-- ts_timestamp: timestamp (nullable = true)\n",
      "\n",
      "+-------+----------+---------+------+-----+-------------------+\n",
      "|user_id|first_name|last_name|gender|level|       ts_timestamp|\n",
      "+-------+----------+---------+------+-----+-------------------+\n",
      "|     10|    Sylvie|     Cruz|     F| free|2018-11-01 22:00:00|\n",
      "|    101|    Jayden|      Fox|     M| free|2018-11-01 23:00:14|\n",
      "|     39|    Walter|     Frye|     M| free|2018-11-01 21:00:10|\n",
      "|     26|      Ryan|    Smith|     M| free|2018-11-01 22:00:05|\n",
      "|     26|      Ryan|    Smith|     M| free|2018-11-01 22:00:15|\n",
      "|     26|      Ryan|    Smith|     M| free|2018-11-01 22:00:25|\n",
      "|      8|    Kaylee|  Summers|     F| free|2018-11-01 22:00:13|\n",
      "|      8|    Kaylee|  Summers|     F| free|2018-11-01 22:00:12|\n",
      "|      8|    Kaylee|  Summers|     F| free|2018-11-01 22:00:52|\n",
      "|      8|    Kaylee|  Summers|     F| free|2018-11-01 22:00:33|\n",
      "|      8|    Kaylee|  Summers|     F| free|2018-11-01 22:00:54|\n",
      "|      8|    Kaylee|  Summers|     F| free|2018-11-01 22:00:16|\n",
      "|      8|    Kaylee|  Summers|     F| free|2018-11-01 22:00:53|\n",
      "|      8|    Kaylee|  Summers|     F| free|2018-11-01 22:00:46|\n",
      "+-------+----------+---------+------+-----+-------------------+\n",
      "\n"
     ]
    }
   ],
   "source": [
    "# handle table d_users\n",
    "print(df_log_table.count())\n",
    "\n",
    "# renamed columns for later use of dimension table d_users\n",
    "df_d_users_prep = df_log_table \\\n",
    "    .withColumnRenamed(\"userId\", \"user_id\") \\\n",
    "    .withColumnRenamed(\"firstName\", \"first_name\") \\\n",
    "    .withColumnRenamed(\"lastName\", \"last_name\") \\\n",
    "    .select(\"user_id\", \"first_name\", \"last_name\", \"gender\", \"level\", \"ts_timestamp\") \\\n",
    "    .dropDuplicates() \\\n",
    "    .sort(\"last_name\", \"first_Name\",  ascending=True )\n",
    "\n",
    "#df_log_table.limit(5).toPandas()\n",
    "print(df_d_users_prep.count())\n",
    "df_d_users_prep.printSchema()\n",
    "df_d_users_prep.show(20)"
   ],
   "metadata": {
    "collapsed": false,
    "pycharm": {
     "name": "#%%\n"
    }
   }
  },
  {
   "cell_type": "code",
   "execution_count": 18,
   "outputs": [],
   "source": [
    "# get only last entry for each user\n",
    "df_d_users_prep.createOrReplaceTempView(\"users_temp_table\")\n",
    "\n",
    "df_d_users = spark.sql(\"\"\"\n",
    "    select ou.user_id, ou.first_name, ou.last_name, ou.gender, ou.level\n",
    "      from users_temp_table as ou\n",
    "      join (\n",
    "            select iu.user_id, max(iu.ts_timestamp) as max_timestamp\n",
    "              from users_temp_table iu\n",
    "          group BY iu.user_id\n",
    "            ) as iu on ou.user_id = iu.user_id and ou.ts_timestamp = iu.max_timestamp\n",
    "    order by ou.user_id\n",
    "   ;\n",
    "   \"\"\")"
   ],
   "metadata": {
    "collapsed": false,
    "pycharm": {
     "name": "#%%\n"
    }
   }
  },
  {
   "cell_type": "code",
   "execution_count": 19,
   "outputs": [
    {
     "name": "stdout",
     "output_type": "stream",
     "text": [
      "root\n",
      " |-- user_id: string (nullable = true)\n",
      " |-- first_name: string (nullable = true)\n",
      " |-- last_name: string (nullable = true)\n",
      " |-- gender: string (nullable = true)\n",
      " |-- level: string (nullable = true)\n",
      "\n",
      "+-------+----------+---------+------+-----+\n",
      "|user_id|first_name|last_name|gender|level|\n",
      "+-------+----------+---------+------+-----+\n",
      "|     10|    Sylvie|     Cruz|     F| free|\n",
      "|    101|    Jayden|      Fox|     M| free|\n",
      "|     39|    Walter|     Frye|     M| free|\n",
      "|     26|      Ryan|    Smith|     M| free|\n",
      "|      8|    Kaylee|  Summers|     F| free|\n",
      "+-------+----------+---------+------+-----+\n",
      "\n"
     ]
    }
   ],
   "source": [
    "df_d_users.printSchema()\n",
    "df_d_users.sort(\"last_name\").show()"
   ],
   "metadata": {
    "collapsed": false,
    "pycharm": {
     "name": "#%%\n"
    }
   }
  },
  {
   "cell_type": "code",
   "execution_count": 20,
   "outputs": [],
   "source": [
    "\"\"\"\n",
    "Write data frame as JSON or PARQUET back to file system\n",
    "Data to write: df_d_users\n",
    "\"\"\"\n",
    "df_d_users \\\n",
    "    .repartition(1) \\\n",
    "    .write \\\n",
    "    .mode(saveMode='Overwrite') \\\n",
    "    .parquet('s3a://project-4-data-lake/analytics/d_users/d_users.parquet')"
   ],
   "metadata": {
    "collapsed": false,
    "pycharm": {
     "name": "#%%\n"
    }
   }
  },
  {
   "cell_type": "code",
   "execution_count": 21,
   "outputs": [
    {
     "name": "stdout",
     "output_type": "stream",
     "text": [
      "root\n",
      " |-- artist: string (nullable = true)\n",
      " |-- auth: string (nullable = true)\n",
      " |-- firstName: string (nullable = true)\n",
      " |-- gender: string (nullable = true)\n",
      " |-- itemInSession: long (nullable = true)\n",
      " |-- lastName: string (nullable = true)\n",
      " |-- length: double (nullable = true)\n",
      " |-- level: string (nullable = true)\n",
      " |-- location: string (nullable = true)\n",
      " |-- method: string (nullable = true)\n",
      " |-- page: string (nullable = true)\n",
      " |-- registration: double (nullable = true)\n",
      " |-- sessionId: long (nullable = true)\n",
      " |-- song: string (nullable = true)\n",
      " |-- status: long (nullable = true)\n",
      " |-- ts: long (nullable = true)\n",
      " |-- userAgent: string (nullable = true)\n",
      " |-- userId: string (nullable = true)\n",
      " |-- ts_timestamp: timestamp (nullable = true)\n",
      "\n"
     ]
    }
   ],
   "source": [
    "# write df_log_table to create f_songplays fact table\n",
    "\n",
    "df_log_table.printSchema()"
   ],
   "metadata": {
    "collapsed": false,
    "pycharm": {
     "name": "#%%\n"
    }
   }
  },
  {
   "cell_type": "code",
   "execution_count": 22,
   "outputs": [
    {
     "name": "stdout",
     "output_type": "stream",
     "text": [
      "root\n",
      " |-- artist: string (nullable = true)\n",
      " |-- auth: string (nullable = true)\n",
      " |-- firstName: string (nullable = true)\n",
      " |-- gender: string (nullable = true)\n",
      " |-- itemInSession: long (nullable = true)\n",
      " |-- lastName: string (nullable = true)\n",
      " |-- length: double (nullable = true)\n",
      " |-- level: string (nullable = true)\n",
      " |-- location: string (nullable = true)\n",
      " |-- method: string (nullable = true)\n",
      " |-- page: string (nullable = true)\n",
      " |-- registration: double (nullable = true)\n",
      " |-- sessionId: long (nullable = true)\n",
      " |-- song: string (nullable = true)\n",
      " |-- status: long (nullable = true)\n",
      " |-- ts: long (nullable = true)\n",
      " |-- userAgent: string (nullable = true)\n",
      " |-- userId: string (nullable = true)\n",
      " |-- start_time: timestamp (nullable = true)\n",
      "\n"
     ]
    }
   ],
   "source": [
    "\"\"\"\n",
    "Write data frame \"df_log_table\" as PARQUET file to file system for later use in file\n",
    "\"Project4-DataLake_JupyterNB_create_f_songplays_table.ipynb\". This is only temp data!!\n",
    "\n",
    "Data to write: df_songWithSchema\n",
    "- possible write modes: \"Overwrite\" and \"Append\"\n",
    "\"\"\"\n",
    "df_log_table = df_log_table\\\n",
    "    .withColumnRenamed(\"ts_timestamp\", \"start_time\")\n",
    "\n",
    "df_log_table.printSchema()"
   ],
   "metadata": {
    "collapsed": false,
    "pycharm": {
     "name": "#%%\n"
    }
   }
  },
  {
   "cell_type": "code",
   "execution_count": 23,
   "outputs": [],
   "source": [
    "df_log_table \\\n",
    "    .repartition(1) \\\n",
    "    .write \\\n",
    "    .mode(saveMode='Overwrite') \\\n",
    "    .parquet('s3a://project-4-data-lake/analytics/staging/df_logs_table.parquet')"
   ],
   "metadata": {
    "collapsed": false,
    "pycharm": {
     "name": "#%%\n"
    }
   }
  },
  {
   "cell_type": "code",
   "execution_count": 24,
   "outputs": [
    {
     "name": "stdout",
     "output_type": "stream",
     "text": [
      "15\n",
      "+-------+---------+---------+------+-------------+--------+---------+-----+---------------------------+------+--------+-----------------+---------+------------+------+-------------+---------------------------------------------------------------------------------------------------------------+------+-------------------+\n",
      "|artist |auth     |firstName|gender|itemInSession|lastName|length   |level|location                   |method|page    |registration     |sessionId|song        |status|ts           |userAgent                                                                                                      |userId|start_time         |\n",
      "+-------+---------+---------+------+-------------+--------+---------+-----+---------------------------+------+--------+-----------------+---------+------------+------+-------------+---------------------------------------------------------------------------------------------------------------+------+-------------------+\n",
      "|Des'ree|Logged In|Kaylee   |F     |1            |Summers |246.30812|free |Phoenix-Mesa-Scottsdale, AZ|PUT   |NextSong|1.540344794796E12|139      |You Gotta Be|200   |1541106106796|\"Mozilla/5.0 (Windows NT 6.1; WOW64) AppleWebKit/537.36 (KHTML, like Gecko) Chrome/35.0.1916.153 Safari/537.36\"|8     |2018-11-01 22:00:46|\n",
      "|Mr Oizo|Logged In|Kaylee   |F     |3            |Summers |144.03873|free |Phoenix-Mesa-Scottsdale, AZ|PUT   |NextSong|1.540344794796E12|139      |Flat 55     |200   |1541106352796|\"Mozilla/5.0 (Windows NT 6.1; WOW64) AppleWebKit/537.36 (KHTML, like Gecko) Chrome/35.0.1916.153 Safari/537.36\"|8     |2018-11-01 22:00:52|\n",
      "+-------+---------+---------+------+-------------+--------+---------+-----+---------------------------+------+--------+-----------------+---------+------------+------+-------------+---------------------------------------------------------------------------------------------------------------+------+-------------------+\n",
      "only showing top 2 rows\n",
      "\n",
      "15\n"
     ]
    }
   ],
   "source": [
    "print(df_log_table.count())\n",
    "df_log_table.filter(df_log_table.page == \"NextSong\").show(2, truncate=False)\n",
    "print(df_log_table.count())"
   ],
   "metadata": {
    "collapsed": false,
    "pycharm": {
     "name": "#%%\n"
    }
   }
  },
  {
   "cell_type": "code",
   "execution_count": null,
   "outputs": [],
   "source": [],
   "metadata": {
    "collapsed": false,
    "pycharm": {
     "name": "#%%"
    }
   }
  }
 ],
 "metadata": {
  "kernelspec": {
   "display_name": "Python 3",
   "language": "python",
   "name": "python3"
  },
  "language_info": {
   "codemirror_mode": {
    "name": "ipython",
    "version": 2
   },
   "file_extension": ".py",
   "mimetype": "text/x-python",
   "name": "python",
   "nbconvert_exporter": "python",
   "pygments_lexer": "ipython2",
   "version": "2.7.6"
  }
 },
 "nbformat": 4,
 "nbformat_minor": 0
}