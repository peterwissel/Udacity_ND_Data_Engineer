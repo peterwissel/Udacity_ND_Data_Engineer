{
 "cells": [
  {
   "cell_type": "markdown",
   "metadata": {},
   "source": [
    "# ETL Processes\n",
    "Use this notebook to develop the ETL process for each of your tables before completing the `etl.py` file to load the whole datasets."
   ]
  },
  {
   "cell_type": "code",
   "execution_count": 1,
   "metadata": {},
   "outputs": [],
   "source": [
    "import os\n",
    "import glob\n",
    "import psycopg2\n",
    "import pandas as pd\n",
    "from sql_queries import *"
   ]
  },
  {
   "cell_type": "code",
   "execution_count": 2,
   "metadata": {},
   "outputs": [],
   "source": [
    "conn = psycopg2.connect(\"host=127.0.0.1 dbname=sparkifydb user=student password=student\")\n",
    "cur = conn.cursor()"
   ]
  },
  {
   "cell_type": "code",
   "execution_count": 3,
   "metadata": {},
   "outputs": [],
   "source": [
    "def get_files(filepath):\n",
    "    all_files = []\n",
    "    for root, dirs, files in os.walk(filepath):\n",
    "        files = glob.glob(os.path.join(root,'*.json'))\n",
    "        for f in files :\n",
    "            all_files.append(os.path.abspath(f))\n",
    "    \n",
    "    return all_files"
   ]
  },
  {
   "cell_type": "markdown",
   "metadata": {},
   "source": [
    "# Process `song_data`\n",
    "In this first part, you'll perform ETL on the first dataset, `song_data`, to create the `songs` and `artists` dimensional tables.\n",
    "\n",
    "Let's perform ETL on a single song file and load a single record into each table to start.\n",
    "- Use the `get_files` function provided above to get a list of all song JSON files in `data/song_data`\n",
    "- Select the first song in this list\n",
    "- Read the song file and view the data"
   ]
  },
  {
   "cell_type": "code",
   "execution_count": 4,
   "metadata": {},
   "outputs": [
    {
     "data": {
      "text/plain": "'/home/peter/syncthing/Ausbildung/Udacity/Data_Engineer/PyCharm/Project_1__Data_Modeling_with_Postgres/data/song_data/A/B/C/TRABCRU128F423F449.json'"
     },
     "execution_count": 4,
     "metadata": {},
     "output_type": "execute_result"
    }
   ],
   "source": [
    "filepath = 'data/song_data'\n",
    "\n",
    "song_files = get_files(filepath)\n",
    "song_file = song_files[0]\n",
    "song_file"
   ]
  },
  {
   "cell_type": "code",
   "execution_count": 5,
   "metadata": {},
   "outputs": [
    {
     "data": {
      "text/plain": "   num_songs           artist_id  artist_latitude  artist_longitude  \\\n0          1  AR8IEZO1187B99055E              NaN               NaN   \n\n  artist_location   artist_name             song_id          title   duration  \\\n0                  Marc Shaiman  SOINLJW12A8C13314C  City Slickers  149.86404   \n\n   year  \n0  2008  ",
      "text/html": "<div>\n<style scoped>\n    .dataframe tbody tr th:only-of-type {\n        vertical-align: middle;\n    }\n\n    .dataframe tbody tr th {\n        vertical-align: top;\n    }\n\n    .dataframe thead th {\n        text-align: right;\n    }\n</style>\n<table border=\"1\" class=\"dataframe\">\n  <thead>\n    <tr style=\"text-align: right;\">\n      <th></th>\n      <th>num_songs</th>\n      <th>artist_id</th>\n      <th>artist_latitude</th>\n      <th>artist_longitude</th>\n      <th>artist_location</th>\n      <th>artist_name</th>\n      <th>song_id</th>\n      <th>title</th>\n      <th>duration</th>\n      <th>year</th>\n    </tr>\n  </thead>\n  <tbody>\n    <tr>\n      <th>0</th>\n      <td>1</td>\n      <td>AR8IEZO1187B99055E</td>\n      <td>NaN</td>\n      <td>NaN</td>\n      <td></td>\n      <td>Marc Shaiman</td>\n      <td>SOINLJW12A8C13314C</td>\n      <td>City Slickers</td>\n      <td>149.86404</td>\n      <td>2008</td>\n    </tr>\n  </tbody>\n</table>\n</div>"
     },
     "execution_count": 5,
     "metadata": {},
     "output_type": "execute_result"
    }
   ],
   "source": [
    "df = pd.read_json(song_file, lines=True)\n",
    "df.head()\n"
   ]
  },
  {
   "cell_type": "markdown",
   "metadata": {},
   "source": [
    "## #1: `songs` Table\n",
    "#### Extract Data for Songs Table\n",
    "- Select columns for song ID, title, artist ID, year, and duration\n",
    "- Use `df.values` to select just the values from the dataframe\n",
    "- Index to select the first (only) record in the dataframe\n",
    "- Convert the array to a list and set it to `song_data`"
   ]
  },
  {
   "cell_type": "code",
   "execution_count": 6,
   "metadata": {},
   "outputs": [
    {
     "data": {
      "text/plain": "['SOINLJW12A8C13314C', 'City Slickers', 'AR8IEZO1187B99055E', 2008, 149.86404]"
     },
     "execution_count": 6,
     "metadata": {},
     "output_type": "execute_result"
    }
   ],
   "source": [
    "song_data = df[['song_id', 'title', 'artist_id', 'year', 'duration']].values[0].tolist()\n",
    "song_data"
   ]
  },
  {
   "cell_type": "markdown",
   "metadata": {},
   "source": [
    "#### Insert Record into Song Table\n",
    "Implement the `song_table_insert` query in `sql_queries.py` and run the cell below to insert a record for this song into the `songs` table. Remember to run `create_tables.py` before running the cell below to ensure you've created/resetted the `songs` table in the sparkify database."
   ]
  },
  {
   "cell_type": "code",
   "execution_count": 7,
   "metadata": {},
   "outputs": [],
   "source": [
    "song_table_insert = \"\"\"INSERT INTO d_songs(song_id, title, artist_id, year, duration)\n",
    "                     values(%s, %s, %s, %s, %s);\"\"\"\n",
    "try:\n",
    "    cur.execute(song_table_insert, song_data)\n",
    "except psycopg2.Error as e:\n",
    "    print(\"Error: Inserting d_songs data\")\n",
    "    print (e)\n",
    "conn.commit()"
   ]
  },
  {
   "cell_type": "markdown",
   "metadata": {},
   "source": [
    "Run `test.ipynb` to see if you've successfully added a record to this table."
   ]
  },
  {
   "cell_type": "markdown",
   "metadata": {},
   "source": [
    "## #2: `artists` Table\n",
    "#### Extract Data for Artists Table\n",
    "- Select columns for artist ID, name, location, latitude, and longitude\n",
    "- Use `df.values` to select just the values from the dataframe\n",
    "- Index to select the first (only) record in the dataframe\n",
    "- Convert the array to a list and set it to `artist_data`"
   ]
  },
  {
   "cell_type": "code",
   "execution_count": 8,
   "metadata": {},
   "outputs": [
    {
     "data": {
      "text/plain": "['AR8IEZO1187B99055E', 'Marc Shaiman', '', nan, nan]"
     },
     "execution_count": 8,
     "metadata": {},
     "output_type": "execute_result"
    }
   ],
   "source": [
    "artist_data = df[['artist_id', 'artist_name', 'artist_location', 'artist_latitude', 'artist_longitude']].values[0].tolist()\n",
    "artist_data\n",
    "\n"
   ]
  },
  {
   "cell_type": "markdown",
   "metadata": {},
   "source": [
    "#### Insert Record into Artist Table\n",
    "Implement the `artist_table_insert` query in `sql_queries.py` and run the cell below to insert a record for this song's artist into the `artists` table. Remember to run `create_tables.py` before running the cell below to ensure you've created/resetted the `artists` table in the sparkify database."
   ]
  },
  {
   "cell_type": "code",
   "execution_count": 9,
   "metadata": {},
   "outputs": [],
   "source": [
    "artist_table_insert = \"\"\"INSERT INTO d_artists (artist_id, name, location, latitude, longitude)\n",
    "                         values(%s, %s, %s, %s, %s);\"\"\"\n",
    "try:\n",
    "    cur.execute(artist_table_insert, artist_data)\n",
    "except psycopg2.Error as e:\n",
    "    print(\"Error: Inserting artist_data\")\n",
    "    print (e)\n",
    "conn.commit()"
   ]
  },
  {
   "cell_type": "markdown",
   "metadata": {},
   "source": [
    "Run `test.ipynb` to see if you've successfully added a record to this table."
   ]
  },
  {
   "cell_type": "markdown",
   "metadata": {},
   "source": [
    "# Process `log_data`\n",
    "In this part, you'll perform ETL on the second dataset, `log_data`, to create the `time` and `users` dimensional tables, as well as the `songplays` fact table.\n",
    "\n",
    "Let's perform ETL on a single log file and load a single record into each table.\n",
    "- Use the `get_files` function provided above to get a list of all log JSON files in `data/log_data`\n",
    "- Select the first log file in this list\n",
    "- Read the log file and view the data"
   ]
  },
  {
   "cell_type": "code",
   "execution_count": 10,
   "metadata": {},
   "outputs": [
    {
     "data": {
      "text/plain": "'/home/peter/syncthing/Ausbildung/Udacity/Data_Engineer/PyCharm/Project_1__Data_Modeling_with_Postgres/data/log_data/2018/11/2018-11-29-events.json'"
     },
     "execution_count": 10,
     "metadata": {},
     "output_type": "execute_result"
    }
   ],
   "source": [
    "filepath = 'data/log_data'\n",
    "\n",
    "log_files = get_files(filepath)\n",
    "log_file = log_files[0]\n",
    "log_file"
   ]
  },
  {
   "cell_type": "code",
   "execution_count": 11,
   "metadata": {},
   "outputs": [
    {
     "data": {
      "text/plain": "              artist       auth firstName gender  itemInSession lastName  \\\n0  Sydney Youngblood  Logged In     Jacob      M             53    Klein   \n1         Gang Starr  Logged In     Layla      F             88  Griffin   \n2              3OH!3  Logged In     Layla      F             89  Griffin   \n3        RÃÂ¶yksopp  Logged In     Jacob      M             54    Klein   \n4         Kajagoogoo  Logged In     Layla      F             90  Griffin   \n\n      length level                             location method      page  \\\n0  238.07955  paid  Tampa-St. Petersburg-Clearwater, FL    PUT  NextSong   \n1  151.92771  paid         Lake Havasu City-Kingman, AZ    PUT  NextSong   \n2  192.52200  paid         Lake Havasu City-Kingman, AZ    PUT  NextSong   \n3  369.81506  paid  Tampa-St. Petersburg-Clearwater, FL    PUT  NextSong   \n4  223.55546  paid         Lake Havasu City-Kingman, AZ    PUT  NextSong   \n\n   registration  sessionId                                         song  \\\n0  1.540558e+12        954                            Ain't No Sunshine   \n1  1.541057e+12        984                   My Advice 2 You (Explicit)   \n2  1.541057e+12        984  My First Kiss (Feat. Ke$ha) [Album Version]   \n3  1.540558e+12        954                       The Girl and The Robot   \n4  1.541057e+12        984                                      Too Shy   \n\n   status             ts                                          userAgent  \\\n0     200  1543449657796  \"Mozilla/5.0 (Macintosh; Intel Mac OS X 10_9_4...   \n1     200  1543449690796  \"Mozilla/5.0 (Windows NT 6.1; WOW64) AppleWebK...   \n2     200  1543449841796  \"Mozilla/5.0 (Windows NT 6.1; WOW64) AppleWebK...   \n3     200  1543449895796  \"Mozilla/5.0 (Macintosh; Intel Mac OS X 10_9_4...   \n4     200  1543450033796  \"Mozilla/5.0 (Windows NT 6.1; WOW64) AppleWebK...   \n\n  userId  \n0     73  \n1     24  \n2     24  \n3     73  \n4     24  ",
      "text/html": "<div>\n<style scoped>\n    .dataframe tbody tr th:only-of-type {\n        vertical-align: middle;\n    }\n\n    .dataframe tbody tr th {\n        vertical-align: top;\n    }\n\n    .dataframe thead th {\n        text-align: right;\n    }\n</style>\n<table border=\"1\" class=\"dataframe\">\n  <thead>\n    <tr style=\"text-align: right;\">\n      <th></th>\n      <th>artist</th>\n      <th>auth</th>\n      <th>firstName</th>\n      <th>gender</th>\n      <th>itemInSession</th>\n      <th>lastName</th>\n      <th>length</th>\n      <th>level</th>\n      <th>location</th>\n      <th>method</th>\n      <th>page</th>\n      <th>registration</th>\n      <th>sessionId</th>\n      <th>song</th>\n      <th>status</th>\n      <th>ts</th>\n      <th>userAgent</th>\n      <th>userId</th>\n    </tr>\n  </thead>\n  <tbody>\n    <tr>\n      <th>0</th>\n      <td>Sydney Youngblood</td>\n      <td>Logged In</td>\n      <td>Jacob</td>\n      <td>M</td>\n      <td>53</td>\n      <td>Klein</td>\n      <td>238.07955</td>\n      <td>paid</td>\n      <td>Tampa-St. Petersburg-Clearwater, FL</td>\n      <td>PUT</td>\n      <td>NextSong</td>\n      <td>1.540558e+12</td>\n      <td>954</td>\n      <td>Ain't No Sunshine</td>\n      <td>200</td>\n      <td>1543449657796</td>\n      <td>\"Mozilla/5.0 (Macintosh; Intel Mac OS X 10_9_4...</td>\n      <td>73</td>\n    </tr>\n    <tr>\n      <th>1</th>\n      <td>Gang Starr</td>\n      <td>Logged In</td>\n      <td>Layla</td>\n      <td>F</td>\n      <td>88</td>\n      <td>Griffin</td>\n      <td>151.92771</td>\n      <td>paid</td>\n      <td>Lake Havasu City-Kingman, AZ</td>\n      <td>PUT</td>\n      <td>NextSong</td>\n      <td>1.541057e+12</td>\n      <td>984</td>\n      <td>My Advice 2 You (Explicit)</td>\n      <td>200</td>\n      <td>1543449690796</td>\n      <td>\"Mozilla/5.0 (Windows NT 6.1; WOW64) AppleWebK...</td>\n      <td>24</td>\n    </tr>\n    <tr>\n      <th>2</th>\n      <td>3OH!3</td>\n      <td>Logged In</td>\n      <td>Layla</td>\n      <td>F</td>\n      <td>89</td>\n      <td>Griffin</td>\n      <td>192.52200</td>\n      <td>paid</td>\n      <td>Lake Havasu City-Kingman, AZ</td>\n      <td>PUT</td>\n      <td>NextSong</td>\n      <td>1.541057e+12</td>\n      <td>984</td>\n      <td>My First Kiss (Feat. Ke$ha) [Album Version]</td>\n      <td>200</td>\n      <td>1543449841796</td>\n      <td>\"Mozilla/5.0 (Windows NT 6.1; WOW64) AppleWebK...</td>\n      <td>24</td>\n    </tr>\n    <tr>\n      <th>3</th>\n      <td>RÃÂ¶yksopp</td>\n      <td>Logged In</td>\n      <td>Jacob</td>\n      <td>M</td>\n      <td>54</td>\n      <td>Klein</td>\n      <td>369.81506</td>\n      <td>paid</td>\n      <td>Tampa-St. Petersburg-Clearwater, FL</td>\n      <td>PUT</td>\n      <td>NextSong</td>\n      <td>1.540558e+12</td>\n      <td>954</td>\n      <td>The Girl and The Robot</td>\n      <td>200</td>\n      <td>1543449895796</td>\n      <td>\"Mozilla/5.0 (Macintosh; Intel Mac OS X 10_9_4...</td>\n      <td>73</td>\n    </tr>\n    <tr>\n      <th>4</th>\n      <td>Kajagoogoo</td>\n      <td>Logged In</td>\n      <td>Layla</td>\n      <td>F</td>\n      <td>90</td>\n      <td>Griffin</td>\n      <td>223.55546</td>\n      <td>paid</td>\n      <td>Lake Havasu City-Kingman, AZ</td>\n      <td>PUT</td>\n      <td>NextSong</td>\n      <td>1.541057e+12</td>\n      <td>984</td>\n      <td>Too Shy</td>\n      <td>200</td>\n      <td>1543450033796</td>\n      <td>\"Mozilla/5.0 (Windows NT 6.1; WOW64) AppleWebK...</td>\n      <td>24</td>\n    </tr>\n  </tbody>\n</table>\n</div>"
     },
     "execution_count": 11,
     "metadata": {},
     "output_type": "execute_result"
    }
   ],
   "source": [
    "df = pd.read_json(log_file, lines=True)\n",
    "df.head()\n"
   ]
  },
  {
   "cell_type": "markdown",
   "metadata": {},
   "source": [
    "## #3: `time` Table\n",
    "#### Extract Data for Time Table\n",
    "- Filter records by `NextSong` action\n",
    "- Convert the `ts` timestamp column to datetime\n",
    "  - Hint: the current timestamp is in milliseconds\n",
    "- Extract the timestamp, hour, day, week of year, month, year, and weekday from the `ts` column and set `time_data` to a list containing these values in order\n",
    "  - Hint: use pandas' [`dt` attribute](https://pandas.pydata.org/pandas-docs/stable/reference/api/pandas.Series.dt.html) to access easily datetimelike properties.\n",
    "- Specify labels for these columns and set to `column_labels`\n",
    "- Create a dataframe, `time_df,` containing the time data for this file by combining `column_labels` and `time_data` into a dictionary and converting this into a dataframe"
   ]
  },
  {
   "cell_type": "code",
   "execution_count": 12,
   "metadata": {},
   "outputs": [
    {
     "data": {
      "text/plain": "              artist       auth firstName gender  itemInSession lastName  \\\n0  Sydney Youngblood  Logged In     Jacob      M             53    Klein   \n1         Gang Starr  Logged In     Layla      F             88  Griffin   \n2              3OH!3  Logged In     Layla      F             89  Griffin   \n3        RÃÂ¶yksopp  Logged In     Jacob      M             54    Klein   \n4         Kajagoogoo  Logged In     Layla      F             90  Griffin   \n\n      length level                             location method      page  \\\n0  238.07955  paid  Tampa-St. Petersburg-Clearwater, FL    PUT  NextSong   \n1  151.92771  paid         Lake Havasu City-Kingman, AZ    PUT  NextSong   \n2  192.52200  paid         Lake Havasu City-Kingman, AZ    PUT  NextSong   \n3  369.81506  paid  Tampa-St. Petersburg-Clearwater, FL    PUT  NextSong   \n4  223.55546  paid         Lake Havasu City-Kingman, AZ    PUT  NextSong   \n\n   registration  sessionId                                         song  \\\n0  1.540558e+12        954                            Ain't No Sunshine   \n1  1.541057e+12        984                   My Advice 2 You (Explicit)   \n2  1.541057e+12        984  My First Kiss (Feat. Ke$ha) [Album Version]   \n3  1.540558e+12        954                       The Girl and The Robot   \n4  1.541057e+12        984                                      Too Shy   \n\n   status             ts                                          userAgent  \\\n0     200  1543449657796  \"Mozilla/5.0 (Macintosh; Intel Mac OS X 10_9_4...   \n1     200  1543449690796  \"Mozilla/5.0 (Windows NT 6.1; WOW64) AppleWebK...   \n2     200  1543449841796  \"Mozilla/5.0 (Windows NT 6.1; WOW64) AppleWebK...   \n3     200  1543449895796  \"Mozilla/5.0 (Macintosh; Intel Mac OS X 10_9_4...   \n4     200  1543450033796  \"Mozilla/5.0 (Windows NT 6.1; WOW64) AppleWebK...   \n\n  userId  \n0     73  \n1     24  \n2     24  \n3     73  \n4     24  ",
      "text/html": "<div>\n<style scoped>\n    .dataframe tbody tr th:only-of-type {\n        vertical-align: middle;\n    }\n\n    .dataframe tbody tr th {\n        vertical-align: top;\n    }\n\n    .dataframe thead th {\n        text-align: right;\n    }\n</style>\n<table border=\"1\" class=\"dataframe\">\n  <thead>\n    <tr style=\"text-align: right;\">\n      <th></th>\n      <th>artist</th>\n      <th>auth</th>\n      <th>firstName</th>\n      <th>gender</th>\n      <th>itemInSession</th>\n      <th>lastName</th>\n      <th>length</th>\n      <th>level</th>\n      <th>location</th>\n      <th>method</th>\n      <th>page</th>\n      <th>registration</th>\n      <th>sessionId</th>\n      <th>song</th>\n      <th>status</th>\n      <th>ts</th>\n      <th>userAgent</th>\n      <th>userId</th>\n    </tr>\n  </thead>\n  <tbody>\n    <tr>\n      <th>0</th>\n      <td>Sydney Youngblood</td>\n      <td>Logged In</td>\n      <td>Jacob</td>\n      <td>M</td>\n      <td>53</td>\n      <td>Klein</td>\n      <td>238.07955</td>\n      <td>paid</td>\n      <td>Tampa-St. Petersburg-Clearwater, FL</td>\n      <td>PUT</td>\n      <td>NextSong</td>\n      <td>1.540558e+12</td>\n      <td>954</td>\n      <td>Ain't No Sunshine</td>\n      <td>200</td>\n      <td>1543449657796</td>\n      <td>\"Mozilla/5.0 (Macintosh; Intel Mac OS X 10_9_4...</td>\n      <td>73</td>\n    </tr>\n    <tr>\n      <th>1</th>\n      <td>Gang Starr</td>\n      <td>Logged In</td>\n      <td>Layla</td>\n      <td>F</td>\n      <td>88</td>\n      <td>Griffin</td>\n      <td>151.92771</td>\n      <td>paid</td>\n      <td>Lake Havasu City-Kingman, AZ</td>\n      <td>PUT</td>\n      <td>NextSong</td>\n      <td>1.541057e+12</td>\n      <td>984</td>\n      <td>My Advice 2 You (Explicit)</td>\n      <td>200</td>\n      <td>1543449690796</td>\n      <td>\"Mozilla/5.0 (Windows NT 6.1; WOW64) AppleWebK...</td>\n      <td>24</td>\n    </tr>\n    <tr>\n      <th>2</th>\n      <td>3OH!3</td>\n      <td>Logged In</td>\n      <td>Layla</td>\n      <td>F</td>\n      <td>89</td>\n      <td>Griffin</td>\n      <td>192.52200</td>\n      <td>paid</td>\n      <td>Lake Havasu City-Kingman, AZ</td>\n      <td>PUT</td>\n      <td>NextSong</td>\n      <td>1.541057e+12</td>\n      <td>984</td>\n      <td>My First Kiss (Feat. Ke$ha) [Album Version]</td>\n      <td>200</td>\n      <td>1543449841796</td>\n      <td>\"Mozilla/5.0 (Windows NT 6.1; WOW64) AppleWebK...</td>\n      <td>24</td>\n    </tr>\n    <tr>\n      <th>3</th>\n      <td>RÃÂ¶yksopp</td>\n      <td>Logged In</td>\n      <td>Jacob</td>\n      <td>M</td>\n      <td>54</td>\n      <td>Klein</td>\n      <td>369.81506</td>\n      <td>paid</td>\n      <td>Tampa-St. Petersburg-Clearwater, FL</td>\n      <td>PUT</td>\n      <td>NextSong</td>\n      <td>1.540558e+12</td>\n      <td>954</td>\n      <td>The Girl and The Robot</td>\n      <td>200</td>\n      <td>1543449895796</td>\n      <td>\"Mozilla/5.0 (Macintosh; Intel Mac OS X 10_9_4...</td>\n      <td>73</td>\n    </tr>\n    <tr>\n      <th>4</th>\n      <td>Kajagoogoo</td>\n      <td>Logged In</td>\n      <td>Layla</td>\n      <td>F</td>\n      <td>90</td>\n      <td>Griffin</td>\n      <td>223.55546</td>\n      <td>paid</td>\n      <td>Lake Havasu City-Kingman, AZ</td>\n      <td>PUT</td>\n      <td>NextSong</td>\n      <td>1.541057e+12</td>\n      <td>984</td>\n      <td>Too Shy</td>\n      <td>200</td>\n      <td>1543450033796</td>\n      <td>\"Mozilla/5.0 (Windows NT 6.1; WOW64) AppleWebK...</td>\n      <td>24</td>\n    </tr>\n  </tbody>\n</table>\n</div>"
     },
     "execution_count": 12,
     "metadata": {},
     "output_type": "execute_result"
    }
   ],
   "source": [
    "# Filter records by `NextSong` action\n",
    "df = df[df['page'] == 'NextSong']\n",
    "df.head()\n"
   ]
  },
  {
   "cell_type": "code",
   "execution_count": 13,
   "metadata": {},
   "outputs": [
    {
     "data": {
      "text/plain": "{'start_time': 0     2018-11-29 00:00:57.796\n 1     2018-11-29 00:01:30.796\n 2     2018-11-29 00:04:01.796\n 3     2018-11-29 00:04:55.796\n 4     2018-11-29 00:07:13.796\n                 ...          \n 360   2018-11-29 22:53:32.796\n 362   2018-11-29 22:57:22.796\n 363   2018-11-29 23:02:05.796\n 364   2018-11-29 23:05:13.796\n 365   2018-11-29 23:18:35.796\n Name: ts, Length: 319, dtype: datetime64[ns],\n 'hour': 0       0\n 1       0\n 2       0\n 3       0\n 4       0\n        ..\n 360    22\n 362    22\n 363    23\n 364    23\n 365    23\n Name: ts, Length: 319, dtype: int64,\n 'day': 0      29\n 1      29\n 2      29\n 3      29\n 4      29\n        ..\n 360    29\n 362    29\n 363    29\n 364    29\n 365    29\n Name: ts, Length: 319, dtype: int64,\n 'week_of_year': 0      48\n 1      48\n 2      48\n 3      48\n 4      48\n        ..\n 360    48\n 362    48\n 363    48\n 364    48\n 365    48\n Name: ts, Length: 319, dtype: int64,\n 'month': 0      11\n 1      11\n 2      11\n 3      11\n 4      11\n        ..\n 360    11\n 362    11\n 363    11\n 364    11\n 365    11\n Name: ts, Length: 319, dtype: int64,\n 'year': 0      2018\n 1      2018\n 2      2018\n 3      2018\n 4      2018\n        ... \n 360    2018\n 362    2018\n 363    2018\n 364    2018\n 365    2018\n Name: ts, Length: 319, dtype: int64,\n 'weekday': 0      3\n 1      3\n 2      3\n 3      3\n 4      3\n       ..\n 360    3\n 362    3\n 363    3\n 364    3\n 365    3\n Name: ts, Length: 319, dtype: int64}"
     },
     "execution_count": 13,
     "metadata": {},
     "output_type": "execute_result"
    }
   ],
   "source": [
    "# Convert the `ts` timestamp column to datetime format --> this in only convertabile with the data frame\n",
    "df_time = pd.to_datetime(df['ts'], unit='ms')\n",
    "\n",
    "######### time_data = list of date_values\"!!!\"\n",
    "## timestamp, hour, day, week of year, month, year, and weekday\n",
    "df_time_timestamp = df_time\n",
    "df_time_hour = df_time.dt.hour\n",
    "df_time_day = df_time.dt.day\n",
    "df_time_week_of_year = df_time.dt.weekofyear\n",
    "df_time_month = df_time.dt.month\n",
    "df_time_year = df_time.dt.year\n",
    "df_time_weekday = df_time.dt.weekday\n",
    "\n",
    "time_data = [df_time_timestamp, df_time_hour, df_time_day, df_time_week_of_year, df_time_month, df_time_year, df_time_weekday]\n",
    "column_labels = ['start_time', 'hour', 'day', 'week_of_year', 'month', 'year', 'weekday']\n",
    "\n",
    "# combine both lists together to key value pairs\n",
    "#https://stackoverflow.com/questions/209840/convert-two-lists-into-a-dictionary\n",
    "#>>> keys = ['a', 'b', 'c']\n",
    "#>>> values = [1, 2, 3]\n",
    "#>>> dictionary = dict(zip(keys, values))\n",
    "#>>> print(dictionary)\n",
    "#{'a': 1, 'b': 2, 'c': 3}\n",
    "\n",
    "# combine column_lables together with time_data\n",
    "dict(zip(column_labels, time_data))\n"
   ]
  },
  {
   "cell_type": "code",
   "execution_count": 14,
   "metadata": {},
   "outputs": [
    {
     "data": {
      "text/plain": "               start_time  hour  day  week_of_year  month  year  weekday\n0 2018-11-29 00:00:57.796     0   29            48     11  2018        3\n1 2018-11-29 00:01:30.796     0   29            48     11  2018        3\n2 2018-11-29 00:04:01.796     0   29            48     11  2018        3\n3 2018-11-29 00:04:55.796     0   29            48     11  2018        3\n4 2018-11-29 00:07:13.796     0   29            48     11  2018        3",
      "text/html": "<div>\n<style scoped>\n    .dataframe tbody tr th:only-of-type {\n        vertical-align: middle;\n    }\n\n    .dataframe tbody tr th {\n        vertical-align: top;\n    }\n\n    .dataframe thead th {\n        text-align: right;\n    }\n</style>\n<table border=\"1\" class=\"dataframe\">\n  <thead>\n    <tr style=\"text-align: right;\">\n      <th></th>\n      <th>start_time</th>\n      <th>hour</th>\n      <th>day</th>\n      <th>week_of_year</th>\n      <th>month</th>\n      <th>year</th>\n      <th>weekday</th>\n    </tr>\n  </thead>\n  <tbody>\n    <tr>\n      <th>0</th>\n      <td>2018-11-29 00:00:57.796</td>\n      <td>0</td>\n      <td>29</td>\n      <td>48</td>\n      <td>11</td>\n      <td>2018</td>\n      <td>3</td>\n    </tr>\n    <tr>\n      <th>1</th>\n      <td>2018-11-29 00:01:30.796</td>\n      <td>0</td>\n      <td>29</td>\n      <td>48</td>\n      <td>11</td>\n      <td>2018</td>\n      <td>3</td>\n    </tr>\n    <tr>\n      <th>2</th>\n      <td>2018-11-29 00:04:01.796</td>\n      <td>0</td>\n      <td>29</td>\n      <td>48</td>\n      <td>11</td>\n      <td>2018</td>\n      <td>3</td>\n    </tr>\n    <tr>\n      <th>3</th>\n      <td>2018-11-29 00:04:55.796</td>\n      <td>0</td>\n      <td>29</td>\n      <td>48</td>\n      <td>11</td>\n      <td>2018</td>\n      <td>3</td>\n    </tr>\n    <tr>\n      <th>4</th>\n      <td>2018-11-29 00:07:13.796</td>\n      <td>0</td>\n      <td>29</td>\n      <td>48</td>\n      <td>11</td>\n      <td>2018</td>\n      <td>3</td>\n    </tr>\n  </tbody>\n</table>\n</div>"
     },
     "execution_count": 14,
     "metadata": {},
     "output_type": "execute_result"
    }
   ],
   "source": [
    "#build data_frame for time data\n",
    "time_df = pd.DataFrame.from_dict(dict(zip(column_labels, time_data)), orient='columns',dtype=None)\n",
    "time_df.head()"
   ]
  },
  {
   "cell_type": "markdown",
   "metadata": {
    "pycharm": {
     "name": "#%% md\n"
    }
   },
   "source": [
    "#### Insert Records into Time Table\n",
    "Implement the `time_table_insert` query in `sql_queries.py` and run the cell below to insert records for the timestamps in this log file into the `time` table. Remember to run `create_tables.py` before running the cell below to ensure you've created/resetted the `time` table in the sparkify database."
   ]
  },
  {
   "cell_type": "code",
   "execution_count": 15,
   "metadata": {
    "pycharm": {
     "name": "#%%\n"
    }
   },
   "outputs": [
    {
     "data": {
      "text/plain": "[[Timestamp('2018-11-29 00:00:57.796000'), 0, 29, 48, 11, 2018, 3],\n [Timestamp('2018-11-29 00:01:30.796000'), 0, 29, 48, 11, 2018, 3],\n [Timestamp('2018-11-29 00:04:01.796000'), 0, 29, 48, 11, 2018, 3],\n [Timestamp('2018-11-29 00:04:55.796000'), 0, 29, 48, 11, 2018, 3],\n [Timestamp('2018-11-29 00:07:13.796000'), 0, 29, 48, 11, 2018, 3],\n [Timestamp('2018-11-29 00:10:56.796000'), 0, 29, 48, 11, 2018, 3],\n [Timestamp('2018-11-29 00:11:04.796000'), 0, 29, 48, 11, 2018, 3],\n [Timestamp('2018-11-29 00:14:10.796000'), 0, 29, 48, 11, 2018, 3],\n [Timestamp('2018-11-29 00:16:02.796000'), 0, 29, 48, 11, 2018, 3],\n [Timestamp('2018-11-29 00:18:11.796000'), 0, 29, 48, 11, 2018, 3],\n [Timestamp('2018-11-29 00:22:13.796000'), 0, 29, 48, 11, 2018, 3],\n [Timestamp('2018-11-29 00:26:15.796000'), 0, 29, 48, 11, 2018, 3],\n [Timestamp('2018-11-29 00:30:53.796000'), 0, 29, 48, 11, 2018, 3],\n [Timestamp('2018-11-29 00:35:07.796000'), 0, 29, 48, 11, 2018, 3],\n [Timestamp('2018-11-29 00:40:14.796000'), 0, 29, 48, 11, 2018, 3],\n [Timestamp('2018-11-29 00:44:13.796000'), 0, 29, 48, 11, 2018, 3],\n [Timestamp('2018-11-29 00:46:34.796000'), 0, 29, 48, 11, 2018, 3],\n [Timestamp('2018-11-29 00:49:48.796000'), 0, 29, 48, 11, 2018, 3],\n [Timestamp('2018-11-29 00:57:10.796000'), 0, 29, 48, 11, 2018, 3],\n [Timestamp('2018-11-29 01:02:12.796000'), 1, 29, 48, 11, 2018, 3],\n [Timestamp('2018-11-29 01:06:36.796000'), 1, 29, 48, 11, 2018, 3],\n [Timestamp('2018-11-29 01:09:23.796000'), 1, 29, 48, 11, 2018, 3],\n [Timestamp('2018-11-29 01:09:58.796000'), 1, 29, 48, 11, 2018, 3],\n [Timestamp('2018-11-29 01:13:57.796000'), 1, 29, 48, 11, 2018, 3],\n [Timestamp('2018-11-29 01:17:34.796000'), 1, 29, 48, 11, 2018, 3],\n [Timestamp('2018-11-29 01:22:13.796000'), 1, 29, 48, 11, 2018, 3],\n [Timestamp('2018-11-29 01:26:18.796000'), 1, 29, 48, 11, 2018, 3],\n [Timestamp('2018-11-29 01:31:13.796000'), 1, 29, 48, 11, 2018, 3],\n [Timestamp('2018-11-29 01:33:38.796000'), 1, 29, 48, 11, 2018, 3],\n [Timestamp('2018-11-29 01:38:30.796000'), 1, 29, 48, 11, 2018, 3],\n [Timestamp('2018-11-29 01:42:27.796000'), 1, 29, 48, 11, 2018, 3],\n [Timestamp('2018-11-29 01:46:50.796000'), 1, 29, 48, 11, 2018, 3],\n [Timestamp('2018-11-29 01:52:26.796000'), 1, 29, 48, 11, 2018, 3],\n [Timestamp('2018-11-29 01:55:17.796000'), 1, 29, 48, 11, 2018, 3],\n [Timestamp('2018-11-29 02:24:31.796000'), 2, 29, 48, 11, 2018, 3],\n [Timestamp('2018-11-29 02:28:05.796000'), 2, 29, 48, 11, 2018, 3],\n [Timestamp('2018-11-29 02:31:11.796000'), 2, 29, 48, 11, 2018, 3],\n [Timestamp('2018-11-29 02:36:13.796000'), 2, 29, 48, 11, 2018, 3],\n [Timestamp('2018-11-29 02:40:10.796000'), 2, 29, 48, 11, 2018, 3],\n [Timestamp('2018-11-29 02:57:57.796000'), 2, 29, 48, 11, 2018, 3],\n [Timestamp('2018-11-29 03:00:42.796000'), 3, 29, 48, 11, 2018, 3],\n [Timestamp('2018-11-29 03:07:15.796000'), 3, 29, 48, 11, 2018, 3],\n [Timestamp('2018-11-29 04:27:16.796000'), 4, 29, 48, 11, 2018, 3],\n [Timestamp('2018-11-29 04:31:53.796000'), 4, 29, 48, 11, 2018, 3],\n [Timestamp('2018-11-29 04:55:55.796000'), 4, 29, 48, 11, 2018, 3],\n [Timestamp('2018-11-29 05:00:08.796000'), 5, 29, 48, 11, 2018, 3],\n [Timestamp('2018-11-29 08:18:42.796000'), 8, 29, 48, 11, 2018, 3],\n [Timestamp('2018-11-29 08:23:09.796000'), 8, 29, 48, 11, 2018, 3],\n [Timestamp('2018-11-29 10:59:27.796000'), 10, 29, 48, 11, 2018, 3],\n [Timestamp('2018-11-29 11:03:12.796000'), 11, 29, 48, 11, 2018, 3],\n [Timestamp('2018-11-29 11:03:31.796000'), 11, 29, 48, 11, 2018, 3],\n [Timestamp('2018-11-29 11:07:19.796000'), 11, 29, 48, 11, 2018, 3],\n [Timestamp('2018-11-29 11:10:57.796000'), 11, 29, 48, 11, 2018, 3],\n [Timestamp('2018-11-29 12:21:07.796000'), 12, 29, 48, 11, 2018, 3],\n [Timestamp('2018-11-29 13:14:11.796000'), 13, 29, 48, 11, 2018, 3],\n [Timestamp('2018-11-29 13:58:27.796000'), 13, 29, 48, 11, 2018, 3],\n [Timestamp('2018-11-29 14:01:21.796000'), 14, 29, 48, 11, 2018, 3],\n [Timestamp('2018-11-29 14:05:13.796000'), 14, 29, 48, 11, 2018, 3],\n [Timestamp('2018-11-29 14:10:08.796000'), 14, 29, 48, 11, 2018, 3],\n [Timestamp('2018-11-29 14:14:04.796000'), 14, 29, 48, 11, 2018, 3],\n [Timestamp('2018-11-29 14:17:50.796000'), 14, 29, 48, 11, 2018, 3],\n [Timestamp('2018-11-29 14:22:14.796000'), 14, 29, 48, 11, 2018, 3],\n [Timestamp('2018-11-29 14:26:23.796000'), 14, 29, 48, 11, 2018, 3],\n [Timestamp('2018-11-29 14:32:31.796000'), 14, 29, 48, 11, 2018, 3],\n [Timestamp('2018-11-29 14:35:44.796000'), 14, 29, 48, 11, 2018, 3],\n [Timestamp('2018-11-29 14:40:36.796000'), 14, 29, 48, 11, 2018, 3],\n [Timestamp('2018-11-29 14:43:29.796000'), 14, 29, 48, 11, 2018, 3],\n [Timestamp('2018-11-29 14:47:47.796000'), 14, 29, 48, 11, 2018, 3],\n [Timestamp('2018-11-29 14:51:12.796000'), 14, 29, 48, 11, 2018, 3],\n [Timestamp('2018-11-29 14:55:45.796000'), 14, 29, 48, 11, 2018, 3],\n [Timestamp('2018-11-29 14:57:52.796000'), 14, 29, 48, 11, 2018, 3],\n [Timestamp('2018-11-29 15:02:51.796000'), 15, 29, 48, 11, 2018, 3],\n [Timestamp('2018-11-29 15:05:49.796000'), 15, 29, 48, 11, 2018, 3],\n [Timestamp('2018-11-29 15:06:52.796000'), 15, 29, 48, 11, 2018, 3],\n [Timestamp('2018-11-29 15:09:44.796000'), 15, 29, 48, 11, 2018, 3],\n [Timestamp('2018-11-29 15:11:08.796000'), 15, 29, 48, 11, 2018, 3],\n [Timestamp('2018-11-29 15:11:35.796000'), 15, 29, 48, 11, 2018, 3],\n [Timestamp('2018-11-29 15:11:47.796000'), 15, 29, 48, 11, 2018, 3],\n [Timestamp('2018-11-29 15:12:48.796000'), 15, 29, 48, 11, 2018, 3],\n [Timestamp('2018-11-29 15:14:34.796000'), 15, 29, 48, 11, 2018, 3],\n [Timestamp('2018-11-29 15:15:28.796000'), 15, 29, 48, 11, 2018, 3],\n [Timestamp('2018-11-29 15:15:36.796000'), 15, 29, 48, 11, 2018, 3],\n [Timestamp('2018-11-29 15:16:13.796000'), 15, 29, 48, 11, 2018, 3],\n [Timestamp('2018-11-29 15:18:58.796000'), 15, 29, 48, 11, 2018, 3],\n [Timestamp('2018-11-29 15:19:32.796000'), 15, 29, 48, 11, 2018, 3],\n [Timestamp('2018-11-29 15:20:30.796000'), 15, 29, 48, 11, 2018, 3],\n [Timestamp('2018-11-29 15:20:39.796000'), 15, 29, 48, 11, 2018, 3],\n [Timestamp('2018-11-29 15:22:38.796000'), 15, 29, 48, 11, 2018, 3],\n [Timestamp('2018-11-29 15:24:15.796000'), 15, 29, 48, 11, 2018, 3],\n [Timestamp('2018-11-29 15:26:40.796000'), 15, 29, 48, 11, 2018, 3],\n [Timestamp('2018-11-29 15:27:01.796000'), 15, 29, 48, 11, 2018, 3],\n [Timestamp('2018-11-29 15:27:37.796000'), 15, 29, 48, 11, 2018, 3],\n [Timestamp('2018-11-29 15:29:41.796000'), 15, 29, 48, 11, 2018, 3],\n [Timestamp('2018-11-29 15:30:01.796000'), 15, 29, 48, 11, 2018, 3],\n [Timestamp('2018-11-29 15:30:57.796000'), 15, 29, 48, 11, 2018, 3],\n [Timestamp('2018-11-29 15:33:38.796000'), 15, 29, 48, 11, 2018, 3],\n [Timestamp('2018-11-29 15:34:16.796000'), 15, 29, 48, 11, 2018, 3],\n [Timestamp('2018-11-29 15:36:32.796000'), 15, 29, 48, 11, 2018, 3],\n [Timestamp('2018-11-29 15:37:16.796000'), 15, 29, 48, 11, 2018, 3],\n [Timestamp('2018-11-29 15:39:39.796000'), 15, 29, 48, 11, 2018, 3],\n [Timestamp('2018-11-29 15:41:17.796000'), 15, 29, 48, 11, 2018, 3],\n [Timestamp('2018-11-29 15:41:57.796000'), 15, 29, 48, 11, 2018, 3],\n [Timestamp('2018-11-29 15:45:38.796000'), 15, 29, 48, 11, 2018, 3],\n [Timestamp('2018-11-29 15:45:41.796000'), 15, 29, 48, 11, 2018, 3],\n [Timestamp('2018-11-29 15:49:16.796000'), 15, 29, 48, 11, 2018, 3],\n [Timestamp('2018-11-29 15:49:38.796000'), 15, 29, 48, 11, 2018, 3],\n [Timestamp('2018-11-29 15:53:39.796000'), 15, 29, 48, 11, 2018, 3],\n [Timestamp('2018-11-29 15:54:12.796000'), 15, 29, 48, 11, 2018, 3],\n [Timestamp('2018-11-29 15:57:35.796000'), 15, 29, 48, 11, 2018, 3],\n [Timestamp('2018-11-29 15:57:55.796000'), 15, 29, 48, 11, 2018, 3],\n [Timestamp('2018-11-29 16:00:01.796000'), 16, 29, 48, 11, 2018, 3],\n [Timestamp('2018-11-29 16:00:53.796000'), 16, 29, 48, 11, 2018, 3],\n [Timestamp('2018-11-29 16:04:06.796000'), 16, 29, 48, 11, 2018, 3],\n [Timestamp('2018-11-29 16:05:40.796000'), 16, 29, 48, 11, 2018, 3],\n [Timestamp('2018-11-29 16:07:07.796000'), 16, 29, 48, 11, 2018, 3],\n [Timestamp('2018-11-29 16:09:11.796000'), 16, 29, 48, 11, 2018, 3],\n [Timestamp('2018-11-29 16:09:24.796000'), 16, 29, 48, 11, 2018, 3],\n [Timestamp('2018-11-29 16:11:29.796000'), 16, 29, 48, 11, 2018, 3],\n [Timestamp('2018-11-29 16:13:23.796000'), 16, 29, 48, 11, 2018, 3],\n [Timestamp('2018-11-29 16:15:34.796000'), 16, 29, 48, 11, 2018, 3],\n [Timestamp('2018-11-29 16:18:25.796000'), 16, 29, 48, 11, 2018, 3],\n [Timestamp('2018-11-29 16:19:30.796000'), 16, 29, 48, 11, 2018, 3],\n [Timestamp('2018-11-29 16:22:24.796000'), 16, 29, 48, 11, 2018, 3],\n [Timestamp('2018-11-29 16:23:27.796000'), 16, 29, 48, 11, 2018, 3],\n [Timestamp('2018-11-29 16:26:21.796000'), 16, 29, 48, 11, 2018, 3],\n [Timestamp('2018-11-29 16:28:12.796000'), 16, 29, 48, 11, 2018, 3],\n [Timestamp('2018-11-29 16:30:05.796000'), 16, 29, 48, 11, 2018, 3],\n [Timestamp('2018-11-29 16:31:19.796000'), 16, 29, 48, 11, 2018, 3],\n [Timestamp('2018-11-29 16:34:03.796000'), 16, 29, 48, 11, 2018, 3],\n [Timestamp('2018-11-29 16:36:45.796000'), 16, 29, 48, 11, 2018, 3],\n [Timestamp('2018-11-29 16:38:29.796000'), 16, 29, 48, 11, 2018, 3],\n [Timestamp('2018-11-29 16:40:32.796000'), 16, 29, 48, 11, 2018, 3],\n [Timestamp('2018-11-29 16:41:33.796000'), 16, 29, 48, 11, 2018, 3],\n [Timestamp('2018-11-29 16:41:37.796000'), 16, 29, 48, 11, 2018, 3],\n [Timestamp('2018-11-29 16:44:39.796000'), 16, 29, 48, 11, 2018, 3],\n [Timestamp('2018-11-29 16:45:38.796000'), 16, 29, 48, 11, 2018, 3],\n [Timestamp('2018-11-29 16:47:38.796000'), 16, 29, 48, 11, 2018, 3],\n [Timestamp('2018-11-29 16:47:42.796000'), 16, 29, 48, 11, 2018, 3],\n [Timestamp('2018-11-29 16:49:25.796000'), 16, 29, 48, 11, 2018, 3],\n [Timestamp('2018-11-29 16:50:16.796000'), 16, 29, 48, 11, 2018, 3],\n [Timestamp('2018-11-29 16:54:22.796000'), 16, 29, 48, 11, 2018, 3],\n [Timestamp('2018-11-29 16:54:27.796000'), 16, 29, 48, 11, 2018, 3],\n [Timestamp('2018-11-29 16:54:41.796000'), 16, 29, 48, 11, 2018, 3],\n [Timestamp('2018-11-29 16:55:14.796000'), 16, 29, 48, 11, 2018, 3],\n [Timestamp('2018-11-29 16:58:01.796000'), 16, 29, 48, 11, 2018, 3],\n [Timestamp('2018-11-29 16:58:03.796000'), 16, 29, 48, 11, 2018, 3],\n [Timestamp('2018-11-29 16:58:11.796000'), 16, 29, 48, 11, 2018, 3],\n [Timestamp('2018-11-29 17:01:21.796000'), 17, 29, 48, 11, 2018, 3],\n [Timestamp('2018-11-29 17:01:34.796000'), 17, 29, 48, 11, 2018, 3],\n [Timestamp('2018-11-29 17:01:41.796000'), 17, 29, 48, 11, 2018, 3],\n [Timestamp('2018-11-29 17:01:49.796000'), 17, 29, 48, 11, 2018, 3],\n [Timestamp('2018-11-29 17:05:10.796000'), 17, 29, 48, 11, 2018, 3],\n [Timestamp('2018-11-29 17:05:20.796000'), 17, 29, 48, 11, 2018, 3],\n [Timestamp('2018-11-29 17:05:26.796000'), 17, 29, 48, 11, 2018, 3],\n [Timestamp('2018-11-29 17:06:16.796000'), 17, 29, 48, 11, 2018, 3],\n [Timestamp('2018-11-29 17:06:48.796000'), 17, 29, 48, 11, 2018, 3],\n [Timestamp('2018-11-29 17:09:13.796000'), 17, 29, 48, 11, 2018, 3],\n [Timestamp('2018-11-29 17:09:14.796000'), 17, 29, 48, 11, 2018, 3],\n [Timestamp('2018-11-29 17:10:14.796000'), 17, 29, 48, 11, 2018, 3],\n [Timestamp('2018-11-29 17:12:34.796000'), 17, 29, 48, 11, 2018, 3],\n [Timestamp('2018-11-29 17:13:55.796000'), 17, 29, 48, 11, 2018, 3],\n [Timestamp('2018-11-29 17:14:22.796000'), 17, 29, 48, 11, 2018, 3],\n [Timestamp('2018-11-29 17:16:11.796000'), 17, 29, 48, 11, 2018, 3],\n [Timestamp('2018-11-29 17:18:01.796000'), 17, 29, 48, 11, 2018, 3],\n [Timestamp('2018-11-29 17:18:33.796000'), 17, 29, 48, 11, 2018, 3],\n [Timestamp('2018-11-29 17:19:26.796000'), 17, 29, 48, 11, 2018, 3],\n [Timestamp('2018-11-29 17:22:01.796000'), 17, 29, 48, 11, 2018, 3],\n [Timestamp('2018-11-29 17:22:27.796000'), 17, 29, 48, 11, 2018, 3],\n [Timestamp('2018-11-29 17:23:01.796000'), 17, 29, 48, 11, 2018, 3],\n [Timestamp('2018-11-29 17:24:32.796000'), 17, 29, 48, 11, 2018, 3],\n [Timestamp('2018-11-29 17:25:44.796000'), 17, 29, 48, 11, 2018, 3],\n [Timestamp('2018-11-29 17:27:23.796000'), 17, 29, 48, 11, 2018, 3],\n [Timestamp('2018-11-29 17:28:38.796000'), 17, 29, 48, 11, 2018, 3],\n [Timestamp('2018-11-29 17:31:27.796000'), 17, 29, 48, 11, 2018, 3],\n [Timestamp('2018-11-29 17:32:00.796000'), 17, 29, 48, 11, 2018, 3],\n [Timestamp('2018-11-29 17:33:22.796000'), 17, 29, 48, 11, 2018, 3],\n [Timestamp('2018-11-29 17:35:29.796000'), 17, 29, 48, 11, 2018, 3],\n [Timestamp('2018-11-29 17:39:31.796000'), 17, 29, 48, 11, 2018, 3],\n [Timestamp('2018-11-29 17:39:48.796000'), 17, 29, 48, 11, 2018, 3],\n [Timestamp('2018-11-29 17:41:02.796000'), 17, 29, 48, 11, 2018, 3],\n [Timestamp('2018-11-29 17:41:54.796000'), 17, 29, 48, 11, 2018, 3],\n [Timestamp('2018-11-29 17:43:21.796000'), 17, 29, 48, 11, 2018, 3],\n [Timestamp('2018-11-29 17:45:34.796000'), 17, 29, 48, 11, 2018, 3],\n [Timestamp('2018-11-29 17:45:51.796000'), 17, 29, 48, 11, 2018, 3],\n [Timestamp('2018-11-29 17:48:25.796000'), 17, 29, 48, 11, 2018, 3],\n [Timestamp('2018-11-29 17:49:47.796000'), 17, 29, 48, 11, 2018, 3],\n [Timestamp('2018-11-29 17:50:11.796000'), 17, 29, 48, 11, 2018, 3],\n [Timestamp('2018-11-29 17:51:12.796000'), 17, 29, 48, 11, 2018, 3],\n [Timestamp('2018-11-29 17:52:18.796000'), 17, 29, 48, 11, 2018, 3],\n [Timestamp('2018-11-29 17:53:45.796000'), 17, 29, 48, 11, 2018, 3],\n [Timestamp('2018-11-29 17:55:54.796000'), 17, 29, 48, 11, 2018, 3],\n [Timestamp('2018-11-29 17:56:29.796000'), 17, 29, 48, 11, 2018, 3],\n [Timestamp('2018-11-29 17:58:58.796000'), 17, 29, 48, 11, 2018, 3],\n [Timestamp('2018-11-29 17:59:53.796000'), 17, 29, 48, 11, 2018, 3],\n [Timestamp('2018-11-29 18:01:37.796000'), 18, 29, 48, 11, 2018, 3],\n [Timestamp('2018-11-29 18:03:18.796000'), 18, 29, 48, 11, 2018, 3],\n [Timestamp('2018-11-29 18:03:38.796000'), 18, 29, 48, 11, 2018, 3],\n [Timestamp('2018-11-29 18:05:39.796000'), 18, 29, 48, 11, 2018, 3],\n [Timestamp('2018-11-29 18:07:55.796000'), 18, 29, 48, 11, 2018, 3],\n [Timestamp('2018-11-29 18:07:57.796000'), 18, 29, 48, 11, 2018, 3],\n [Timestamp('2018-11-29 18:09:01.796000'), 18, 29, 48, 11, 2018, 3],\n [Timestamp('2018-11-29 18:11:00.796000'), 18, 29, 48, 11, 2018, 3],\n [Timestamp('2018-11-29 18:12:55.796000'), 18, 29, 48, 11, 2018, 3],\n [Timestamp('2018-11-29 18:13:02.796000'), 18, 29, 48, 11, 2018, 3],\n [Timestamp('2018-11-29 18:13:45.796000'), 18, 29, 48, 11, 2018, 3],\n [Timestamp('2018-11-29 18:14:44.796000'), 18, 29, 48, 11, 2018, 3],\n [Timestamp('2018-11-29 18:17:33.796000'), 18, 29, 48, 11, 2018, 3],\n [Timestamp('2018-11-29 18:18:09.796000'), 18, 29, 48, 11, 2018, 3],\n [Timestamp('2018-11-29 18:21:12.796000'), 18, 29, 48, 11, 2018, 3],\n [Timestamp('2018-11-29 18:21:24.796000'), 18, 29, 48, 11, 2018, 3],\n [Timestamp('2018-11-29 18:21:52.796000'), 18, 29, 48, 11, 2018, 3],\n [Timestamp('2018-11-29 18:24:29.796000'), 18, 29, 48, 11, 2018, 3],\n [Timestamp('2018-11-29 18:24:38.796000'), 18, 29, 48, 11, 2018, 3],\n [Timestamp('2018-11-29 18:26:27.796000'), 18, 29, 48, 11, 2018, 3],\n [Timestamp('2018-11-29 18:26:53.796000'), 18, 29, 48, 11, 2018, 3],\n [Timestamp('2018-11-29 18:27:24.796000'), 18, 29, 48, 11, 2018, 3],\n [Timestamp('2018-11-29 18:28:34.796000'), 18, 29, 48, 11, 2018, 3],\n [Timestamp('2018-11-29 18:29:50.796000'), 18, 29, 48, 11, 2018, 3],\n [Timestamp('2018-11-29 18:30:15.796000'), 18, 29, 48, 11, 2018, 3],\n [Timestamp('2018-11-29 18:33:04.796000'), 18, 29, 48, 11, 2018, 3],\n [Timestamp('2018-11-29 18:33:35.796000'), 18, 29, 48, 11, 2018, 3],\n [Timestamp('2018-11-29 18:37:25.796000'), 18, 29, 48, 11, 2018, 3],\n [Timestamp('2018-11-29 18:37:53.796000'), 18, 29, 48, 11, 2018, 3],\n [Timestamp('2018-11-29 18:41:09.796000'), 18, 29, 48, 11, 2018, 3],\n [Timestamp('2018-11-29 18:43:31.796000'), 18, 29, 48, 11, 2018, 3],\n [Timestamp('2018-11-29 18:46:10.796000'), 18, 29, 48, 11, 2018, 3],\n [Timestamp('2018-11-29 18:47:30.796000'), 18, 29, 48, 11, 2018, 3],\n [Timestamp('2018-11-29 18:50:54.796000'), 18, 29, 48, 11, 2018, 3],\n [Timestamp('2018-11-29 18:52:00.796000'), 18, 29, 48, 11, 2018, 3],\n [Timestamp('2018-11-29 18:55:24.796000'), 18, 29, 48, 11, 2018, 3],\n [Timestamp('2018-11-29 18:55:30.796000'), 18, 29, 48, 11, 2018, 3],\n [Timestamp('2018-11-29 18:58:33.796000'), 18, 29, 48, 11, 2018, 3],\n [Timestamp('2018-11-29 19:00:17.796000'), 19, 29, 48, 11, 2018, 3],\n [Timestamp('2018-11-29 19:01:40.796000'), 19, 29, 48, 11, 2018, 3],\n [Timestamp('2018-11-29 19:03:58.796000'), 19, 29, 48, 11, 2018, 3],\n [Timestamp('2018-11-29 19:04:44.796000'), 19, 29, 48, 11, 2018, 3],\n [Timestamp('2018-11-29 19:06:24.796000'), 19, 29, 48, 11, 2018, 3],\n [Timestamp('2018-11-29 19:08:41.796000'), 19, 29, 48, 11, 2018, 3],\n [Timestamp('2018-11-29 19:09:47.796000'), 19, 29, 48, 11, 2018, 3],\n [Timestamp('2018-11-29 19:11:39.796000'), 19, 29, 48, 11, 2018, 3],\n [Timestamp('2018-11-29 19:13:04.796000'), 19, 29, 48, 11, 2018, 3],\n [Timestamp('2018-11-29 19:14:56.796000'), 19, 29, 48, 11, 2018, 3],\n [Timestamp('2018-11-29 19:15:33.796000'), 19, 29, 48, 11, 2018, 3],\n [Timestamp('2018-11-29 19:20:07.796000'), 19, 29, 48, 11, 2018, 3],\n [Timestamp('2018-11-29 19:24:39.796000'), 19, 29, 48, 11, 2018, 3],\n [Timestamp('2018-11-29 19:26:31.796000'), 19, 29, 48, 11, 2018, 3],\n [Timestamp('2018-11-29 19:37:26.796000'), 19, 29, 48, 11, 2018, 3],\n [Timestamp('2018-11-29 19:40:17.796000'), 19, 29, 48, 11, 2018, 3],\n [Timestamp('2018-11-29 19:45:18.796000'), 19, 29, 48, 11, 2018, 3],\n [Timestamp('2018-11-29 20:06:02.796000'), 20, 29, 48, 11, 2018, 3],\n [Timestamp('2018-11-29 20:08:58.796000'), 20, 29, 48, 11, 2018, 3],\n [Timestamp('2018-11-29 20:11:07.796000'), 20, 29, 48, 11, 2018, 3],\n [Timestamp('2018-11-29 20:14:33.796000'), 20, 29, 48, 11, 2018, 3],\n [Timestamp('2018-11-29 20:18:35.796000'), 20, 29, 48, 11, 2018, 3],\n [Timestamp('2018-11-29 20:21:41.796000'), 20, 29, 48, 11, 2018, 3],\n [Timestamp('2018-11-29 20:25:19.796000'), 20, 29, 48, 11, 2018, 3],\n [Timestamp('2018-11-29 20:29:23.796000'), 20, 29, 48, 11, 2018, 3],\n [Timestamp('2018-11-29 20:34:33.796000'), 20, 29, 48, 11, 2018, 3],\n [Timestamp('2018-11-29 20:38:41.796000'), 20, 29, 48, 11, 2018, 3],\n [Timestamp('2018-11-29 20:39:10.796000'), 20, 29, 48, 11, 2018, 3],\n [Timestamp('2018-11-29 20:43:06.796000'), 20, 29, 48, 11, 2018, 3],\n [Timestamp('2018-11-29 20:43:07.796000'), 20, 29, 48, 11, 2018, 3],\n [Timestamp('2018-11-29 20:46:47.796000'), 20, 29, 48, 11, 2018, 3],\n [Timestamp('2018-11-29 20:46:54.796000'), 20, 29, 48, 11, 2018, 3],\n [Timestamp('2018-11-29 20:51:10.796000'), 20, 29, 48, 11, 2018, 3],\n [Timestamp('2018-11-29 20:52:05.796000'), 20, 29, 48, 11, 2018, 3],\n [Timestamp('2018-11-29 20:54:07.796000'), 20, 29, 48, 11, 2018, 3],\n [Timestamp('2018-11-29 20:54:41.796000'), 20, 29, 48, 11, 2018, 3],\n [Timestamp('2018-11-29 20:58:44.796000'), 20, 29, 48, 11, 2018, 3],\n [Timestamp('2018-11-29 21:00:03.796000'), 21, 29, 48, 11, 2018, 3],\n [Timestamp('2018-11-29 21:01:07.796000'), 21, 29, 48, 11, 2018, 3],\n [Timestamp('2018-11-29 21:03:20.796000'), 21, 29, 48, 11, 2018, 3],\n [Timestamp('2018-11-29 21:06:03.796000'), 21, 29, 48, 11, 2018, 3],\n [Timestamp('2018-11-29 21:06:35.796000'), 21, 29, 48, 11, 2018, 3],\n [Timestamp('2018-11-29 21:09:20.796000'), 21, 29, 48, 11, 2018, 3],\n [Timestamp('2018-11-29 21:12:56.796000'), 21, 29, 48, 11, 2018, 3],\n [Timestamp('2018-11-29 21:14:16.796000'), 21, 29, 48, 11, 2018, 3],\n [Timestamp('2018-11-29 21:14:49.796000'), 21, 29, 48, 11, 2018, 3],\n [Timestamp('2018-11-29 21:16:53.796000'), 21, 29, 48, 11, 2018, 3],\n [Timestamp('2018-11-29 21:17:30.796000'), 21, 29, 48, 11, 2018, 3],\n [Timestamp('2018-11-29 21:19:18.796000'), 21, 29, 48, 11, 2018, 3],\n [Timestamp('2018-11-29 21:20:57.796000'), 21, 29, 48, 11, 2018, 3],\n [Timestamp('2018-11-29 21:21:47.796000'), 21, 29, 48, 11, 2018, 3],\n [Timestamp('2018-11-29 21:22:18.796000'), 21, 29, 48, 11, 2018, 3],\n [Timestamp('2018-11-29 21:24:03.796000'), 21, 29, 48, 11, 2018, 3],\n [Timestamp('2018-11-29 21:24:35.796000'), 21, 29, 48, 11, 2018, 3],\n [Timestamp('2018-11-29 21:27:00.796000'), 21, 29, 48, 11, 2018, 3],\n [Timestamp('2018-11-29 21:27:48.796000'), 21, 29, 48, 11, 2018, 3],\n [Timestamp('2018-11-29 21:27:50.796000'), 21, 29, 48, 11, 2018, 3],\n [Timestamp('2018-11-29 21:30:47.796000'), 21, 29, 48, 11, 2018, 3],\n [Timestamp('2018-11-29 21:31:34.796000'), 21, 29, 48, 11, 2018, 3],\n [Timestamp('2018-11-29 21:34:25.796000'), 21, 29, 48, 11, 2018, 3],\n [Timestamp('2018-11-29 21:34:28.796000'), 21, 29, 48, 11, 2018, 3],\n [Timestamp('2018-11-29 21:38:08.796000'), 21, 29, 48, 11, 2018, 3],\n [Timestamp('2018-11-29 21:42:10.796000'), 21, 29, 48, 11, 2018, 3],\n [Timestamp('2018-11-29 21:46:49.796000'), 21, 29, 48, 11, 2018, 3],\n [Timestamp('2018-11-29 21:52:57.796000'), 21, 29, 48, 11, 2018, 3],\n [Timestamp('2018-11-29 21:57:16.796000'), 21, 29, 48, 11, 2018, 3],\n [Timestamp('2018-11-29 22:00:31.796000'), 22, 29, 48, 11, 2018, 3],\n [Timestamp('2018-11-29 22:06:36.796000'), 22, 29, 48, 11, 2018, 3],\n [Timestamp('2018-11-29 22:09:57.796000'), 22, 29, 48, 11, 2018, 3],\n [Timestamp('2018-11-29 22:10:17.796000'), 22, 29, 48, 11, 2018, 3],\n [Timestamp('2018-11-29 22:13:15.796000'), 22, 29, 48, 11, 2018, 3],\n [Timestamp('2018-11-29 22:13:38.796000'), 22, 29, 48, 11, 2018, 3],\n [Timestamp('2018-11-29 22:17:38.796000'), 22, 29, 48, 11, 2018, 3],\n [Timestamp('2018-11-29 22:21:31.796000'), 22, 29, 48, 11, 2018, 3],\n [Timestamp('2018-11-29 22:27:31.796000'), 22, 29, 48, 11, 2018, 3],\n [Timestamp('2018-11-29 22:32:49.796000'), 22, 29, 48, 11, 2018, 3],\n [Timestamp('2018-11-29 22:35:44.796000'), 22, 29, 48, 11, 2018, 3],\n [Timestamp('2018-11-29 22:39:38.796000'), 22, 29, 48, 11, 2018, 3],\n [Timestamp('2018-11-29 22:42:52.796000'), 22, 29, 48, 11, 2018, 3],\n [Timestamp('2018-11-29 22:46:23.796000'), 22, 29, 48, 11, 2018, 3],\n [Timestamp('2018-11-29 22:50:27.796000'), 22, 29, 48, 11, 2018, 3],\n [Timestamp('2018-11-29 22:51:18.796000'), 22, 29, 48, 11, 2018, 3],\n [Timestamp('2018-11-29 22:53:32.796000'), 22, 29, 48, 11, 2018, 3],\n [Timestamp('2018-11-29 22:57:22.796000'), 22, 29, 48, 11, 2018, 3],\n [Timestamp('2018-11-29 23:02:05.796000'), 23, 29, 48, 11, 2018, 3],\n [Timestamp('2018-11-29 23:05:13.796000'), 23, 29, 48, 11, 2018, 3],\n [Timestamp('2018-11-29 23:18:35.796000'), 23, 29, 48, 11, 2018, 3]]"
     },
     "execution_count": 15,
     "metadata": {},
     "output_type": "execute_result"
    }
   ],
   "source": [
    "#convert the time_df into a list\n",
    "time_df_list = time_df.values.tolist()\n",
    "\n",
    "time_df_list"
   ]
  },
  {
   "cell_type": "code",
   "execution_count": 16,
   "metadata": {},
   "outputs": [],
   "source": [
    "time_table_insert = \"\"\"INSERT INTO d_time (start_time, hour, day, week, month, year, weekday) \n",
    "                       values (%s, %s, %s, %s, %s, %s, %s)\n",
    "                       ON CONFLICT (start_time) DO NOTHING;\n",
    "                    \"\"\"\n",
    "for i, row in time_df.iterrows():\n",
    "    cur.execute(time_table_insert, list(row))\n",
    "    conn.commit()"
   ]
  },
  {
   "cell_type": "markdown",
   "metadata": {},
   "source": [
    "Run `test.ipynb` to see if you've successfully added records to this table."
   ]
  },
  {
   "cell_type": "markdown",
   "metadata": {},
   "source": [
    "## #4: `users` Table\n",
    "#### Extract Data for Users Table\n",
    "- Select columns for user ID, first name, last name, gender and level and set to `user_df`"
   ]
  },
  {
   "cell_type": "code",
   "execution_count": 17,
   "metadata": {},
   "outputs": [
    {
     "data": {
      "text/plain": "    userId firstName lastName gender level\n0       73     Jacob    Klein      M  paid\n1       24     Layla  Griffin      F  paid\n2       24     Layla  Griffin      F  paid\n3       73     Jacob    Klein      M  paid\n4       24     Layla  Griffin      F  paid\n..     ...       ...      ...    ...   ...\n360     80     Tegan   Levine      F  paid\n362     80     Tegan   Levine      F  paid\n363     80     Tegan   Levine      F  paid\n364     80     Tegan   Levine      F  paid\n365     89   Kynnedi  Sanchez      F  free\n\n[319 rows x 5 columns]",
      "text/html": "<div>\n<style scoped>\n    .dataframe tbody tr th:only-of-type {\n        vertical-align: middle;\n    }\n\n    .dataframe tbody tr th {\n        vertical-align: top;\n    }\n\n    .dataframe thead th {\n        text-align: right;\n    }\n</style>\n<table border=\"1\" class=\"dataframe\">\n  <thead>\n    <tr style=\"text-align: right;\">\n      <th></th>\n      <th>userId</th>\n      <th>firstName</th>\n      <th>lastName</th>\n      <th>gender</th>\n      <th>level</th>\n    </tr>\n  </thead>\n  <tbody>\n    <tr>\n      <th>0</th>\n      <td>73</td>\n      <td>Jacob</td>\n      <td>Klein</td>\n      <td>M</td>\n      <td>paid</td>\n    </tr>\n    <tr>\n      <th>1</th>\n      <td>24</td>\n      <td>Layla</td>\n      <td>Griffin</td>\n      <td>F</td>\n      <td>paid</td>\n    </tr>\n    <tr>\n      <th>2</th>\n      <td>24</td>\n      <td>Layla</td>\n      <td>Griffin</td>\n      <td>F</td>\n      <td>paid</td>\n    </tr>\n    <tr>\n      <th>3</th>\n      <td>73</td>\n      <td>Jacob</td>\n      <td>Klein</td>\n      <td>M</td>\n      <td>paid</td>\n    </tr>\n    <tr>\n      <th>4</th>\n      <td>24</td>\n      <td>Layla</td>\n      <td>Griffin</td>\n      <td>F</td>\n      <td>paid</td>\n    </tr>\n    <tr>\n      <th>...</th>\n      <td>...</td>\n      <td>...</td>\n      <td>...</td>\n      <td>...</td>\n      <td>...</td>\n    </tr>\n    <tr>\n      <th>360</th>\n      <td>80</td>\n      <td>Tegan</td>\n      <td>Levine</td>\n      <td>F</td>\n      <td>paid</td>\n    </tr>\n    <tr>\n      <th>362</th>\n      <td>80</td>\n      <td>Tegan</td>\n      <td>Levine</td>\n      <td>F</td>\n      <td>paid</td>\n    </tr>\n    <tr>\n      <th>363</th>\n      <td>80</td>\n      <td>Tegan</td>\n      <td>Levine</td>\n      <td>F</td>\n      <td>paid</td>\n    </tr>\n    <tr>\n      <th>364</th>\n      <td>80</td>\n      <td>Tegan</td>\n      <td>Levine</td>\n      <td>F</td>\n      <td>paid</td>\n    </tr>\n    <tr>\n      <th>365</th>\n      <td>89</td>\n      <td>Kynnedi</td>\n      <td>Sanchez</td>\n      <td>F</td>\n      <td>free</td>\n    </tr>\n  </tbody>\n</table>\n<p>319 rows × 5 columns</p>\n</div>"
     },
     "execution_count": 17,
     "metadata": {},
     "output_type": "execute_result"
    }
   ],
   "source": [
    "user_df = df[['userId', 'firstName', 'lastName', 'gender', 'level']]\n",
    "user_df\n"
   ]
  },
  {
   "cell_type": "markdown",
   "metadata": {},
   "source": [
    "#### Insert Records into Users Table\n",
    "Implement the `user_table_insert` query in `sql_queries.py` and run the cell below to insert records for the users in this log file into the `users` table. Remember to run `create_tables.py` before running the cell below to ensure you've created/resetted the `users` table in the sparkify database."
   ]
  },
  {
   "cell_type": "code",
   "execution_count": 18,
   "metadata": {},
   "outputs": [],
   "source": [
    "user_table_insert = (\"\"\"\n",
    "INSERT INTO d_users (user_id, first_name, last_name, gender, level)\n",
    "             values (%s, %s, %s, %s, %s)\n",
    "             ON CONFLICT (user_id)\n",
    "             DO UPDATE SET \n",
    "               (first_name, last_name, gender, level)=\n",
    "               (EXCLUDED.first_name, EXCLUDED.last_name, EXCLUDED.gender, EXCLUDED.level)\n",
    "               ;\n",
    "\"\"\")\n",
    "\n",
    "for i, row in user_df.iterrows():\n",
    "    cur.execute(user_table_insert, row)\n",
    "    conn.commit()"
   ]
  },
  {
   "cell_type": "markdown",
   "metadata": {},
   "source": [
    "Run `test.ipynb` to see if you've successfully added records to this table."
   ]
  },
  {
   "cell_type": "markdown",
   "metadata": {},
   "source": [
    "## #5: `songplays` Table\n",
    "#### Extract Data and Songplays Table\n",
    "This one is a little more complicated since information from the songs table, artists table, and original log file are all needed for the `songplays` table. Since the log file does not specify an ID for either the song or the artist, you'll need to get the song ID and artist ID by querying the songs and artists tables to find matches based on song title, artist name, and song duration time.\n",
    "- Implement the `song_select` query in `sql_queries.py` to find the song ID and artist ID based on the title, artist name, and duration of a song.\n",
    "- Select the timestamp, user ID, level, song ID, artist ID, session ID, location, and user agent and set to `songplay_data`\n",
    "\n",
    "#### Insert Records into Songplays Table\n",
    "- Implement the `songplay_table_insert` query and run the cell below to insert records for the songplay actions in this log file into the `songplays` table. Remember to run `create_tables.py` before running the cell below to ensure you've created/resetted the `songplays` table in the sparkify database."
   ]
  },
  {
   "cell_type": "code",
   "execution_count": 19,
   "metadata": {},
   "outputs": [
    {
     "data": {
      "text/plain": "0     2018-11-29 00:00:57.796\n1     2018-11-29 00:01:30.796\n2     2018-11-29 00:04:01.796\n3     2018-11-29 00:04:55.796\n4     2018-11-29 00:07:13.796\n                ...          \n360   2018-11-29 22:53:32.796\n362   2018-11-29 22:57:22.796\n363   2018-11-29 23:02:05.796\n364   2018-11-29 23:05:13.796\n365   2018-11-29 23:18:35.796\nName: ts, Length: 319, dtype: datetime64[ns]"
     },
     "execution_count": 19,
     "metadata": {},
     "output_type": "execute_result"
    }
   ],
   "source": [
    "#prepare timestamp from df['ts']\n",
    "df_songplays_ts = pd.to_datetime(df['ts'], unit='ms')\n",
    "df_songplays_ts\n"
   ]
  },
  {
   "cell_type": "code",
   "execution_count": 20,
   "metadata": {
    "pycharm": {
     "name": "#%%\n"
    }
   },
   "outputs": [
    {
     "name": "stdout",
     "output_type": "stream",
     "text": [
      "None\n"
     ]
    }
   ],
   "source": [
    "# preparing the select statement for song_id and artist_id\n",
    "song_select = \"\"\"\n",
    "select s.song_id, a.artist_id\n",
    "  from d_songs s\n",
    "  join d_artists a on s.artist_id = a.artist_id\n",
    " where s.title = %s\n",
    "   and a.name = %s\n",
    "   and s.duration = %s\n",
    ";\n",
    "\"\"\"\n",
    "cur.execute(song_select, ('Setanta matins', 'Elena', '269.58322'))\n",
    "conn.commit()\n",
    "\n",
    "results = cur.fetchone()\n",
    "print(results)"
   ]
  },
  {
   "cell_type": "code",
   "execution_count": 21,
   "metadata": {
    "collapsed": false,
    "jupyter": {
     "outputs_hidden": false
    },
    "pycharm": {
     "name": "#%%\n"
    }
   },
   "outputs": [
    {
     "name": "stdout",
     "output_type": "stream",
     "text": [
      "None None\n",
      "['73', None, None, Timestamp('2018-11-29 00:00:57.796000'), 954, 'paid', 'Tampa-St. Petersburg-Clearwater, FL', '\"Mozilla/5.0 (Macintosh; Intel Mac OS X 10_9_4) AppleWebKit/537.78.2 (KHTML, like Gecko) Version/7.0.6 Safari/537.78.2\"']\n",
      "['24', None, None, Timestamp('2018-11-29 00:01:30.796000'), 984, 'paid', 'Lake Havasu City-Kingman, AZ', '\"Mozilla/5.0 (Windows NT 6.1; WOW64) AppleWebKit/537.36 (KHTML, like Gecko) Chrome/36.0.1985.125 Safari/537.36\"']\n",
      "['24', None, None, Timestamp('2018-11-29 00:04:01.796000'), 984, 'paid', 'Lake Havasu City-Kingman, AZ', '\"Mozilla/5.0 (Windows NT 6.1; WOW64) AppleWebKit/537.36 (KHTML, like Gecko) Chrome/36.0.1985.125 Safari/537.36\"']\n",
      "['73', None, None, Timestamp('2018-11-29 00:04:55.796000'), 954, 'paid', 'Tampa-St. Petersburg-Clearwater, FL', '\"Mozilla/5.0 (Macintosh; Intel Mac OS X 10_9_4) AppleWebKit/537.78.2 (KHTML, like Gecko) Version/7.0.6 Safari/537.78.2\"']\n",
      "['24', None, None, Timestamp('2018-11-29 00:07:13.796000'), 984, 'paid', 'Lake Havasu City-Kingman, AZ', '\"Mozilla/5.0 (Windows NT 6.1; WOW64) AppleWebKit/537.36 (KHTML, like Gecko) Chrome/36.0.1985.125 Safari/537.36\"']\n",
      "['24', None, None, Timestamp('2018-11-29 00:10:56.796000'), 984, 'paid', 'Lake Havasu City-Kingman, AZ', '\"Mozilla/5.0 (Windows NT 6.1; WOW64) AppleWebKit/537.36 (KHTML, like Gecko) Chrome/36.0.1985.125 Safari/537.36\"']\n",
      "['73', None, None, Timestamp('2018-11-29 00:11:04.796000'), 954, 'paid', 'Tampa-St. Petersburg-Clearwater, FL', '\"Mozilla/5.0 (Macintosh; Intel Mac OS X 10_9_4) AppleWebKit/537.78.2 (KHTML, like Gecko) Version/7.0.6 Safari/537.78.2\"']\n",
      "['73', None, None, Timestamp('2018-11-29 00:14:10.796000'), 954, 'paid', 'Tampa-St. Petersburg-Clearwater, FL', '\"Mozilla/5.0 (Macintosh; Intel Mac OS X 10_9_4) AppleWebKit/537.78.2 (KHTML, like Gecko) Version/7.0.6 Safari/537.78.2\"']\n",
      "['24', None, None, Timestamp('2018-11-29 00:16:02.796000'), 984, 'paid', 'Lake Havasu City-Kingman, AZ', '\"Mozilla/5.0 (Windows NT 6.1; WOW64) AppleWebKit/537.36 (KHTML, like Gecko) Chrome/36.0.1985.125 Safari/537.36\"']\n",
      "['24', None, None, Timestamp('2018-11-29 00:18:11.796000'), 984, 'paid', 'Lake Havasu City-Kingman, AZ', '\"Mozilla/5.0 (Windows NT 6.1; WOW64) AppleWebKit/537.36 (KHTML, like Gecko) Chrome/36.0.1985.125 Safari/537.36\"']\n",
      "['24', None, None, Timestamp('2018-11-29 00:22:13.796000'), 984, 'paid', 'Lake Havasu City-Kingman, AZ', '\"Mozilla/5.0 (Windows NT 6.1; WOW64) AppleWebKit/537.36 (KHTML, like Gecko) Chrome/36.0.1985.125 Safari/537.36\"']\n",
      "['24', None, None, Timestamp('2018-11-29 00:26:15.796000'), 984, 'paid', 'Lake Havasu City-Kingman, AZ', '\"Mozilla/5.0 (Windows NT 6.1; WOW64) AppleWebKit/537.36 (KHTML, like Gecko) Chrome/36.0.1985.125 Safari/537.36\"']\n",
      "['24', None, None, Timestamp('2018-11-29 00:30:53.796000'), 984, 'paid', 'Lake Havasu City-Kingman, AZ', '\"Mozilla/5.0 (Windows NT 6.1; WOW64) AppleWebKit/537.36 (KHTML, like Gecko) Chrome/36.0.1985.125 Safari/537.36\"']\n",
      "['24', None, None, Timestamp('2018-11-29 00:35:07.796000'), 984, 'paid', 'Lake Havasu City-Kingman, AZ', '\"Mozilla/5.0 (Windows NT 6.1; WOW64) AppleWebKit/537.36 (KHTML, like Gecko) Chrome/36.0.1985.125 Safari/537.36\"']\n",
      "['24', None, None, Timestamp('2018-11-29 00:40:14.796000'), 984, 'paid', 'Lake Havasu City-Kingman, AZ', '\"Mozilla/5.0 (Windows NT 6.1; WOW64) AppleWebKit/537.36 (KHTML, like Gecko) Chrome/36.0.1985.125 Safari/537.36\"']\n",
      "['24', None, None, Timestamp('2018-11-29 00:44:13.796000'), 984, 'paid', 'Lake Havasu City-Kingman, AZ', '\"Mozilla/5.0 (Windows NT 6.1; WOW64) AppleWebKit/537.36 (KHTML, like Gecko) Chrome/36.0.1985.125 Safari/537.36\"']\n",
      "['24', None, None, Timestamp('2018-11-29 00:46:34.796000'), 984, 'paid', 'Lake Havasu City-Kingman, AZ', '\"Mozilla/5.0 (Windows NT 6.1; WOW64) AppleWebKit/537.36 (KHTML, like Gecko) Chrome/36.0.1985.125 Safari/537.36\"']\n",
      "['24', None, None, Timestamp('2018-11-29 00:49:48.796000'), 984, 'paid', 'Lake Havasu City-Kingman, AZ', '\"Mozilla/5.0 (Windows NT 6.1; WOW64) AppleWebKit/537.36 (KHTML, like Gecko) Chrome/36.0.1985.125 Safari/537.36\"']\n",
      "['24', None, None, Timestamp('2018-11-29 00:57:10.796000'), 984, 'paid', 'Lake Havasu City-Kingman, AZ', '\"Mozilla/5.0 (Windows NT 6.1; WOW64) AppleWebKit/537.36 (KHTML, like Gecko) Chrome/36.0.1985.125 Safari/537.36\"']\n",
      "['24', None, None, Timestamp('2018-11-29 01:02:12.796000'), 984, 'paid', 'Lake Havasu City-Kingman, AZ', '\"Mozilla/5.0 (Windows NT 6.1; WOW64) AppleWebKit/537.36 (KHTML, like Gecko) Chrome/36.0.1985.125 Safari/537.36\"']\n",
      "['24', None, None, Timestamp('2018-11-29 01:06:36.796000'), 984, 'paid', 'Lake Havasu City-Kingman, AZ', '\"Mozilla/5.0 (Windows NT 6.1; WOW64) AppleWebKit/537.36 (KHTML, like Gecko) Chrome/36.0.1985.125 Safari/537.36\"']\n",
      "['50', None, None, Timestamp('2018-11-29 01:09:23.796000'), 1011, 'free', 'New Haven-Milford, CT', '\"Mozilla/5.0 (Windows NT 6.3; WOW64) AppleWebKit/537.36 (KHTML, like Gecko) Chrome/36.0.1985.143 Safari/537.36\"']\n",
      "['24', None, None, Timestamp('2018-11-29 01:09:58.796000'), 984, 'paid', 'Lake Havasu City-Kingman, AZ', '\"Mozilla/5.0 (Windows NT 6.1; WOW64) AppleWebKit/537.36 (KHTML, like Gecko) Chrome/36.0.1985.125 Safari/537.36\"']\n",
      "['24', None, None, Timestamp('2018-11-29 01:13:57.796000'), 984, 'paid', 'Lake Havasu City-Kingman, AZ', '\"Mozilla/5.0 (Windows NT 6.1; WOW64) AppleWebKit/537.36 (KHTML, like Gecko) Chrome/36.0.1985.125 Safari/537.36\"']\n",
      "['24', None, None, Timestamp('2018-11-29 01:17:34.796000'), 984, 'paid', 'Lake Havasu City-Kingman, AZ', '\"Mozilla/5.0 (Windows NT 6.1; WOW64) AppleWebKit/537.36 (KHTML, like Gecko) Chrome/36.0.1985.125 Safari/537.36\"']\n",
      "['24', None, None, Timestamp('2018-11-29 01:22:13.796000'), 984, 'paid', 'Lake Havasu City-Kingman, AZ', '\"Mozilla/5.0 (Windows NT 6.1; WOW64) AppleWebKit/537.36 (KHTML, like Gecko) Chrome/36.0.1985.125 Safari/537.36\"']\n",
      "['24', None, None, Timestamp('2018-11-29 01:26:18.796000'), 984, 'paid', 'Lake Havasu City-Kingman, AZ', '\"Mozilla/5.0 (Windows NT 6.1; WOW64) AppleWebKit/537.36 (KHTML, like Gecko) Chrome/36.0.1985.125 Safari/537.36\"']\n",
      "['24', None, None, Timestamp('2018-11-29 01:31:13.796000'), 984, 'paid', 'Lake Havasu City-Kingman, AZ', '\"Mozilla/5.0 (Windows NT 6.1; WOW64) AppleWebKit/537.36 (KHTML, like Gecko) Chrome/36.0.1985.125 Safari/537.36\"']\n",
      "['24', None, None, Timestamp('2018-11-29 01:33:38.796000'), 984, 'paid', 'Lake Havasu City-Kingman, AZ', '\"Mozilla/5.0 (Windows NT 6.1; WOW64) AppleWebKit/537.36 (KHTML, like Gecko) Chrome/36.0.1985.125 Safari/537.36\"']\n",
      "['24', None, None, Timestamp('2018-11-29 01:38:30.796000'), 984, 'paid', 'Lake Havasu City-Kingman, AZ', '\"Mozilla/5.0 (Windows NT 6.1; WOW64) AppleWebKit/537.36 (KHTML, like Gecko) Chrome/36.0.1985.125 Safari/537.36\"']\n",
      "['24', None, None, Timestamp('2018-11-29 01:42:27.796000'), 984, 'paid', 'Lake Havasu City-Kingman, AZ', '\"Mozilla/5.0 (Windows NT 6.1; WOW64) AppleWebKit/537.36 (KHTML, like Gecko) Chrome/36.0.1985.125 Safari/537.36\"']\n",
      "['24', None, None, Timestamp('2018-11-29 01:46:50.796000'), 984, 'paid', 'Lake Havasu City-Kingman, AZ', '\"Mozilla/5.0 (Windows NT 6.1; WOW64) AppleWebKit/537.36 (KHTML, like Gecko) Chrome/36.0.1985.125 Safari/537.36\"']\n",
      "['24', None, None, Timestamp('2018-11-29 01:52:26.796000'), 984, 'paid', 'Lake Havasu City-Kingman, AZ', '\"Mozilla/5.0 (Windows NT 6.1; WOW64) AppleWebKit/537.36 (KHTML, like Gecko) Chrome/36.0.1985.125 Safari/537.36\"']\n",
      "['24', None, None, Timestamp('2018-11-29 01:55:17.796000'), 984, 'paid', 'Lake Havasu City-Kingman, AZ', '\"Mozilla/5.0 (Windows NT 6.1; WOW64) AppleWebKit/537.36 (KHTML, like Gecko) Chrome/36.0.1985.125 Safari/537.36\"']\n",
      "['54', None, None, Timestamp('2018-11-29 02:24:31.796000'), 951, 'free', 'Yuba City, CA', 'Mozilla/5.0 (Windows NT 6.1; WOW64; rv:31.0) Gecko/20100101 Firefox/31.0']\n",
      "['54', None, None, Timestamp('2018-11-29 02:28:05.796000'), 951, 'free', 'Yuba City, CA', 'Mozilla/5.0 (Windows NT 6.1; WOW64; rv:31.0) Gecko/20100101 Firefox/31.0']\n",
      "['54', None, None, Timestamp('2018-11-29 02:31:11.796000'), 951, 'free', 'Yuba City, CA', 'Mozilla/5.0 (Windows NT 6.1; WOW64; rv:31.0) Gecko/20100101 Firefox/31.0']\n",
      "['54', None, None, Timestamp('2018-11-29 02:36:13.796000'), 951, 'free', 'Yuba City, CA', 'Mozilla/5.0 (Windows NT 6.1; WOW64; rv:31.0) Gecko/20100101 Firefox/31.0']\n",
      "['54', None, None, Timestamp('2018-11-29 02:40:10.796000'), 951, 'free', 'Yuba City, CA', 'Mozilla/5.0 (Windows NT 6.1; WOW64; rv:31.0) Gecko/20100101 Firefox/31.0']\n",
      "['32', None, None, Timestamp('2018-11-29 02:57:57.796000'), 1045, 'free', 'New York-Newark-Jersey City, NY-NJ-PA', '\"Mozilla/5.0 (Windows NT 6.1; WOW64) AppleWebKit/537.36 (KHTML, like Gecko) Chrome/36.0.1985.125 Safari/537.36\"']\n",
      "['32', None, None, Timestamp('2018-11-29 03:00:42.796000'), 1045, 'free', 'New York-Newark-Jersey City, NY-NJ-PA', '\"Mozilla/5.0 (Windows NT 6.1; WOW64) AppleWebKit/537.36 (KHTML, like Gecko) Chrome/36.0.1985.125 Safari/537.36\"']\n",
      "['4', None, None, Timestamp('2018-11-29 03:07:15.796000'), 587, 'free', 'Parkersburg-Vienna, WV', '\"Mozilla/5.0 (Windows NT 6.1; WOW64) AppleWebKit/537.36 (KHTML, like Gecko) Chrome/36.0.1985.125 Safari/537.36\"']\n",
      "['52', None, None, Timestamp('2018-11-29 04:27:16.796000'), 990, 'free', 'Houston-The Woodlands-Sugar Land, TX', 'Mozilla/5.0 (Windows NT 6.1; WOW64; rv:31.0) Gecko/20100101 Firefox/31.0']\n",
      "['52', None, None, Timestamp('2018-11-29 04:31:53.796000'), 990, 'free', 'Houston-The Woodlands-Sugar Land, TX', 'Mozilla/5.0 (Windows NT 6.1; WOW64; rv:31.0) Gecko/20100101 Firefox/31.0']\n",
      "['14', None, None, Timestamp('2018-11-29 04:55:55.796000'), 1038, 'free', 'Red Bluff, CA', 'Mozilla/5.0 (Windows NT 6.1; WOW64; rv:31.0) Gecko/20100101 Firefox/31.0']\n",
      "['14', None, None, Timestamp('2018-11-29 05:00:08.796000'), 1038, 'free', 'Red Bluff, CA', 'Mozilla/5.0 (Windows NT 6.1; WOW64; rv:31.0) Gecko/20100101 Firefox/31.0']\n",
      "['98', None, None, Timestamp('2018-11-29 08:18:42.796000'), 865, 'free', 'Philadelphia-Camden-Wilmington, PA-NJ-DE-MD', '\"Mozilla/5.0 (Macintosh; Intel Mac OS X 10_9_4) AppleWebKit/537.36 (KHTML, like Gecko) Chrome/36.0.1985.143 Safari/537.36\"']\n",
      "['98', None, None, Timestamp('2018-11-29 08:23:09.796000'), 865, 'free', 'Philadelphia-Camden-Wilmington, PA-NJ-DE-MD', '\"Mozilla/5.0 (Macintosh; Intel Mac OS X 10_9_4) AppleWebKit/537.36 (KHTML, like Gecko) Chrome/36.0.1985.143 Safari/537.36\"']\n",
      "['101', None, None, Timestamp('2018-11-29 10:59:27.796000'), 1016, 'free', 'New Orleans-Metairie, LA', '\"Mozilla/5.0 (Windows NT 6.3; WOW64) AppleWebKit/537.36 (KHTML, like Gecko) Chrome/36.0.1985.143 Safari/537.36\"']\n",
      "['101', None, None, Timestamp('2018-11-29 11:03:12.796000'), 1016, 'free', 'New Orleans-Metairie, LA', '\"Mozilla/5.0 (Windows NT 6.3; WOW64) AppleWebKit/537.36 (KHTML, like Gecko) Chrome/36.0.1985.143 Safari/537.36\"']\n",
      "['78', None, None, Timestamp('2018-11-29 11:03:31.796000'), 931, 'free', 'Indianapolis-Carmel-Anderson, IN', 'Mozilla/5.0 (Windows NT 6.1; rv:31.0) Gecko/20100101 Firefox/31.0']\n",
      "['101', None, None, Timestamp('2018-11-29 11:07:19.796000'), 1016, 'free', 'New Orleans-Metairie, LA', '\"Mozilla/5.0 (Windows NT 6.3; WOW64) AppleWebKit/537.36 (KHTML, like Gecko) Chrome/36.0.1985.143 Safari/537.36\"']\n",
      "['101', None, None, Timestamp('2018-11-29 11:10:57.796000'), 1016, 'free', 'New Orleans-Metairie, LA', '\"Mozilla/5.0 (Windows NT 6.3; WOW64) AppleWebKit/537.36 (KHTML, like Gecko) Chrome/36.0.1985.143 Safari/537.36\"']\n",
      "['10', None, None, Timestamp('2018-11-29 12:21:07.796000'), 1005, 'free', 'Washington-Arlington-Alexandria, DC-VA-MD-WV', '\"Mozilla/5.0 (Macintosh; Intel Mac OS X 10_9_4) AppleWebKit/537.77.4 (KHTML, like Gecko) Version/7.0.5 Safari/537.77.4\"']\n",
      "['52', None, None, Timestamp('2018-11-29 13:14:11.796000'), 1055, 'free', 'Houston-The Woodlands-Sugar Land, TX', 'Mozilla/5.0 (Windows NT 6.1; WOW64; rv:31.0) Gecko/20100101 Firefox/31.0']\n",
      "['49', None, None, Timestamp('2018-11-29 13:58:27.796000'), 1041, 'paid', 'San Francisco-Oakland-Hayward, CA', 'Mozilla/5.0 (Windows NT 5.1; rv:31.0) Gecko/20100101 Firefox/31.0']\n",
      "['49', None, None, Timestamp('2018-11-29 14:01:21.796000'), 1041, 'paid', 'San Francisco-Oakland-Hayward, CA', 'Mozilla/5.0 (Windows NT 5.1; rv:31.0) Gecko/20100101 Firefox/31.0']\n",
      "['49', None, None, Timestamp('2018-11-29 14:05:13.796000'), 1041, 'paid', 'San Francisco-Oakland-Hayward, CA', 'Mozilla/5.0 (Windows NT 5.1; rv:31.0) Gecko/20100101 Firefox/31.0']\n",
      "['49', None, None, Timestamp('2018-11-29 14:10:08.796000'), 1041, 'paid', 'San Francisco-Oakland-Hayward, CA', 'Mozilla/5.0 (Windows NT 5.1; rv:31.0) Gecko/20100101 Firefox/31.0']\n",
      "['49', None, None, Timestamp('2018-11-29 14:14:04.796000'), 1041, 'paid', 'San Francisco-Oakland-Hayward, CA', 'Mozilla/5.0 (Windows NT 5.1; rv:31.0) Gecko/20100101 Firefox/31.0']\n",
      "['49', None, None, Timestamp('2018-11-29 14:17:50.796000'), 1041, 'paid', 'San Francisco-Oakland-Hayward, CA', 'Mozilla/5.0 (Windows NT 5.1; rv:31.0) Gecko/20100101 Firefox/31.0']\n",
      "['49', None, None, Timestamp('2018-11-29 14:22:14.796000'), 1041, 'paid', 'San Francisco-Oakland-Hayward, CA', 'Mozilla/5.0 (Windows NT 5.1; rv:31.0) Gecko/20100101 Firefox/31.0']\n",
      "['49', None, None, Timestamp('2018-11-29 14:26:23.796000'), 1041, 'paid', 'San Francisco-Oakland-Hayward, CA', 'Mozilla/5.0 (Windows NT 5.1; rv:31.0) Gecko/20100101 Firefox/31.0']\n",
      "['49', None, None, Timestamp('2018-11-29 14:32:31.796000'), 1041, 'paid', 'San Francisco-Oakland-Hayward, CA', 'Mozilla/5.0 (Windows NT 5.1; rv:31.0) Gecko/20100101 Firefox/31.0']\n",
      "['49', None, None, Timestamp('2018-11-29 14:35:44.796000'), 1041, 'paid', 'San Francisco-Oakland-Hayward, CA', 'Mozilla/5.0 (Windows NT 5.1; rv:31.0) Gecko/20100101 Firefox/31.0']\n",
      "['49', None, None, Timestamp('2018-11-29 14:40:36.796000'), 1041, 'paid', 'San Francisco-Oakland-Hayward, CA', 'Mozilla/5.0 (Windows NT 5.1; rv:31.0) Gecko/20100101 Firefox/31.0']\n",
      "['49', None, None, Timestamp('2018-11-29 14:43:29.796000'), 1041, 'paid', 'San Francisco-Oakland-Hayward, CA', 'Mozilla/5.0 (Windows NT 5.1; rv:31.0) Gecko/20100101 Firefox/31.0']\n",
      "['49', None, None, Timestamp('2018-11-29 14:47:47.796000'), 1041, 'paid', 'San Francisco-Oakland-Hayward, CA', 'Mozilla/5.0 (Windows NT 5.1; rv:31.0) Gecko/20100101 Firefox/31.0']\n",
      "['49', None, None, Timestamp('2018-11-29 14:51:12.796000'), 1041, 'paid', 'San Francisco-Oakland-Hayward, CA', 'Mozilla/5.0 (Windows NT 5.1; rv:31.0) Gecko/20100101 Firefox/31.0']\n",
      "['49', None, None, Timestamp('2018-11-29 14:55:45.796000'), 1041, 'paid', 'San Francisco-Oakland-Hayward, CA', 'Mozilla/5.0 (Windows NT 5.1; rv:31.0) Gecko/20100101 Firefox/31.0']\n",
      "['49', None, None, Timestamp('2018-11-29 14:57:52.796000'), 1041, 'paid', 'San Francisco-Oakland-Hayward, CA', 'Mozilla/5.0 (Windows NT 5.1; rv:31.0) Gecko/20100101 Firefox/31.0']\n",
      "['49', None, None, Timestamp('2018-11-29 15:02:51.796000'), 1041, 'paid', 'San Francisco-Oakland-Hayward, CA', 'Mozilla/5.0 (Windows NT 5.1; rv:31.0) Gecko/20100101 Firefox/31.0']\n",
      "['16', None, None, Timestamp('2018-11-29 15:05:49.796000'), 983, 'paid', 'Birmingham-Hoover, AL', '\"Mozilla/5.0 (Macintosh; Intel Mac OS X 10_9_4) AppleWebKit/537.77.4 (KHTML, like Gecko) Version/7.0.5 Safari/537.77.4\"']\n",
      "['49', None, None, Timestamp('2018-11-29 15:06:52.796000'), 1041, 'paid', 'San Francisco-Oakland-Hayward, CA', 'Mozilla/5.0 (Windows NT 5.1; rv:31.0) Gecko/20100101 Firefox/31.0']\n",
      "['16', None, None, Timestamp('2018-11-29 15:09:44.796000'), 983, 'paid', 'Birmingham-Hoover, AL', '\"Mozilla/5.0 (Macintosh; Intel Mac OS X 10_9_4) AppleWebKit/537.77.4 (KHTML, like Gecko) Version/7.0.5 Safari/537.77.4\"']\n",
      "['32', None, None, Timestamp('2018-11-29 15:11:08.796000'), 1058, 'free', 'New York-Newark-Jersey City, NY-NJ-PA', '\"Mozilla/5.0 (Windows NT 6.1; WOW64) AppleWebKit/537.36 (KHTML, like Gecko) Chrome/36.0.1985.125 Safari/537.36\"']\n",
      "['49', None, None, Timestamp('2018-11-29 15:11:35.796000'), 1041, 'paid', 'San Francisco-Oakland-Hayward, CA', 'Mozilla/5.0 (Windows NT 5.1; rv:31.0) Gecko/20100101 Firefox/31.0']\n",
      "['26', None, None, Timestamp('2018-11-29 15:11:47.796000'), 1046, 'free', 'San Jose-Sunnyvale-Santa Clara, CA', '\"Mozilla/5.0 (X11; Linux x86_64) AppleWebKit/537.36 (KHTML, like Gecko) Ubuntu Chromium/36.0.1985.125 Chrome/36.0.1985.125 Safari/537.36\"']\n",
      "['16', None, None, Timestamp('2018-11-29 15:12:48.796000'), 983, 'paid', 'Birmingham-Hoover, AL', '\"Mozilla/5.0 (Macintosh; Intel Mac OS X 10_9_4) AppleWebKit/537.77.4 (KHTML, like Gecko) Version/7.0.5 Safari/537.77.4\"']\n",
      "['32', None, None, Timestamp('2018-11-29 15:14:34.796000'), 1058, 'free', 'New York-Newark-Jersey City, NY-NJ-PA', '\"Mozilla/5.0 (Windows NT 6.1; WOW64) AppleWebKit/537.36 (KHTML, like Gecko) Chrome/36.0.1985.125 Safari/537.36\"']\n",
      "['49', None, None, Timestamp('2018-11-29 15:15:28.796000'), 1041, 'paid', 'San Francisco-Oakland-Hayward, CA', 'Mozilla/5.0 (Windows NT 5.1; rv:31.0) Gecko/20100101 Firefox/31.0']\n",
      "['16', None, None, Timestamp('2018-11-29 15:15:36.796000'), 983, 'paid', 'Birmingham-Hoover, AL', '\"Mozilla/5.0 (Macintosh; Intel Mac OS X 10_9_4) AppleWebKit/537.77.4 (KHTML, like Gecko) Version/7.0.5 Safari/537.77.4\"']\n",
      "['26', None, None, Timestamp('2018-11-29 15:16:13.796000'), 1046, 'free', 'San Jose-Sunnyvale-Santa Clara, CA', '\"Mozilla/5.0 (X11; Linux x86_64) AppleWebKit/537.36 (KHTML, like Gecko) Ubuntu Chromium/36.0.1985.125 Chrome/36.0.1985.125 Safari/537.36\"']\n",
      "['49', None, None, Timestamp('2018-11-29 15:18:58.796000'), 1041, 'paid', 'San Francisco-Oakland-Hayward, CA', 'Mozilla/5.0 (Windows NT 5.1; rv:31.0) Gecko/20100101 Firefox/31.0']\n",
      "['16', None, None, Timestamp('2018-11-29 15:19:32.796000'), 983, 'paid', 'Birmingham-Hoover, AL', '\"Mozilla/5.0 (Macintosh; Intel Mac OS X 10_9_4) AppleWebKit/537.77.4 (KHTML, like Gecko) Version/7.0.5 Safari/537.77.4\"']\n",
      "['79', None, None, Timestamp('2018-11-29 15:20:30.796000'), 761, 'free', 'Dallas-Fort Worth-Arlington, TX', 'Mozilla/5.0 (compatible; MSIE 9.0; Windows NT 6.1; Trident/5.0)']\n",
      "['26', None, None, Timestamp('2018-11-29 15:20:39.796000'), 1046, 'free', 'San Jose-Sunnyvale-Santa Clara, CA', '\"Mozilla/5.0 (X11; Linux x86_64) AppleWebKit/537.36 (KHTML, like Gecko) Ubuntu Chromium/36.0.1985.125 Chrome/36.0.1985.125 Safari/537.36\"']\n",
      "['49', None, None, Timestamp('2018-11-29 15:22:38.796000'), 1041, 'paid', 'San Francisco-Oakland-Hayward, CA', 'Mozilla/5.0 (Windows NT 5.1; rv:31.0) Gecko/20100101 Firefox/31.0']\n",
      "['16', None, None, Timestamp('2018-11-29 15:24:15.796000'), 983, 'paid', 'Birmingham-Hoover, AL', '\"Mozilla/5.0 (Macintosh; Intel Mac OS X 10_9_4) AppleWebKit/537.77.4 (KHTML, like Gecko) Version/7.0.5 Safari/537.77.4\"']\n",
      "['49', None, None, Timestamp('2018-11-29 15:26:40.796000'), 1041, 'paid', 'San Francisco-Oakland-Hayward, CA', 'Mozilla/5.0 (Windows NT 5.1; rv:31.0) Gecko/20100101 Firefox/31.0']\n",
      "['26', None, None, Timestamp('2018-11-29 15:27:01.796000'), 1046, 'free', 'San Jose-Sunnyvale-Santa Clara, CA', '\"Mozilla/5.0 (X11; Linux x86_64) AppleWebKit/537.36 (KHTML, like Gecko) Ubuntu Chromium/36.0.1985.125 Chrome/36.0.1985.125 Safari/537.36\"']\n",
      "['16', None, None, Timestamp('2018-11-29 15:27:37.796000'), 983, 'paid', 'Birmingham-Hoover, AL', '\"Mozilla/5.0 (Macintosh; Intel Mac OS X 10_9_4) AppleWebKit/537.77.4 (KHTML, like Gecko) Version/7.0.5 Safari/537.77.4\"']\n",
      "['49', None, None, Timestamp('2018-11-29 15:29:41.796000'), 1041, 'paid', 'San Francisco-Oakland-Hayward, CA', 'Mozilla/5.0 (Windows NT 5.1; rv:31.0) Gecko/20100101 Firefox/31.0']\n",
      "['16', None, None, Timestamp('2018-11-29 15:30:01.796000'), 983, 'paid', 'Birmingham-Hoover, AL', '\"Mozilla/5.0 (Macintosh; Intel Mac OS X 10_9_4) AppleWebKit/537.77.4 (KHTML, like Gecko) Version/7.0.5 Safari/537.77.4\"']\n",
      "['26', None, None, Timestamp('2018-11-29 15:30:57.796000'), 1046, 'free', 'San Jose-Sunnyvale-Santa Clara, CA', '\"Mozilla/5.0 (X11; Linux x86_64) AppleWebKit/537.36 (KHTML, like Gecko) Ubuntu Chromium/36.0.1985.125 Chrome/36.0.1985.125 Safari/537.36\"']\n",
      "['16', None, None, Timestamp('2018-11-29 15:33:38.796000'), 983, 'paid', 'Birmingham-Hoover, AL', '\"Mozilla/5.0 (Macintosh; Intel Mac OS X 10_9_4) AppleWebKit/537.77.4 (KHTML, like Gecko) Version/7.0.5 Safari/537.77.4\"']\n",
      "['49', None, None, Timestamp('2018-11-29 15:34:16.796000'), 1041, 'paid', 'San Francisco-Oakland-Hayward, CA', 'Mozilla/5.0 (Windows NT 5.1; rv:31.0) Gecko/20100101 Firefox/31.0']\n",
      "['16', None, None, Timestamp('2018-11-29 15:36:32.796000'), 983, 'paid', 'Birmingham-Hoover, AL', '\"Mozilla/5.0 (Macintosh; Intel Mac OS X 10_9_4) AppleWebKit/537.77.4 (KHTML, like Gecko) Version/7.0.5 Safari/537.77.4\"']\n",
      "['49', None, None, Timestamp('2018-11-29 15:37:16.796000'), 1041, 'paid', 'San Francisco-Oakland-Hayward, CA', 'Mozilla/5.0 (Windows NT 5.1; rv:31.0) Gecko/20100101 Firefox/31.0']\n",
      "['49', None, None, Timestamp('2018-11-29 15:39:39.796000'), 1041, 'paid', 'San Francisco-Oakland-Hayward, CA', 'Mozilla/5.0 (Windows NT 5.1; rv:31.0) Gecko/20100101 Firefox/31.0']\n",
      "['16', None, None, Timestamp('2018-11-29 15:41:17.796000'), 983, 'paid', 'Birmingham-Hoover, AL', '\"Mozilla/5.0 (Macintosh; Intel Mac OS X 10_9_4) AppleWebKit/537.77.4 (KHTML, like Gecko) Version/7.0.5 Safari/537.77.4\"']\n",
      "['49', None, None, Timestamp('2018-11-29 15:41:57.796000'), 1041, 'paid', 'San Francisco-Oakland-Hayward, CA', 'Mozilla/5.0 (Windows NT 5.1; rv:31.0) Gecko/20100101 Firefox/31.0']\n",
      "['16', None, None, Timestamp('2018-11-29 15:45:38.796000'), 983, 'paid', 'Birmingham-Hoover, AL', '\"Mozilla/5.0 (Macintosh; Intel Mac OS X 10_9_4) AppleWebKit/537.77.4 (KHTML, like Gecko) Version/7.0.5 Safari/537.77.4\"']\n",
      "['49', None, None, Timestamp('2018-11-29 15:45:41.796000'), 1041, 'paid', 'San Francisco-Oakland-Hayward, CA', 'Mozilla/5.0 (Windows NT 5.1; rv:31.0) Gecko/20100101 Firefox/31.0']\n",
      "['16', None, None, Timestamp('2018-11-29 15:49:16.796000'), 983, 'paid', 'Birmingham-Hoover, AL', '\"Mozilla/5.0 (Macintosh; Intel Mac OS X 10_9_4) AppleWebKit/537.77.4 (KHTML, like Gecko) Version/7.0.5 Safari/537.77.4\"']\n",
      "['49', None, None, Timestamp('2018-11-29 15:49:38.796000'), 1041, 'paid', 'San Francisco-Oakland-Hayward, CA', 'Mozilla/5.0 (Windows NT 5.1; rv:31.0) Gecko/20100101 Firefox/31.0']\n",
      "['16', None, None, Timestamp('2018-11-29 15:53:39.796000'), 983, 'paid', 'Birmingham-Hoover, AL', '\"Mozilla/5.0 (Macintosh; Intel Mac OS X 10_9_4) AppleWebKit/537.77.4 (KHTML, like Gecko) Version/7.0.5 Safari/537.77.4\"']\n",
      "['49', None, None, Timestamp('2018-11-29 15:54:12.796000'), 1041, 'paid', 'San Francisco-Oakland-Hayward, CA', 'Mozilla/5.0 (Windows NT 5.1; rv:31.0) Gecko/20100101 Firefox/31.0']\n",
      "['16', None, None, Timestamp('2018-11-29 15:57:35.796000'), 983, 'paid', 'Birmingham-Hoover, AL', '\"Mozilla/5.0 (Macintosh; Intel Mac OS X 10_9_4) AppleWebKit/537.77.4 (KHTML, like Gecko) Version/7.0.5 Safari/537.77.4\"']\n",
      "['49', None, None, Timestamp('2018-11-29 15:57:55.796000'), 1041, 'paid', 'San Francisco-Oakland-Hayward, CA', 'Mozilla/5.0 (Windows NT 5.1; rv:31.0) Gecko/20100101 Firefox/31.0']\n",
      "['49', None, None, Timestamp('2018-11-29 16:00:01.796000'), 1041, 'paid', 'San Francisco-Oakland-Hayward, CA', 'Mozilla/5.0 (Windows NT 5.1; rv:31.0) Gecko/20100101 Firefox/31.0']\n",
      "['16', None, None, Timestamp('2018-11-29 16:00:53.796000'), 983, 'paid', 'Birmingham-Hoover, AL', '\"Mozilla/5.0 (Macintosh; Intel Mac OS X 10_9_4) AppleWebKit/537.77.4 (KHTML, like Gecko) Version/7.0.5 Safari/537.77.4\"']\n",
      "['49', None, None, Timestamp('2018-11-29 16:04:06.796000'), 1041, 'paid', 'San Francisco-Oakland-Hayward, CA', 'Mozilla/5.0 (Windows NT 5.1; rv:31.0) Gecko/20100101 Firefox/31.0']\n",
      "['16', None, None, Timestamp('2018-11-29 16:05:40.796000'), 983, 'paid', 'Birmingham-Hoover, AL', '\"Mozilla/5.0 (Macintosh; Intel Mac OS X 10_9_4) AppleWebKit/537.77.4 (KHTML, like Gecko) Version/7.0.5 Safari/537.77.4\"']\n",
      "['49', None, None, Timestamp('2018-11-29 16:07:07.796000'), 1041, 'paid', 'San Francisco-Oakland-Hayward, CA', 'Mozilla/5.0 (Windows NT 5.1; rv:31.0) Gecko/20100101 Firefox/31.0']\n",
      "['16', None, None, Timestamp('2018-11-29 16:09:11.796000'), 983, 'paid', 'Birmingham-Hoover, AL', '\"Mozilla/5.0 (Macintosh; Intel Mac OS X 10_9_4) AppleWebKit/537.77.4 (KHTML, like Gecko) Version/7.0.5 Safari/537.77.4\"']\n",
      "['49', None, None, Timestamp('2018-11-29 16:09:24.796000'), 1041, 'paid', 'San Francisco-Oakland-Hayward, CA', 'Mozilla/5.0 (Windows NT 5.1; rv:31.0) Gecko/20100101 Firefox/31.0']\n",
      "['16', None, None, Timestamp('2018-11-29 16:11:29.796000'), 983, 'paid', 'Birmingham-Hoover, AL', '\"Mozilla/5.0 (Macintosh; Intel Mac OS X 10_9_4) AppleWebKit/537.77.4 (KHTML, like Gecko) Version/7.0.5 Safari/537.77.4\"']\n",
      "['49', None, None, Timestamp('2018-11-29 16:13:23.796000'), 1041, 'paid', 'San Francisco-Oakland-Hayward, CA', 'Mozilla/5.0 (Windows NT 5.1; rv:31.0) Gecko/20100101 Firefox/31.0']\n",
      "['16', None, None, Timestamp('2018-11-29 16:15:34.796000'), 983, 'paid', 'Birmingham-Hoover, AL', '\"Mozilla/5.0 (Macintosh; Intel Mac OS X 10_9_4) AppleWebKit/537.77.4 (KHTML, like Gecko) Version/7.0.5 Safari/537.77.4\"']\n",
      "['49', None, None, Timestamp('2018-11-29 16:18:25.796000'), 1041, 'paid', 'San Francisco-Oakland-Hayward, CA', 'Mozilla/5.0 (Windows NT 5.1; rv:31.0) Gecko/20100101 Firefox/31.0']\n",
      "['16', None, None, Timestamp('2018-11-29 16:19:30.796000'), 983, 'paid', 'Birmingham-Hoover, AL', '\"Mozilla/5.0 (Macintosh; Intel Mac OS X 10_9_4) AppleWebKit/537.77.4 (KHTML, like Gecko) Version/7.0.5 Safari/537.77.4\"']\n",
      "['49', None, None, Timestamp('2018-11-29 16:22:24.796000'), 1041, 'paid', 'San Francisco-Oakland-Hayward, CA', 'Mozilla/5.0 (Windows NT 5.1; rv:31.0) Gecko/20100101 Firefox/31.0']\n",
      "['16', None, None, Timestamp('2018-11-29 16:23:27.796000'), 983, 'paid', 'Birmingham-Hoover, AL', '\"Mozilla/5.0 (Macintosh; Intel Mac OS X 10_9_4) AppleWebKit/537.77.4 (KHTML, like Gecko) Version/7.0.5 Safari/537.77.4\"']\n",
      "['49', None, None, Timestamp('2018-11-29 16:26:21.796000'), 1041, 'paid', 'San Francisco-Oakland-Hayward, CA', 'Mozilla/5.0 (Windows NT 5.1; rv:31.0) Gecko/20100101 Firefox/31.0']\n",
      "['16', None, None, Timestamp('2018-11-29 16:28:12.796000'), 983, 'paid', 'Birmingham-Hoover, AL', '\"Mozilla/5.0 (Macintosh; Intel Mac OS X 10_9_4) AppleWebKit/537.77.4 (KHTML, like Gecko) Version/7.0.5 Safari/537.77.4\"']\n",
      "['49', None, None, Timestamp('2018-11-29 16:30:05.796000'), 1041, 'paid', 'San Francisco-Oakland-Hayward, CA', 'Mozilla/5.0 (Windows NT 5.1; rv:31.0) Gecko/20100101 Firefox/31.0']\n",
      "['16', None, None, Timestamp('2018-11-29 16:31:19.796000'), 983, 'paid', 'Birmingham-Hoover, AL', '\"Mozilla/5.0 (Macintosh; Intel Mac OS X 10_9_4) AppleWebKit/537.77.4 (KHTML, like Gecko) Version/7.0.5 Safari/537.77.4\"']\n",
      "['49', None, None, Timestamp('2018-11-29 16:34:03.796000'), 1041, 'paid', 'San Francisco-Oakland-Hayward, CA', 'Mozilla/5.0 (Windows NT 5.1; rv:31.0) Gecko/20100101 Firefox/31.0']\n",
      "['16', None, None, Timestamp('2018-11-29 16:36:45.796000'), 983, 'paid', 'Birmingham-Hoover, AL', '\"Mozilla/5.0 (Macintosh; Intel Mac OS X 10_9_4) AppleWebKit/537.77.4 (KHTML, like Gecko) Version/7.0.5 Safari/537.77.4\"']\n",
      "['49', None, None, Timestamp('2018-11-29 16:38:29.796000'), 1041, 'paid', 'San Francisco-Oakland-Hayward, CA', 'Mozilla/5.0 (Windows NT 5.1; rv:31.0) Gecko/20100101 Firefox/31.0']\n",
      "['16', None, None, Timestamp('2018-11-29 16:40:32.796000'), 983, 'paid', 'Birmingham-Hoover, AL', '\"Mozilla/5.0 (Macintosh; Intel Mac OS X 10_9_4) AppleWebKit/537.77.4 (KHTML, like Gecko) Version/7.0.5 Safari/537.77.4\"']\n",
      "['49', None, None, Timestamp('2018-11-29 16:41:33.796000'), 1041, 'paid', 'San Francisco-Oakland-Hayward, CA', 'Mozilla/5.0 (Windows NT 5.1; rv:31.0) Gecko/20100101 Firefox/31.0']\n",
      "['16', None, None, Timestamp('2018-11-29 16:41:37.796000'), 983, 'paid', 'Birmingham-Hoover, AL', '\"Mozilla/5.0 (Macintosh; Intel Mac OS X 10_9_4) AppleWebKit/537.77.4 (KHTML, like Gecko) Version/7.0.5 Safari/537.77.4\"']\n",
      "['16', None, None, Timestamp('2018-11-29 16:44:39.796000'), 983, 'paid', 'Birmingham-Hoover, AL', '\"Mozilla/5.0 (Macintosh; Intel Mac OS X 10_9_4) AppleWebKit/537.77.4 (KHTML, like Gecko) Version/7.0.5 Safari/537.77.4\"']\n",
      "['49', None, None, Timestamp('2018-11-29 16:45:38.796000'), 1041, 'paid', 'San Francisco-Oakland-Hayward, CA', 'Mozilla/5.0 (Windows NT 5.1; rv:31.0) Gecko/20100101 Firefox/31.0']\n",
      "['16', None, None, Timestamp('2018-11-29 16:47:38.796000'), 983, 'paid', 'Birmingham-Hoover, AL', '\"Mozilla/5.0 (Macintosh; Intel Mac OS X 10_9_4) AppleWebKit/537.77.4 (KHTML, like Gecko) Version/7.0.5 Safari/537.77.4\"']\n",
      "['82', None, None, Timestamp('2018-11-29 16:47:42.796000'), 1017, 'paid', 'Atlanta-Sandy Springs-Roswell, GA', '\"Mozilla/5.0 (Macintosh; Intel Mac OS X 10_9_3) AppleWebKit/537.36 (KHTML, like Gecko) Chrome/37.0.2062.94 Safari/537.36\"']\n",
      "['49', None, None, Timestamp('2018-11-29 16:49:25.796000'), 1041, 'paid', 'San Francisco-Oakland-Hayward, CA', 'Mozilla/5.0 (Windows NT 5.1; rv:31.0) Gecko/20100101 Firefox/31.0']\n",
      "['16', None, None, Timestamp('2018-11-29 16:50:16.796000'), 983, 'paid', 'Birmingham-Hoover, AL', '\"Mozilla/5.0 (Macintosh; Intel Mac OS X 10_9_4) AppleWebKit/537.77.4 (KHTML, like Gecko) Version/7.0.5 Safari/537.77.4\"']\n",
      "['16', None, None, Timestamp('2018-11-29 16:54:22.796000'), 983, 'paid', 'Birmingham-Hoover, AL', '\"Mozilla/5.0 (Macintosh; Intel Mac OS X 10_9_4) AppleWebKit/537.77.4 (KHTML, like Gecko) Version/7.0.5 Safari/537.77.4\"']\n",
      "['82', None, None, Timestamp('2018-11-29 16:54:27.796000'), 1017, 'paid', 'Atlanta-Sandy Springs-Roswell, GA', '\"Mozilla/5.0 (Macintosh; Intel Mac OS X 10_9_3) AppleWebKit/537.36 (KHTML, like Gecko) Chrome/37.0.2062.94 Safari/537.36\"']\n",
      "['49', None, None, Timestamp('2018-11-29 16:54:41.796000'), 1041, 'paid', 'San Francisco-Oakland-Hayward, CA', 'Mozilla/5.0 (Windows NT 5.1; rv:31.0) Gecko/20100101 Firefox/31.0']\n",
      "['44', None, None, Timestamp('2018-11-29 16:55:14.796000'), 1003, 'paid', 'Waterloo-Cedar Falls, IA', 'Mozilla/5.0 (Macintosh; Intel Mac OS X 10.9; rv:31.0) Gecko/20100101 Firefox/31.0']\n",
      "['49', None, None, Timestamp('2018-11-29 16:58:01.796000'), 1041, 'paid', 'San Francisco-Oakland-Hayward, CA', 'Mozilla/5.0 (Windows NT 5.1; rv:31.0) Gecko/20100101 Firefox/31.0']\n",
      "['82', None, None, Timestamp('2018-11-29 16:58:03.796000'), 1017, 'paid', 'Atlanta-Sandy Springs-Roswell, GA', '\"Mozilla/5.0 (Macintosh; Intel Mac OS X 10_9_3) AppleWebKit/537.36 (KHTML, like Gecko) Chrome/37.0.2062.94 Safari/537.36\"']\n",
      "['16', None, None, Timestamp('2018-11-29 16:58:11.796000'), 983, 'paid', 'Birmingham-Hoover, AL', '\"Mozilla/5.0 (Macintosh; Intel Mac OS X 10_9_4) AppleWebKit/537.77.4 (KHTML, like Gecko) Version/7.0.5 Safari/537.77.4\"']\n",
      "['16', None, None, Timestamp('2018-11-29 17:01:21.796000'), 983, 'paid', 'Birmingham-Hoover, AL', '\"Mozilla/5.0 (Macintosh; Intel Mac OS X 10_9_4) AppleWebKit/537.77.4 (KHTML, like Gecko) Version/7.0.5 Safari/537.77.4\"']\n",
      "['49', None, None, Timestamp('2018-11-29 17:01:34.796000'), 1041, 'paid', 'San Francisco-Oakland-Hayward, CA', 'Mozilla/5.0 (Windows NT 5.1; rv:31.0) Gecko/20100101 Firefox/31.0']\n",
      "['82', None, None, Timestamp('2018-11-29 17:01:41.796000'), 1017, 'paid', 'Atlanta-Sandy Springs-Roswell, GA', '\"Mozilla/5.0 (Macintosh; Intel Mac OS X 10_9_3) AppleWebKit/537.36 (KHTML, like Gecko) Chrome/37.0.2062.94 Safari/537.36\"']\n",
      "['44', None, None, Timestamp('2018-11-29 17:01:49.796000'), 1003, 'paid', 'Waterloo-Cedar Falls, IA', 'Mozilla/5.0 (Macintosh; Intel Mac OS X 10.9; rv:31.0) Gecko/20100101 Firefox/31.0']\n",
      "['16', None, None, Timestamp('2018-11-29 17:05:10.796000'), 983, 'paid', 'Birmingham-Hoover, AL', '\"Mozilla/5.0 (Macintosh; Intel Mac OS X 10_9_4) AppleWebKit/537.77.4 (KHTML, like Gecko) Version/7.0.5 Safari/537.77.4\"']\n",
      "['44', None, None, Timestamp('2018-11-29 17:05:20.796000'), 1003, 'paid', 'Waterloo-Cedar Falls, IA', 'Mozilla/5.0 (Macintosh; Intel Mac OS X 10.9; rv:31.0) Gecko/20100101 Firefox/31.0']\n",
      "['49', None, None, Timestamp('2018-11-29 17:05:26.796000'), 1041, 'paid', 'San Francisco-Oakland-Hayward, CA', 'Mozilla/5.0 (Windows NT 5.1; rv:31.0) Gecko/20100101 Firefox/31.0']\n",
      "['4', None, None, Timestamp('2018-11-29 17:06:16.796000'), 1054, 'free', 'Parkersburg-Vienna, WV', '\"Mozilla/5.0 (Windows NT 6.1; WOW64) AppleWebKit/537.36 (KHTML, like Gecko) Chrome/36.0.1985.125 Safari/537.36\"']\n",
      "['82', None, None, Timestamp('2018-11-29 17:06:48.796000'), 1017, 'paid', 'Atlanta-Sandy Springs-Roswell, GA', '\"Mozilla/5.0 (Macintosh; Intel Mac OS X 10_9_3) AppleWebKit/537.36 (KHTML, like Gecko) Chrome/37.0.2062.94 Safari/537.36\"']\n",
      "['49', None, None, Timestamp('2018-11-29 17:09:13.796000'), 1041, 'paid', 'San Francisco-Oakland-Hayward, CA', 'Mozilla/5.0 (Windows NT 5.1; rv:31.0) Gecko/20100101 Firefox/31.0']\n",
      "['16', None, None, Timestamp('2018-11-29 17:09:14.796000'), 983, 'paid', 'Birmingham-Hoover, AL', '\"Mozilla/5.0 (Macintosh; Intel Mac OS X 10_9_4) AppleWebKit/537.77.4 (KHTML, like Gecko) Version/7.0.5 Safari/537.77.4\"']\n",
      "['82', None, None, Timestamp('2018-11-29 17:10:14.796000'), 1017, 'paid', 'Atlanta-Sandy Springs-Roswell, GA', '\"Mozilla/5.0 (Macintosh; Intel Mac OS X 10_9_3) AppleWebKit/537.36 (KHTML, like Gecko) Chrome/37.0.2062.94 Safari/537.36\"']\n",
      "['49', None, None, Timestamp('2018-11-29 17:12:34.796000'), 1041, 'paid', 'San Francisco-Oakland-Hayward, CA', 'Mozilla/5.0 (Windows NT 5.1; rv:31.0) Gecko/20100101 Firefox/31.0']\n",
      "['16', None, None, Timestamp('2018-11-29 17:13:55.796000'), 983, 'paid', 'Birmingham-Hoover, AL', '\"Mozilla/5.0 (Macintosh; Intel Mac OS X 10_9_4) AppleWebKit/537.77.4 (KHTML, like Gecko) Version/7.0.5 Safari/537.77.4\"']\n",
      "['82', None, None, Timestamp('2018-11-29 17:14:22.796000'), 1017, 'paid', 'Atlanta-Sandy Springs-Roswell, GA', '\"Mozilla/5.0 (Macintosh; Intel Mac OS X 10_9_3) AppleWebKit/537.36 (KHTML, like Gecko) Chrome/37.0.2062.94 Safari/537.36\"']\n",
      "['49', None, None, Timestamp('2018-11-29 17:16:11.796000'), 1041, 'paid', 'San Francisco-Oakland-Hayward, CA', 'Mozilla/5.0 (Windows NT 5.1; rv:31.0) Gecko/20100101 Firefox/31.0']\n",
      "['82', None, None, Timestamp('2018-11-29 17:18:01.796000'), 1017, 'paid', 'Atlanta-Sandy Springs-Roswell, GA', '\"Mozilla/5.0 (Macintosh; Intel Mac OS X 10_9_3) AppleWebKit/537.36 (KHTML, like Gecko) Chrome/37.0.2062.94 Safari/537.36\"']\n",
      "['16', None, None, Timestamp('2018-11-29 17:18:33.796000'), 983, 'paid', 'Birmingham-Hoover, AL', '\"Mozilla/5.0 (Macintosh; Intel Mac OS X 10_9_4) AppleWebKit/537.77.4 (KHTML, like Gecko) Version/7.0.5 Safari/537.77.4\"']\n",
      "['49', None, None, Timestamp('2018-11-29 17:19:26.796000'), 1041, 'paid', 'San Francisco-Oakland-Hayward, CA', 'Mozilla/5.0 (Windows NT 5.1; rv:31.0) Gecko/20100101 Firefox/31.0']\n",
      "['49', None, None, Timestamp('2018-11-29 17:22:01.796000'), 1041, 'paid', 'San Francisco-Oakland-Hayward, CA', 'Mozilla/5.0 (Windows NT 5.1; rv:31.0) Gecko/20100101 Firefox/31.0']\n",
      "['16', None, None, Timestamp('2018-11-29 17:22:27.796000'), 983, 'paid', 'Birmingham-Hoover, AL', '\"Mozilla/5.0 (Macintosh; Intel Mac OS X 10_9_4) AppleWebKit/537.77.4 (KHTML, like Gecko) Version/7.0.5 Safari/537.77.4\"']\n",
      "['82', None, None, Timestamp('2018-11-29 17:23:01.796000'), 1017, 'paid', 'Atlanta-Sandy Springs-Roswell, GA', '\"Mozilla/5.0 (Macintosh; Intel Mac OS X 10_9_3) AppleWebKit/537.36 (KHTML, like Gecko) Chrome/37.0.2062.94 Safari/537.36\"']\n",
      "['16', None, None, Timestamp('2018-11-29 17:24:32.796000'), 983, 'paid', 'Birmingham-Hoover, AL', '\"Mozilla/5.0 (Macintosh; Intel Mac OS X 10_9_4) AppleWebKit/537.77.4 (KHTML, like Gecko) Version/7.0.5 Safari/537.77.4\"']\n",
      "['49', None, None, Timestamp('2018-11-29 17:25:44.796000'), 1041, 'paid', 'San Francisco-Oakland-Hayward, CA', 'Mozilla/5.0 (Windows NT 5.1; rv:31.0) Gecko/20100101 Firefox/31.0']\n",
      "['82', None, None, Timestamp('2018-11-29 17:27:23.796000'), 1017, 'paid', 'Atlanta-Sandy Springs-Roswell, GA', '\"Mozilla/5.0 (Macintosh; Intel Mac OS X 10_9_3) AppleWebKit/537.36 (KHTML, like Gecko) Chrome/37.0.2062.94 Safari/537.36\"']\n",
      "['16', None, None, Timestamp('2018-11-29 17:28:38.796000'), 983, 'paid', 'Birmingham-Hoover, AL', '\"Mozilla/5.0 (Macintosh; Intel Mac OS X 10_9_4) AppleWebKit/537.77.4 (KHTML, like Gecko) Version/7.0.5 Safari/537.77.4\"']\n",
      "['82', None, None, Timestamp('2018-11-29 17:31:27.796000'), 1017, 'paid', 'Atlanta-Sandy Springs-Roswell, GA', '\"Mozilla/5.0 (Macintosh; Intel Mac OS X 10_9_3) AppleWebKit/537.36 (KHTML, like Gecko) Chrome/37.0.2062.94 Safari/537.36\"']\n",
      "['82', None, None, Timestamp('2018-11-29 17:32:00.796000'), 1017, 'paid', 'Atlanta-Sandy Springs-Roswell, GA', '\"Mozilla/5.0 (Macintosh; Intel Mac OS X 10_9_3) AppleWebKit/537.36 (KHTML, like Gecko) Chrome/37.0.2062.94 Safari/537.36\"']\n",
      "['16', None, None, Timestamp('2018-11-29 17:33:22.796000'), 983, 'paid', 'Birmingham-Hoover, AL', '\"Mozilla/5.0 (Macintosh; Intel Mac OS X 10_9_4) AppleWebKit/537.77.4 (KHTML, like Gecko) Version/7.0.5 Safari/537.77.4\"']\n",
      "['82', None, None, Timestamp('2018-11-29 17:35:29.796000'), 1017, 'paid', 'Atlanta-Sandy Springs-Roswell, GA', '\"Mozilla/5.0 (Macintosh; Intel Mac OS X 10_9_3) AppleWebKit/537.36 (KHTML, like Gecko) Chrome/37.0.2062.94 Safari/537.36\"']\n",
      "['82', None, None, Timestamp('2018-11-29 17:39:31.796000'), 1017, 'paid', 'Atlanta-Sandy Springs-Roswell, GA', '\"Mozilla/5.0 (Macintosh; Intel Mac OS X 10_9_3) AppleWebKit/537.36 (KHTML, like Gecko) Chrome/37.0.2062.94 Safari/537.36\"']\n",
      "['16', None, None, Timestamp('2018-11-29 17:39:48.796000'), 983, 'paid', 'Birmingham-Hoover, AL', '\"Mozilla/5.0 (Macintosh; Intel Mac OS X 10_9_4) AppleWebKit/537.77.4 (KHTML, like Gecko) Version/7.0.5 Safari/537.77.4\"']\n",
      "['75', None, None, Timestamp('2018-11-29 17:41:02.796000'), 721, 'free', 'Columbia, SC', '\"Mozilla/5.0 (Macintosh; Intel Mac OS X 10_9_3) AppleWebKit/537.75.14 (KHTML, like Gecko) Version/7.0.3 Safari/537.75.14\"']\n",
      "['49', None, None, Timestamp('2018-11-29 17:41:54.796000'), 1041, 'paid', 'San Francisco-Oakland-Hayward, CA', 'Mozilla/5.0 (Windows NT 5.1; rv:31.0) Gecko/20100101 Firefox/31.0']\n",
      "['75', None, None, Timestamp('2018-11-29 17:43:21.796000'), 721, 'free', 'Columbia, SC', '\"Mozilla/5.0 (Macintosh; Intel Mac OS X 10_9_3) AppleWebKit/537.75.14 (KHTML, like Gecko) Version/7.0.3 Safari/537.75.14\"']\n",
      "['16', None, None, Timestamp('2018-11-29 17:45:34.796000'), 983, 'paid', 'Birmingham-Hoover, AL', '\"Mozilla/5.0 (Macintosh; Intel Mac OS X 10_9_4) AppleWebKit/537.77.4 (KHTML, like Gecko) Version/7.0.5 Safari/537.77.4\"']\n",
      "['39', None, None, Timestamp('2018-11-29 17:45:51.796000'), 1047, 'free', 'San Francisco-Oakland-Hayward, CA', '\"Mozilla/5.0 (Macintosh; Intel Mac OS X 10_9_4) AppleWebKit/537.36 (KHTML, like Gecko) Chrome/36.0.1985.143 Safari/537.36\"']\n",
      "['82', None, None, Timestamp('2018-11-29 17:48:25.796000'), 1017, 'paid', 'Atlanta-Sandy Springs-Roswell, GA', '\"Mozilla/5.0 (Macintosh; Intel Mac OS X 10_9_3) AppleWebKit/537.36 (KHTML, like Gecko) Chrome/37.0.2062.94 Safari/537.36\"']\n",
      "['75', None, None, Timestamp('2018-11-29 17:49:47.796000'), 721, 'free', 'Columbia, SC', '\"Mozilla/5.0 (Macintosh; Intel Mac OS X 10_9_3) AppleWebKit/537.75.14 (KHTML, like Gecko) Version/7.0.3 Safari/537.75.14\"']\n",
      "['49', None, None, Timestamp('2018-11-29 17:50:11.796000'), 1041, 'paid', 'San Francisco-Oakland-Hayward, CA', 'Mozilla/5.0 (Windows NT 5.1; rv:31.0) Gecko/20100101 Firefox/31.0']\n",
      "['16', None, None, Timestamp('2018-11-29 17:51:12.796000'), 983, 'paid', 'Birmingham-Hoover, AL', '\"Mozilla/5.0 (Macintosh; Intel Mac OS X 10_9_4) AppleWebKit/537.77.4 (KHTML, like Gecko) Version/7.0.5 Safari/537.77.4\"']\n",
      "['82', None, None, Timestamp('2018-11-29 17:52:18.796000'), 1017, 'paid', 'Atlanta-Sandy Springs-Roswell, GA', '\"Mozilla/5.0 (Macintosh; Intel Mac OS X 10_9_3) AppleWebKit/537.36 (KHTML, like Gecko) Chrome/37.0.2062.94 Safari/537.36\"']\n",
      "['49', None, None, Timestamp('2018-11-29 17:53:45.796000'), 1041, 'paid', 'San Francisco-Oakland-Hayward, CA', 'Mozilla/5.0 (Windows NT 5.1; rv:31.0) Gecko/20100101 Firefox/31.0']\n",
      "['82', None, None, Timestamp('2018-11-29 17:55:54.796000'), 1017, 'paid', 'Atlanta-Sandy Springs-Roswell, GA', '\"Mozilla/5.0 (Macintosh; Intel Mac OS X 10_9_3) AppleWebKit/537.36 (KHTML, like Gecko) Chrome/37.0.2062.94 Safari/537.36\"']\n",
      "['16', None, None, Timestamp('2018-11-29 17:56:29.796000'), 983, 'paid', 'Birmingham-Hoover, AL', '\"Mozilla/5.0 (Macintosh; Intel Mac OS X 10_9_4) AppleWebKit/537.77.4 (KHTML, like Gecko) Version/7.0.5 Safari/537.77.4\"']\n",
      "['49', None, None, Timestamp('2018-11-29 17:58:58.796000'), 1041, 'paid', 'San Francisco-Oakland-Hayward, CA', 'Mozilla/5.0 (Windows NT 5.1; rv:31.0) Gecko/20100101 Firefox/31.0']\n",
      "['82', None, None, Timestamp('2018-11-29 17:59:53.796000'), 1017, 'paid', 'Atlanta-Sandy Springs-Roswell, GA', '\"Mozilla/5.0 (Macintosh; Intel Mac OS X 10_9_3) AppleWebKit/537.36 (KHTML, like Gecko) Chrome/37.0.2062.94 Safari/537.36\"']\n",
      "['49', None, None, Timestamp('2018-11-29 18:01:37.796000'), 1041, 'paid', 'San Francisco-Oakland-Hayward, CA', 'Mozilla/5.0 (Windows NT 5.1; rv:31.0) Gecko/20100101 Firefox/31.0']\n",
      "['16', None, None, Timestamp('2018-11-29 18:03:18.796000'), 983, 'paid', 'Birmingham-Hoover, AL', '\"Mozilla/5.0 (Macintosh; Intel Mac OS X 10_9_4) AppleWebKit/537.77.4 (KHTML, like Gecko) Version/7.0.5 Safari/537.77.4\"']\n",
      "['82', None, None, Timestamp('2018-11-29 18:03:38.796000'), 1017, 'paid', 'Atlanta-Sandy Springs-Roswell, GA', '\"Mozilla/5.0 (Macintosh; Intel Mac OS X 10_9_3) AppleWebKit/537.36 (KHTML, like Gecko) Chrome/37.0.2062.94 Safari/537.36\"']\n",
      "['49', None, None, Timestamp('2018-11-29 18:05:39.796000'), 1041, 'paid', 'San Francisco-Oakland-Hayward, CA', 'Mozilla/5.0 (Windows NT 5.1; rv:31.0) Gecko/20100101 Firefox/31.0']\n",
      "['16', None, None, Timestamp('2018-11-29 18:07:55.796000'), 983, 'paid', 'Birmingham-Hoover, AL', '\"Mozilla/5.0 (Macintosh; Intel Mac OS X 10_9_4) AppleWebKit/537.77.4 (KHTML, like Gecko) Version/7.0.5 Safari/537.77.4\"']\n",
      "['82', None, None, Timestamp('2018-11-29 18:07:57.796000'), 1017, 'paid', 'Atlanta-Sandy Springs-Roswell, GA', '\"Mozilla/5.0 (Macintosh; Intel Mac OS X 10_9_3) AppleWebKit/537.36 (KHTML, like Gecko) Chrome/37.0.2062.94 Safari/537.36\"']\n",
      "['49', None, None, Timestamp('2018-11-29 18:09:01.796000'), 1041, 'paid', 'San Francisco-Oakland-Hayward, CA', 'Mozilla/5.0 (Windows NT 5.1; rv:31.0) Gecko/20100101 Firefox/31.0']\n",
      "['16', None, None, Timestamp('2018-11-29 18:11:00.796000'), 983, 'paid', 'Birmingham-Hoover, AL', '\"Mozilla/5.0 (Macintosh; Intel Mac OS X 10_9_4) AppleWebKit/537.77.4 (KHTML, like Gecko) Version/7.0.5 Safari/537.77.4\"']\n",
      "['82', None, None, Timestamp('2018-11-29 18:12:55.796000'), 1017, 'paid', 'Atlanta-Sandy Springs-Roswell, GA', '\"Mozilla/5.0 (Macintosh; Intel Mac OS X 10_9_3) AppleWebKit/537.36 (KHTML, like Gecko) Chrome/37.0.2062.94 Safari/537.36\"']\n",
      "['49', None, None, Timestamp('2018-11-29 18:13:02.796000'), 1041, 'paid', 'San Francisco-Oakland-Hayward, CA', 'Mozilla/5.0 (Windows NT 5.1; rv:31.0) Gecko/20100101 Firefox/31.0']\n",
      "['44', None, None, Timestamp('2018-11-29 18:13:45.796000'), 1069, 'paid', 'Waterloo-Cedar Falls, IA', 'Mozilla/5.0 (Macintosh; Intel Mac OS X 10.9; rv:31.0) Gecko/20100101 Firefox/31.0']\n",
      "['16', None, None, Timestamp('2018-11-29 18:14:44.796000'), 983, 'paid', 'Birmingham-Hoover, AL', '\"Mozilla/5.0 (Macintosh; Intel Mac OS X 10_9_4) AppleWebKit/537.77.4 (KHTML, like Gecko) Version/7.0.5 Safari/537.77.4\"']\n",
      "['82', None, None, Timestamp('2018-11-29 18:17:33.796000'), 1017, 'paid', 'Atlanta-Sandy Springs-Roswell, GA', '\"Mozilla/5.0 (Macintosh; Intel Mac OS X 10_9_3) AppleWebKit/537.36 (KHTML, like Gecko) Chrome/37.0.2062.94 Safari/537.36\"']\n",
      "['49', None, None, Timestamp('2018-11-29 18:18:09.796000'), 1041, 'paid', 'San Francisco-Oakland-Hayward, CA', 'Mozilla/5.0 (Windows NT 5.1; rv:31.0) Gecko/20100101 Firefox/31.0']\n",
      "['82', None, None, Timestamp('2018-11-29 18:21:12.796000'), 1017, 'paid', 'Atlanta-Sandy Springs-Roswell, GA', '\"Mozilla/5.0 (Macintosh; Intel Mac OS X 10_9_3) AppleWebKit/537.36 (KHTML, like Gecko) Chrome/37.0.2062.94 Safari/537.36\"']\n",
      "['49', None, None, Timestamp('2018-11-29 18:21:24.796000'), 1041, 'paid', 'San Francisco-Oakland-Hayward, CA', 'Mozilla/5.0 (Windows NT 5.1; rv:31.0) Gecko/20100101 Firefox/31.0']\n",
      "['16', None, None, Timestamp('2018-11-29 18:21:52.796000'), 983, 'paid', 'Birmingham-Hoover, AL', '\"Mozilla/5.0 (Macintosh; Intel Mac OS X 10_9_4) AppleWebKit/537.77.4 (KHTML, like Gecko) Version/7.0.5 Safari/537.77.4\"']\n",
      "['49', None, None, Timestamp('2018-11-29 18:24:29.796000'), 1041, 'paid', 'San Francisco-Oakland-Hayward, CA', 'Mozilla/5.0 (Windows NT 5.1; rv:31.0) Gecko/20100101 Firefox/31.0']\n",
      "['82', None, None, Timestamp('2018-11-29 18:24:38.796000'), 1017, 'paid', 'Atlanta-Sandy Springs-Roswell, GA', '\"Mozilla/5.0 (Macintosh; Intel Mac OS X 10_9_3) AppleWebKit/537.36 (KHTML, like Gecko) Chrome/37.0.2062.94 Safari/537.36\"']\n",
      "['16', None, None, Timestamp('2018-11-29 18:26:27.796000'), 983, 'paid', 'Birmingham-Hoover, AL', '\"Mozilla/5.0 (Macintosh; Intel Mac OS X 10_9_4) AppleWebKit/537.77.4 (KHTML, like Gecko) Version/7.0.5 Safari/537.77.4\"']\n",
      "['16', None, None, Timestamp('2018-11-29 18:26:53.796000'), 983, 'paid', 'Birmingham-Hoover, AL', '\"Mozilla/5.0 (Macintosh; Intel Mac OS X 10_9_4) AppleWebKit/537.77.4 (KHTML, like Gecko) Version/7.0.5 Safari/537.77.4\"']\n",
      "['82', None, None, Timestamp('2018-11-29 18:27:24.796000'), 1017, 'paid', 'Atlanta-Sandy Springs-Roswell, GA', '\"Mozilla/5.0 (Macintosh; Intel Mac OS X 10_9_3) AppleWebKit/537.36 (KHTML, like Gecko) Chrome/37.0.2062.94 Safari/537.36\"']\n",
      "['49', None, None, Timestamp('2018-11-29 18:28:34.796000'), 1041, 'paid', 'San Francisco-Oakland-Hayward, CA', 'Mozilla/5.0 (Windows NT 5.1; rv:31.0) Gecko/20100101 Firefox/31.0']\n",
      "['82', None, None, Timestamp('2018-11-29 18:29:50.796000'), 1017, 'paid', 'Atlanta-Sandy Springs-Roswell, GA', '\"Mozilla/5.0 (Macintosh; Intel Mac OS X 10_9_3) AppleWebKit/537.36 (KHTML, like Gecko) Chrome/37.0.2062.94 Safari/537.36\"']\n",
      "['16', None, None, Timestamp('2018-11-29 18:30:15.796000'), 983, 'paid', 'Birmingham-Hoover, AL', '\"Mozilla/5.0 (Macintosh; Intel Mac OS X 10_9_4) AppleWebKit/537.77.4 (KHTML, like Gecko) Version/7.0.5 Safari/537.77.4\"']\n",
      "['16', None, None, Timestamp('2018-11-29 18:33:04.796000'), 983, 'paid', 'Birmingham-Hoover, AL', '\"Mozilla/5.0 (Macintosh; Intel Mac OS X 10_9_4) AppleWebKit/537.77.4 (KHTML, like Gecko) Version/7.0.5 Safari/537.77.4\"']\n",
      "['82', None, None, Timestamp('2018-11-29 18:33:35.796000'), 1017, 'paid', 'Atlanta-Sandy Springs-Roswell, GA', '\"Mozilla/5.0 (Macintosh; Intel Mac OS X 10_9_3) AppleWebKit/537.36 (KHTML, like Gecko) Chrome/37.0.2062.94 Safari/537.36\"']\n",
      "['16', None, None, Timestamp('2018-11-29 18:37:25.796000'), 983, 'paid', 'Birmingham-Hoover, AL', '\"Mozilla/5.0 (Macintosh; Intel Mac OS X 10_9_4) AppleWebKit/537.77.4 (KHTML, like Gecko) Version/7.0.5 Safari/537.77.4\"']\n",
      "['82', None, None, Timestamp('2018-11-29 18:37:53.796000'), 1017, 'paid', 'Atlanta-Sandy Springs-Roswell, GA', '\"Mozilla/5.0 (Macintosh; Intel Mac OS X 10_9_3) AppleWebKit/537.36 (KHTML, like Gecko) Chrome/37.0.2062.94 Safari/537.36\"']\n",
      "['16', None, None, Timestamp('2018-11-29 18:41:09.796000'), 983, 'paid', 'Birmingham-Hoover, AL', '\"Mozilla/5.0 (Macintosh; Intel Mac OS X 10_9_4) AppleWebKit/537.77.4 (KHTML, like Gecko) Version/7.0.5 Safari/537.77.4\"']\n",
      "['82', None, None, Timestamp('2018-11-29 18:43:31.796000'), 1017, 'paid', 'Atlanta-Sandy Springs-Roswell, GA', '\"Mozilla/5.0 (Macintosh; Intel Mac OS X 10_9_3) AppleWebKit/537.36 (KHTML, like Gecko) Chrome/37.0.2062.94 Safari/537.36\"']\n",
      "['16', None, None, Timestamp('2018-11-29 18:46:10.796000'), 983, 'paid', 'Birmingham-Hoover, AL', '\"Mozilla/5.0 (Macintosh; Intel Mac OS X 10_9_4) AppleWebKit/537.77.4 (KHTML, like Gecko) Version/7.0.5 Safari/537.77.4\"']\n",
      "['82', None, None, Timestamp('2018-11-29 18:47:30.796000'), 1017, 'paid', 'Atlanta-Sandy Springs-Roswell, GA', '\"Mozilla/5.0 (Macintosh; Intel Mac OS X 10_9_3) AppleWebKit/537.36 (KHTML, like Gecko) Chrome/37.0.2062.94 Safari/537.36\"']\n",
      "['16', None, None, Timestamp('2018-11-29 18:50:54.796000'), 983, 'paid', 'Birmingham-Hoover, AL', '\"Mozilla/5.0 (Macintosh; Intel Mac OS X 10_9_4) AppleWebKit/537.77.4 (KHTML, like Gecko) Version/7.0.5 Safari/537.77.4\"']\n",
      "['82', None, None, Timestamp('2018-11-29 18:52:00.796000'), 1017, 'paid', 'Atlanta-Sandy Springs-Roswell, GA', '\"Mozilla/5.0 (Macintosh; Intel Mac OS X 10_9_3) AppleWebKit/537.36 (KHTML, like Gecko) Chrome/37.0.2062.94 Safari/537.36\"']\n",
      "['16', None, None, Timestamp('2018-11-29 18:55:24.796000'), 983, 'paid', 'Birmingham-Hoover, AL', '\"Mozilla/5.0 (Macintosh; Intel Mac OS X 10_9_4) AppleWebKit/537.77.4 (KHTML, like Gecko) Version/7.0.5 Safari/537.77.4\"']\n",
      "['82', None, None, Timestamp('2018-11-29 18:55:30.796000'), 1017, 'paid', 'Atlanta-Sandy Springs-Roswell, GA', '\"Mozilla/5.0 (Macintosh; Intel Mac OS X 10_9_3) AppleWebKit/537.36 (KHTML, like Gecko) Chrome/37.0.2062.94 Safari/537.36\"']\n",
      "['16', None, None, Timestamp('2018-11-29 18:58:33.796000'), 983, 'paid', 'Birmingham-Hoover, AL', '\"Mozilla/5.0 (Macintosh; Intel Mac OS X 10_9_4) AppleWebKit/537.77.4 (KHTML, like Gecko) Version/7.0.5 Safari/537.77.4\"']\n",
      "['82', None, None, Timestamp('2018-11-29 19:00:17.796000'), 1017, 'paid', 'Atlanta-Sandy Springs-Roswell, GA', '\"Mozilla/5.0 (Macintosh; Intel Mac OS X 10_9_3) AppleWebKit/537.36 (KHTML, like Gecko) Chrome/37.0.2062.94 Safari/537.36\"']\n",
      "['16', None, None, Timestamp('2018-11-29 19:01:40.796000'), 983, 'paid', 'Birmingham-Hoover, AL', '\"Mozilla/5.0 (Macintosh; Intel Mac OS X 10_9_4) AppleWebKit/537.77.4 (KHTML, like Gecko) Version/7.0.5 Safari/537.77.4\"']\n",
      "['82', None, None, Timestamp('2018-11-29 19:03:58.796000'), 1017, 'paid', 'Atlanta-Sandy Springs-Roswell, GA', '\"Mozilla/5.0 (Macintosh; Intel Mac OS X 10_9_3) AppleWebKit/537.36 (KHTML, like Gecko) Chrome/37.0.2062.94 Safari/537.36\"']\n",
      "['82', None, None, Timestamp('2018-11-29 19:04:44.796000'), 1017, 'paid', 'Atlanta-Sandy Springs-Roswell, GA', '\"Mozilla/5.0 (Macintosh; Intel Mac OS X 10_9_3) AppleWebKit/537.36 (KHTML, like Gecko) Chrome/37.0.2062.94 Safari/537.36\"']\n",
      "['16', None, None, Timestamp('2018-11-29 19:06:24.796000'), 983, 'paid', 'Birmingham-Hoover, AL', '\"Mozilla/5.0 (Macintosh; Intel Mac OS X 10_9_4) AppleWebKit/537.77.4 (KHTML, like Gecko) Version/7.0.5 Safari/537.77.4\"']\n",
      "['82', None, None, Timestamp('2018-11-29 19:08:41.796000'), 1017, 'paid', 'Atlanta-Sandy Springs-Roswell, GA', '\"Mozilla/5.0 (Macintosh; Intel Mac OS X 10_9_3) AppleWebKit/537.36 (KHTML, like Gecko) Chrome/37.0.2062.94 Safari/537.36\"']\n",
      "['82', None, None, Timestamp('2018-11-29 19:09:47.796000'), 1017, 'paid', 'Atlanta-Sandy Springs-Roswell, GA', '\"Mozilla/5.0 (Macintosh; Intel Mac OS X 10_9_3) AppleWebKit/537.36 (KHTML, like Gecko) Chrome/37.0.2062.94 Safari/537.36\"']\n",
      "['16', None, None, Timestamp('2018-11-29 19:11:39.796000'), 983, 'paid', 'Birmingham-Hoover, AL', '\"Mozilla/5.0 (Macintosh; Intel Mac OS X 10_9_4) AppleWebKit/537.77.4 (KHTML, like Gecko) Version/7.0.5 Safari/537.77.4\"']\n",
      "['82', None, None, Timestamp('2018-11-29 19:13:04.796000'), 1017, 'paid', 'Atlanta-Sandy Springs-Roswell, GA', '\"Mozilla/5.0 (Macintosh; Intel Mac OS X 10_9_3) AppleWebKit/537.36 (KHTML, like Gecko) Chrome/37.0.2062.94 Safari/537.36\"']\n",
      "['16', None, None, Timestamp('2018-11-29 19:14:56.796000'), 983, 'paid', 'Birmingham-Hoover, AL', '\"Mozilla/5.0 (Macintosh; Intel Mac OS X 10_9_4) AppleWebKit/537.77.4 (KHTML, like Gecko) Version/7.0.5 Safari/537.77.4\"']\n",
      "['82', None, None, Timestamp('2018-11-29 19:15:33.796000'), 1017, 'paid', 'Atlanta-Sandy Springs-Roswell, GA', '\"Mozilla/5.0 (Macintosh; Intel Mac OS X 10_9_3) AppleWebKit/537.36 (KHTML, like Gecko) Chrome/37.0.2062.94 Safari/537.36\"']\n",
      "['16', None, None, Timestamp('2018-11-29 19:20:07.796000'), 983, 'paid', 'Birmingham-Hoover, AL', '\"Mozilla/5.0 (Macintosh; Intel Mac OS X 10_9_4) AppleWebKit/537.77.4 (KHTML, like Gecko) Version/7.0.5 Safari/537.77.4\"']\n",
      "['82', None, None, Timestamp('2018-11-29 19:24:39.796000'), 1017, 'paid', 'Atlanta-Sandy Springs-Roswell, GA', '\"Mozilla/5.0 (Macintosh; Intel Mac OS X 10_9_3) AppleWebKit/537.36 (KHTML, like Gecko) Chrome/37.0.2062.94 Safari/537.36\"']\n",
      "['16', None, None, Timestamp('2018-11-29 19:26:31.796000'), 983, 'paid', 'Birmingham-Hoover, AL', '\"Mozilla/5.0 (Macintosh; Intel Mac OS X 10_9_4) AppleWebKit/537.77.4 (KHTML, like Gecko) Version/7.0.5 Safari/537.77.4\"']\n",
      "['16', None, None, Timestamp('2018-11-29 19:37:26.796000'), 983, 'paid', 'Birmingham-Hoover, AL', '\"Mozilla/5.0 (Macintosh; Intel Mac OS X 10_9_4) AppleWebKit/537.77.4 (KHTML, like Gecko) Version/7.0.5 Safari/537.77.4\"']\n",
      "['16', None, None, Timestamp('2018-11-29 19:40:17.796000'), 983, 'paid', 'Birmingham-Hoover, AL', '\"Mozilla/5.0 (Macintosh; Intel Mac OS X 10_9_4) AppleWebKit/537.77.4 (KHTML, like Gecko) Version/7.0.5 Safari/537.77.4\"']\n",
      "['16', None, None, Timestamp('2018-11-29 19:45:18.796000'), 983, 'paid', 'Birmingham-Hoover, AL', '\"Mozilla/5.0 (Macintosh; Intel Mac OS X 10_9_4) AppleWebKit/537.77.4 (KHTML, like Gecko) Version/7.0.5 Safari/537.77.4\"']\n",
      "['49', None, None, Timestamp('2018-11-29 20:06:02.796000'), 1041, 'paid', 'San Francisco-Oakland-Hayward, CA', 'Mozilla/5.0 (Windows NT 5.1; rv:31.0) Gecko/20100101 Firefox/31.0']\n",
      "['49', None, None, Timestamp('2018-11-29 20:08:58.796000'), 1041, 'paid', 'San Francisco-Oakland-Hayward, CA', 'Mozilla/5.0 (Windows NT 5.1; rv:31.0) Gecko/20100101 Firefox/31.0']\n",
      "['49', None, None, Timestamp('2018-11-29 20:11:07.796000'), 1041, 'paid', 'San Francisco-Oakland-Hayward, CA', 'Mozilla/5.0 (Windows NT 5.1; rv:31.0) Gecko/20100101 Firefox/31.0']\n",
      "['49', None, None, Timestamp('2018-11-29 20:14:33.796000'), 1041, 'paid', 'San Francisco-Oakland-Hayward, CA', 'Mozilla/5.0 (Windows NT 5.1; rv:31.0) Gecko/20100101 Firefox/31.0']\n",
      "['49', None, None, Timestamp('2018-11-29 20:18:35.796000'), 1041, 'paid', 'San Francisco-Oakland-Hayward, CA', 'Mozilla/5.0 (Windows NT 5.1; rv:31.0) Gecko/20100101 Firefox/31.0']\n",
      "['49', None, None, Timestamp('2018-11-29 20:21:41.796000'), 1041, 'paid', 'San Francisco-Oakland-Hayward, CA', 'Mozilla/5.0 (Windows NT 5.1; rv:31.0) Gecko/20100101 Firefox/31.0']\n",
      "['49', None, None, Timestamp('2018-11-29 20:25:19.796000'), 1041, 'paid', 'San Francisco-Oakland-Hayward, CA', 'Mozilla/5.0 (Windows NT 5.1; rv:31.0) Gecko/20100101 Firefox/31.0']\n",
      "['49', None, None, Timestamp('2018-11-29 20:29:23.796000'), 1041, 'paid', 'San Francisco-Oakland-Hayward, CA', 'Mozilla/5.0 (Windows NT 5.1; rv:31.0) Gecko/20100101 Firefox/31.0']\n",
      "['49', None, None, Timestamp('2018-11-29 20:34:33.796000'), 1041, 'paid', 'San Francisco-Oakland-Hayward, CA', 'Mozilla/5.0 (Windows NT 5.1; rv:31.0) Gecko/20100101 Firefox/31.0']\n",
      "['80', None, None, Timestamp('2018-11-29 20:38:41.796000'), 1065, 'paid', 'Portland-South Portland, ME', '\"Mozilla/5.0 (Macintosh; Intel Mac OS X 10_9_4) AppleWebKit/537.36 (KHTML, like Gecko) Chrome/36.0.1985.143 Safari/537.36\"']\n",
      "['49', None, None, Timestamp('2018-11-29 20:39:10.796000'), 1041, 'paid', 'San Francisco-Oakland-Hayward, CA', 'Mozilla/5.0 (Windows NT 5.1; rv:31.0) Gecko/20100101 Firefox/31.0']\n",
      "['80', None, None, Timestamp('2018-11-29 20:43:06.796000'), 1065, 'paid', 'Portland-South Portland, ME', '\"Mozilla/5.0 (Macintosh; Intel Mac OS X 10_9_4) AppleWebKit/537.36 (KHTML, like Gecko) Chrome/36.0.1985.143 Safari/537.36\"']\n",
      "['49', None, None, Timestamp('2018-11-29 20:43:07.796000'), 1041, 'paid', 'San Francisco-Oakland-Hayward, CA', 'Mozilla/5.0 (Windows NT 5.1; rv:31.0) Gecko/20100101 Firefox/31.0']\n",
      "['49', None, None, Timestamp('2018-11-29 20:46:47.796000'), 1041, 'paid', 'San Francisco-Oakland-Hayward, CA', 'Mozilla/5.0 (Windows NT 5.1; rv:31.0) Gecko/20100101 Firefox/31.0']\n",
      "['80', None, None, Timestamp('2018-11-29 20:46:54.796000'), 1065, 'paid', 'Portland-South Portland, ME', '\"Mozilla/5.0 (Macintosh; Intel Mac OS X 10_9_4) AppleWebKit/537.36 (KHTML, like Gecko) Chrome/36.0.1985.143 Safari/537.36\"']\n",
      "['49', None, None, Timestamp('2018-11-29 20:51:10.796000'), 1041, 'paid', 'San Francisco-Oakland-Hayward, CA', 'Mozilla/5.0 (Windows NT 5.1; rv:31.0) Gecko/20100101 Firefox/31.0']\n",
      "['80', None, None, Timestamp('2018-11-29 20:52:05.796000'), 1065, 'paid', 'Portland-South Portland, ME', '\"Mozilla/5.0 (Macintosh; Intel Mac OS X 10_9_4) AppleWebKit/537.36 (KHTML, like Gecko) Chrome/36.0.1985.143 Safari/537.36\"']\n",
      "['49', None, None, Timestamp('2018-11-29 20:54:07.796000'), 1041, 'paid', 'San Francisco-Oakland-Hayward, CA', 'Mozilla/5.0 (Windows NT 5.1; rv:31.0) Gecko/20100101 Firefox/31.0']\n",
      "['80', None, None, Timestamp('2018-11-29 20:54:41.796000'), 1065, 'paid', 'Portland-South Portland, ME', '\"Mozilla/5.0 (Macintosh; Intel Mac OS X 10_9_4) AppleWebKit/537.36 (KHTML, like Gecko) Chrome/36.0.1985.143 Safari/537.36\"']\n",
      "['49', None, None, Timestamp('2018-11-29 20:58:44.796000'), 1041, 'paid', 'San Francisco-Oakland-Hayward, CA', 'Mozilla/5.0 (Windows NT 5.1; rv:31.0) Gecko/20100101 Firefox/31.0']\n",
      "['80', None, None, Timestamp('2018-11-29 21:00:03.796000'), 1065, 'paid', 'Portland-South Portland, ME', '\"Mozilla/5.0 (Macintosh; Intel Mac OS X 10_9_4) AppleWebKit/537.36 (KHTML, like Gecko) Chrome/36.0.1985.143 Safari/537.36\"']\n",
      "['49', None, None, Timestamp('2018-11-29 21:01:07.796000'), 1041, 'paid', 'San Francisco-Oakland-Hayward, CA', 'Mozilla/5.0 (Windows NT 5.1; rv:31.0) Gecko/20100101 Firefox/31.0']\n",
      "['49', None, None, Timestamp('2018-11-29 21:03:20.796000'), 1041, 'paid', 'San Francisco-Oakland-Hayward, CA', 'Mozilla/5.0 (Windows NT 5.1; rv:31.0) Gecko/20100101 Firefox/31.0']\n",
      "['80', None, None, Timestamp('2018-11-29 21:06:03.796000'), 1065, 'paid', 'Portland-South Portland, ME', '\"Mozilla/5.0 (Macintosh; Intel Mac OS X 10_9_4) AppleWebKit/537.36 (KHTML, like Gecko) Chrome/36.0.1985.143 Safari/537.36\"']\n",
      "['49', None, None, Timestamp('2018-11-29 21:06:35.796000'), 1041, 'paid', 'San Francisco-Oakland-Hayward, CA', 'Mozilla/5.0 (Windows NT 5.1; rv:31.0) Gecko/20100101 Firefox/31.0']\n",
      "['80', None, None, Timestamp('2018-11-29 21:09:20.796000'), 1065, 'paid', 'Portland-South Portland, ME', '\"Mozilla/5.0 (Macintosh; Intel Mac OS X 10_9_4) AppleWebKit/537.36 (KHTML, like Gecko) Chrome/36.0.1985.143 Safari/537.36\"']\n",
      "['49', None, None, Timestamp('2018-11-29 21:12:56.796000'), 1041, 'paid', 'San Francisco-Oakland-Hayward, CA', 'Mozilla/5.0 (Windows NT 5.1; rv:31.0) Gecko/20100101 Firefox/31.0']\n",
      "['55', None, None, Timestamp('2018-11-29 21:14:16.796000'), 1008, 'free', 'Minneapolis-St. Paul-Bloomington, MN-WI', '\"Mozilla/5.0 (Macintosh; Intel Mac OS X 10_9_4) AppleWebKit/537.78.2 (KHTML, like Gecko) Version/7.0.6 Safari/537.78.2\"']\n",
      "['80', None, None, Timestamp('2018-11-29 21:14:49.796000'), 1065, 'paid', 'Portland-South Portland, ME', '\"Mozilla/5.0 (Macintosh; Intel Mac OS X 10_9_4) AppleWebKit/537.36 (KHTML, like Gecko) Chrome/36.0.1985.143 Safari/537.36\"']\n",
      "['55', None, None, Timestamp('2018-11-29 21:16:53.796000'), 1008, 'free', 'Minneapolis-St. Paul-Bloomington, MN-WI', '\"Mozilla/5.0 (Macintosh; Intel Mac OS X 10_9_4) AppleWebKit/537.78.2 (KHTML, like Gecko) Version/7.0.6 Safari/537.78.2\"']\n",
      "['49', None, None, Timestamp('2018-11-29 21:17:30.796000'), 1041, 'paid', 'San Francisco-Oakland-Hayward, CA', 'Mozilla/5.0 (Windows NT 5.1; rv:31.0) Gecko/20100101 Firefox/31.0']\n",
      "['80', None, None, Timestamp('2018-11-29 21:19:18.796000'), 1065, 'paid', 'Portland-South Portland, ME', '\"Mozilla/5.0 (Macintosh; Intel Mac OS X 10_9_4) AppleWebKit/537.36 (KHTML, like Gecko) Chrome/36.0.1985.143 Safari/537.36\"']\n",
      "['49', None, None, Timestamp('2018-11-29 21:20:57.796000'), 1041, 'paid', 'San Francisco-Oakland-Hayward, CA', 'Mozilla/5.0 (Windows NT 5.1; rv:31.0) Gecko/20100101 Firefox/31.0']\n",
      "['55', None, None, Timestamp('2018-11-29 21:21:47.796000'), 1008, 'free', 'Minneapolis-St. Paul-Bloomington, MN-WI', '\"Mozilla/5.0 (Macintosh; Intel Mac OS X 10_9_4) AppleWebKit/537.78.2 (KHTML, like Gecko) Version/7.0.6 Safari/537.78.2\"']\n",
      "['80', None, None, Timestamp('2018-11-29 21:22:18.796000'), 1065, 'paid', 'Portland-South Portland, ME', '\"Mozilla/5.0 (Macintosh; Intel Mac OS X 10_9_4) AppleWebKit/537.36 (KHTML, like Gecko) Chrome/36.0.1985.143 Safari/537.36\"']\n",
      "['55', None, None, Timestamp('2018-11-29 21:24:03.796000'), 1008, 'free', 'Minneapolis-St. Paul-Bloomington, MN-WI', '\"Mozilla/5.0 (Macintosh; Intel Mac OS X 10_9_4) AppleWebKit/537.78.2 (KHTML, like Gecko) Version/7.0.6 Safari/537.78.2\"']\n",
      "['49', None, None, Timestamp('2018-11-29 21:24:35.796000'), 1041, 'paid', 'San Francisco-Oakland-Hayward, CA', 'Mozilla/5.0 (Windows NT 5.1; rv:31.0) Gecko/20100101 Firefox/31.0']\n",
      "['80', None, None, Timestamp('2018-11-29 21:27:00.796000'), 1065, 'paid', 'Portland-South Portland, ME', '\"Mozilla/5.0 (Macintosh; Intel Mac OS X 10_9_4) AppleWebKit/537.36 (KHTML, like Gecko) Chrome/36.0.1985.143 Safari/537.36\"']\n",
      "['49', None, None, Timestamp('2018-11-29 21:27:48.796000'), 1041, 'paid', 'San Francisco-Oakland-Hayward, CA', 'Mozilla/5.0 (Windows NT 5.1; rv:31.0) Gecko/20100101 Firefox/31.0']\n",
      "['12', None, None, Timestamp('2018-11-29 21:27:50.796000'), 967, 'free', 'New York-Newark-Jersey City, NY-NJ-PA', 'Mozilla/5.0 (Windows NT 6.1; rv:31.0) Gecko/20100101 Firefox/31.0']\n",
      "['80', None, None, Timestamp('2018-11-29 21:30:47.796000'), 1065, 'paid', 'Portland-South Portland, ME', '\"Mozilla/5.0 (Macintosh; Intel Mac OS X 10_9_4) AppleWebKit/537.36 (KHTML, like Gecko) Chrome/36.0.1985.143 Safari/537.36\"']\n",
      "['49', None, None, Timestamp('2018-11-29 21:31:34.796000'), 1041, 'paid', 'San Francisco-Oakland-Hayward, CA', 'Mozilla/5.0 (Windows NT 5.1; rv:31.0) Gecko/20100101 Firefox/31.0']\n",
      "['80', None, None, Timestamp('2018-11-29 21:34:25.796000'), 1065, 'paid', 'Portland-South Portland, ME', '\"Mozilla/5.0 (Macintosh; Intel Mac OS X 10_9_4) AppleWebKit/537.36 (KHTML, like Gecko) Chrome/36.0.1985.143 Safari/537.36\"']\n",
      "['9', None, None, Timestamp('2018-11-29 21:34:28.796000'), 1010, 'free', 'Eureka-Arcata-Fortuna, CA', 'Mozilla/5.0 (Windows NT 6.1; WOW64; Trident/7.0; rv:11.0) like Gecko']\n",
      "['80', None, None, Timestamp('2018-11-29 21:38:08.796000'), 1065, 'paid', 'Portland-South Portland, ME', '\"Mozilla/5.0 (Macintosh; Intel Mac OS X 10_9_4) AppleWebKit/537.36 (KHTML, like Gecko) Chrome/36.0.1985.143 Safari/537.36\"']\n",
      "['80', None, None, Timestamp('2018-11-29 21:42:10.796000'), 1065, 'paid', 'Portland-South Portland, ME', '\"Mozilla/5.0 (Macintosh; Intel Mac OS X 10_9_4) AppleWebKit/537.36 (KHTML, like Gecko) Chrome/36.0.1985.143 Safari/537.36\"']\n",
      "['80', None, None, Timestamp('2018-11-29 21:46:49.796000'), 1065, 'paid', 'Portland-South Portland, ME', '\"Mozilla/5.0 (Macintosh; Intel Mac OS X 10_9_4) AppleWebKit/537.36 (KHTML, like Gecko) Chrome/36.0.1985.143 Safari/537.36\"']\n",
      "['80', None, None, Timestamp('2018-11-29 21:52:57.796000'), 1065, 'paid', 'Portland-South Portland, ME', '\"Mozilla/5.0 (Macintosh; Intel Mac OS X 10_9_4) AppleWebKit/537.36 (KHTML, like Gecko) Chrome/36.0.1985.143 Safari/537.36\"']\n",
      "['80', None, None, Timestamp('2018-11-29 21:57:16.796000'), 1065, 'paid', 'Portland-South Portland, ME', '\"Mozilla/5.0 (Macintosh; Intel Mac OS X 10_9_4) AppleWebKit/537.36 (KHTML, like Gecko) Chrome/36.0.1985.143 Safari/537.36\"']\n",
      "['80', None, None, Timestamp('2018-11-29 22:00:31.796000'), 1065, 'paid', 'Portland-South Portland, ME', '\"Mozilla/5.0 (Macintosh; Intel Mac OS X 10_9_4) AppleWebKit/537.36 (KHTML, like Gecko) Chrome/36.0.1985.143 Safari/537.36\"']\n",
      "['80', None, None, Timestamp('2018-11-29 22:06:36.796000'), 1065, 'paid', 'Portland-South Portland, ME', '\"Mozilla/5.0 (Macintosh; Intel Mac OS X 10_9_4) AppleWebKit/537.36 (KHTML, like Gecko) Chrome/36.0.1985.143 Safari/537.36\"']\n",
      "['80', None, None, Timestamp('2018-11-29 22:09:57.796000'), 1065, 'paid', 'Portland-South Portland, ME', '\"Mozilla/5.0 (Macintosh; Intel Mac OS X 10_9_4) AppleWebKit/537.36 (KHTML, like Gecko) Chrome/36.0.1985.143 Safari/537.36\"']\n",
      "['22', None, None, Timestamp('2018-11-29 22:10:17.796000'), 21, 'free', 'Philadelphia-Camden-Wilmington, PA-NJ-DE-MD', '\"Mozilla/5.0 (Windows NT 6.1; WOW64) AppleWebKit/537.36 (KHTML, like Gecko) Chrome/36.0.1985.143 Safari/537.36\"']\n",
      "['80', None, None, Timestamp('2018-11-29 22:13:15.796000'), 1065, 'paid', 'Portland-South Portland, ME', '\"Mozilla/5.0 (Macintosh; Intel Mac OS X 10_9_4) AppleWebKit/537.36 (KHTML, like Gecko) Chrome/36.0.1985.143 Safari/537.36\"']\n",
      "['22', None, None, Timestamp('2018-11-29 22:13:38.796000'), 21, 'free', 'Philadelphia-Camden-Wilmington, PA-NJ-DE-MD', '\"Mozilla/5.0 (Windows NT 6.1; WOW64) AppleWebKit/537.36 (KHTML, like Gecko) Chrome/36.0.1985.143 Safari/537.36\"']\n",
      "['80', None, None, Timestamp('2018-11-29 22:17:38.796000'), 1065, 'paid', 'Portland-South Portland, ME', '\"Mozilla/5.0 (Macintosh; Intel Mac OS X 10_9_4) AppleWebKit/537.36 (KHTML, like Gecko) Chrome/36.0.1985.143 Safari/537.36\"']\n",
      "['80', None, None, Timestamp('2018-11-29 22:21:31.796000'), 1065, 'paid', 'Portland-South Portland, ME', '\"Mozilla/5.0 (Macintosh; Intel Mac OS X 10_9_4) AppleWebKit/537.36 (KHTML, like Gecko) Chrome/36.0.1985.143 Safari/537.36\"']\n",
      "['80', None, None, Timestamp('2018-11-29 22:27:31.796000'), 1065, 'paid', 'Portland-South Portland, ME', '\"Mozilla/5.0 (Macintosh; Intel Mac OS X 10_9_4) AppleWebKit/537.36 (KHTML, like Gecko) Chrome/36.0.1985.143 Safari/537.36\"']\n",
      "['80', None, None, Timestamp('2018-11-29 22:32:49.796000'), 1065, 'paid', 'Portland-South Portland, ME', '\"Mozilla/5.0 (Macintosh; Intel Mac OS X 10_9_4) AppleWebKit/537.36 (KHTML, like Gecko) Chrome/36.0.1985.143 Safari/537.36\"']\n",
      "['80', None, None, Timestamp('2018-11-29 22:35:44.796000'), 1065, 'paid', 'Portland-South Portland, ME', '\"Mozilla/5.0 (Macintosh; Intel Mac OS X 10_9_4) AppleWebKit/537.36 (KHTML, like Gecko) Chrome/36.0.1985.143 Safari/537.36\"']\n",
      "['80', None, None, Timestamp('2018-11-29 22:39:38.796000'), 1065, 'paid', 'Portland-South Portland, ME', '\"Mozilla/5.0 (Macintosh; Intel Mac OS X 10_9_4) AppleWebKit/537.36 (KHTML, like Gecko) Chrome/36.0.1985.143 Safari/537.36\"']\n",
      "['80', None, None, Timestamp('2018-11-29 22:42:52.796000'), 1065, 'paid', 'Portland-South Portland, ME', '\"Mozilla/5.0 (Macintosh; Intel Mac OS X 10_9_4) AppleWebKit/537.36 (KHTML, like Gecko) Chrome/36.0.1985.143 Safari/537.36\"']\n",
      "['80', None, None, Timestamp('2018-11-29 22:46:23.796000'), 1065, 'paid', 'Portland-South Portland, ME', '\"Mozilla/5.0 (Macintosh; Intel Mac OS X 10_9_4) AppleWebKit/537.36 (KHTML, like Gecko) Chrome/36.0.1985.143 Safari/537.36\"']\n",
      "['80', None, None, Timestamp('2018-11-29 22:50:27.796000'), 1065, 'paid', 'Portland-South Portland, ME', '\"Mozilla/5.0 (Macintosh; Intel Mac OS X 10_9_4) AppleWebKit/537.36 (KHTML, like Gecko) Chrome/36.0.1985.143 Safari/537.36\"']\n",
      "['74', None, None, Timestamp('2018-11-29 22:51:18.796000'), 1007, 'free', 'Youngstown-Warren-Boardman, OH-PA', '\"Mozilla/5.0 (Windows NT 6.1; WOW64) AppleWebKit/537.36 (KHTML, like Gecko) Chrome/36.0.1985.143 Safari/537.36\"']\n",
      "['80', None, None, Timestamp('2018-11-29 22:53:32.796000'), 1065, 'paid', 'Portland-South Portland, ME', '\"Mozilla/5.0 (Macintosh; Intel Mac OS X 10_9_4) AppleWebKit/537.36 (KHTML, like Gecko) Chrome/36.0.1985.143 Safari/537.36\"']\n",
      "['80', None, None, Timestamp('2018-11-29 22:57:22.796000'), 1065, 'paid', 'Portland-South Portland, ME', '\"Mozilla/5.0 (Macintosh; Intel Mac OS X 10_9_4) AppleWebKit/537.36 (KHTML, like Gecko) Chrome/36.0.1985.143 Safari/537.36\"']\n",
      "['80', None, None, Timestamp('2018-11-29 23:02:05.796000'), 1065, 'paid', 'Portland-South Portland, ME', '\"Mozilla/5.0 (Macintosh; Intel Mac OS X 10_9_4) AppleWebKit/537.36 (KHTML, like Gecko) Chrome/36.0.1985.143 Safari/537.36\"']\n",
      "['80', None, None, Timestamp('2018-11-29 23:05:13.796000'), 1065, 'paid', 'Portland-South Portland, ME', '\"Mozilla/5.0 (Macintosh; Intel Mac OS X 10_9_4) AppleWebKit/537.36 (KHTML, like Gecko) Chrome/36.0.1985.143 Safari/537.36\"']\n",
      "['89', None, None, Timestamp('2018-11-29 23:18:35.796000'), 1029, 'free', 'Cedar Rapids, IA', '\"Mozilla/5.0 (Macintosh; Intel Mac OS X 10_8_5) AppleWebKit/537.36 (KHTML, like Gecko) Chrome/36.0.1985.125 Safari/537.36\"']\n"
     ]
    }
   ],
   "source": [
    "\n",
    "#if results is true --> put result values into variables\n",
    "if results: \n",
    "    songid, artistid = results\n",
    "else: \n",
    "    songid, artistid = None, None\n",
    "\n",
    "print(songid, artistid)\n",
    "\n",
    "\n",
    "# prepare array songplay_data\n",
    "for index, row in df.iterrows():\n",
    "    songplay_data = [row.userId, songid, artistid, pd.to_datetime(row.ts, unit='ms'), row.sessionId, row.level, row.location, row.userAgent]\n",
    "    print(songplay_data)\n",
    "    "
   ]
  },
  {
   "cell_type": "code",
   "execution_count": 45,
   "metadata": {
    "collapsed": false,
    "jupyter": {
     "outputs_hidden": false
    },
    "pycharm": {
     "name": "#%%\n"
    }
   },
   "outputs": [
    {
     "ename": "IndentationError",
     "evalue": "unindent does not match any outer indentation level (<tokenize>, line 24)",
     "output_type": "error",
     "traceback": [
      "\u001B[0;36m  File \u001B[0;32m\"<tokenize>\"\u001B[0;36m, line \u001B[0;32m24\u001B[0m\n\u001B[0;31m    songplay_data = [row.userId, songid, artistid, pd.to_datetime(row.ts, unit='ms'), row.sessionId, row.level, row.location, row.userAgent]\u001B[0m\n\u001B[0m    ^\u001B[0m\n\u001B[0;31mIndentationError\u001B[0m\u001B[0;31m:\u001B[0m unindent does not match any outer indentation level\n"
     ]
    }
   ],
   "source": [
    "songplay_table_insert_INSERTintoSQL_QUERIES= \"\"\"\n",
    "INSERT INTO f_songplays (user_id, song_id, artist_id, start_time, session_id, level, location, user_agent)\n",
    "            values (%s, %s, %s, %s, %s, %s, %s, %s)\n",
    "            ON CONFLICT (songplay_id)\n",
    "            DO NOTHING;\n",
    "\"\"\"\n",
    "\n",
    "for index, row in df.iterrows():\n",
    "\n",
    "    # get songid and artistid from song and artist tables\n",
    "        cur.execute(song_select, (row.song, row.artist, row.length))\n",
    "\n",
    "    # fetch all item out of cursor object into results object\n",
    "        results = cur.fetchone()\n",
    "        \n",
    "    # if results is true --> put result values into variables\n",
    "        if results:\n",
    "            songid, artistid = results\n",
    "        else:\n",
    "            songid, artistid = None, None\n",
    " \n",
    "    # insert songplay record\n",
    "    songplay_data = [row.userId, songid, artistid, pd.to_datetime(row.ts, unit='ms'), row.sessionId, row.level, row.location, row.userAgent]\n",
    "    cur.execute(songplay_table_insert, songplay_data)\n",
    "    conn.commit()\n",
    "print(songplay_data)\n",
    "\n"
   ]
  },
  {
   "cell_type": "raw",
   "metadata": {},
   "source": [
    "Run `test.ipynb` to see if you've successfully added records to this table.\n"
   ]
  },
  {
   "cell_type": "markdown",
   "metadata": {},
   "source": [
    "# Close Connection to Sparkify Database"
   ]
  },
  {
   "cell_type": "code",
   "execution_count": 46,
   "metadata": {},
   "outputs": [],
   "source": [
    "conn.close()"
   ]
  },
  {
   "cell_type": "markdown",
   "metadata": {},
   "source": [
    "# Implement `etl.py`\n",
    "Use what you've completed in this notebook to implement `etl.py`."
   ]
  },
  {
   "cell_type": "code",
   "execution_count": null,
   "metadata": {},
   "outputs": [],
   "source": []
  }
 ],
 "metadata": {
  "kernelspec": {
   "display_name": "Python 3",
   "language": "python",
   "name": "python3"
  },
  "language_info": {
   "codemirror_mode": {
    "name": "ipython",
    "version": 3
   },
   "file_extension": ".py",
   "mimetype": "text/x-python",
   "name": "python",
   "nbconvert_exporter": "python",
   "pygments_lexer": "ipython3",
   "version": "3.8.2"
  }
 },
 "nbformat": 4,
 "nbformat_minor": 4
}